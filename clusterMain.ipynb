{
 "cells": [
  {
   "cell_type": "markdown",
   "metadata": {},
   "source": [
    "### This notebook clusters teh consumer spending to cluster states by similar profiles"
   ]
  },
  {
   "cell_type": "code",
   "execution_count": 105,
   "metadata": {},
   "outputs": [],
   "source": [
    "# Required imports\n",
    "import os\n",
    "import numpy as np\n",
    "import pandas as pd\n",
    "import hvplot.pandas\n",
    "from pathlib import Path\n",
    "from sklearn.cluster import KMeans\n",
    "from sklearn.preprocessing import StandardScaler, OneHotEncoder\n",
    "import warnings\n",
    "warnings.filterwarnings(\"ignore\")"
   ]
  },
  {
   "cell_type": "markdown",
   "metadata": {},
   "source": [
    "## Load and read foodprice.csv to get desired columns"
   ]
  },
  {
   "cell_type": "code",
   "execution_count": 106,
   "metadata": {},
   "outputs": [
    {
     "data": {
      "text/html": [
       "<div>\n",
       "<style scoped>\n",
       "    .dataframe tbody tr th:only-of-type {\n",
       "        vertical-align: middle;\n",
       "    }\n",
       "\n",
       "    .dataframe tbody tr th {\n",
       "        vertical-align: top;\n",
       "    }\n",
       "\n",
       "    .dataframe thead th {\n",
       "        text-align: right;\n",
       "    }\n",
       "</style>\n",
       "<table border=\"1\" class=\"dataframe\">\n",
       "  <thead>\n",
       "    <tr style=\"text-align: right;\">\n",
       "      <th></th>\n",
       "      <th>Cereals-and-bakery-products</th>\n",
       "      <th>Meats,-poultry,-fish,-and-eggs</th>\n",
       "      <th>Dairy-and-related-products</th>\n",
       "      <th>Fruits-and-vegetables</th>\n",
       "      <th>Other-food-at-home</th>\n",
       "      <th>Date</th>\n",
       "    </tr>\n",
       "  </thead>\n",
       "  <tbody>\n",
       "    <tr>\n",
       "      <th>0</th>\n",
       "      <td>79.7</td>\n",
       "      <td>90.4</td>\n",
       "      <td>87.3</td>\n",
       "      <td>76.5</td>\n",
       "      <td>83.0</td>\n",
       "      <td>1980-01-01</td>\n",
       "    </tr>\n",
       "    <tr>\n",
       "      <th>1</th>\n",
       "      <td>80.6</td>\n",
       "      <td>89.7</td>\n",
       "      <td>87.8</td>\n",
       "      <td>76.0</td>\n",
       "      <td>84.3</td>\n",
       "      <td>1980-02-01</td>\n",
       "    </tr>\n",
       "    <tr>\n",
       "      <th>2</th>\n",
       "      <td>81.2</td>\n",
       "      <td>90.3</td>\n",
       "      <td>88.1</td>\n",
       "      <td>77.4</td>\n",
       "      <td>85.5</td>\n",
       "      <td>1980-03-01</td>\n",
       "    </tr>\n",
       "    <tr>\n",
       "      <th>3</th>\n",
       "      <td>82.4</td>\n",
       "      <td>89.3</td>\n",
       "      <td>88.9</td>\n",
       "      <td>80.2</td>\n",
       "      <td>86.4</td>\n",
       "      <td>1980-04-01</td>\n",
       "    </tr>\n",
       "    <tr>\n",
       "      <th>4</th>\n",
       "      <td>83.2</td>\n",
       "      <td>88.0</td>\n",
       "      <td>90.5</td>\n",
       "      <td>82.1</td>\n",
       "      <td>87.3</td>\n",
       "      <td>1980-05-01</td>\n",
       "    </tr>\n",
       "  </tbody>\n",
       "</table>\n",
       "</div>"
      ],
      "text/plain": [
       "   Cereals-and-bakery-products  Meats,-poultry,-fish,-and-eggs  \\\n",
       "0                         79.7                            90.4   \n",
       "1                         80.6                            89.7   \n",
       "2                         81.2                            90.3   \n",
       "3                         82.4                            89.3   \n",
       "4                         83.2                            88.0   \n",
       "\n",
       "   Dairy-and-related-products  Fruits-and-vegetables  Other-food-at-home  \\\n",
       "0                        87.3                   76.5                83.0   \n",
       "1                        87.8                   76.0                84.3   \n",
       "2                        88.1                   77.4                85.5   \n",
       "3                        88.9                   80.2                86.4   \n",
       "4                        90.5                   82.1                87.3   \n",
       "\n",
       "         Date  \n",
       "0  1980-01-01  \n",
       "1  1980-02-01  \n",
       "2  1980-03-01  \n",
       "3  1980-04-01  \n",
       "4  1980-05-01  "
      ]
     },
     "execution_count": 106,
     "metadata": {},
     "output_type": "execute_result"
    }
   ],
   "source": [
    "cpiDf = pd.read_csv(\n",
    "    Path(\"resources/foodPrice.csv\")\n",
    ")\n",
    "cpiDf.head()"
   ]
  },
  {
   "cell_type": "code",
   "execution_count": 107,
   "metadata": {},
   "outputs": [],
   "source": [
    "cpiDf.rename({'Dairy-and-related-products': 'Dairy-products'},axis='columns',inplace = True)\n",
    "cats = cpiDf.columns.to_list()\n",
    "cats = [i.replace('-',' ') for i in cats if i != 'Date']"
   ]
  },
  {
   "cell_type": "markdown",
   "metadata": {},
   "source": [
    "## Reshape data into shape for easier clustering"
   ]
  },
  {
   "cell_type": "code",
   "execution_count": 108,
   "metadata": {},
   "outputs": [
    {
     "data": {
      "text/html": [
       "<div>\n",
       "<style scoped>\n",
       "    .dataframe tbody tr th:only-of-type {\n",
       "        vertical-align: middle;\n",
       "    }\n",
       "\n",
       "    .dataframe tbody tr th {\n",
       "        vertical-align: top;\n",
       "    }\n",
       "\n",
       "    .dataframe thead th {\n",
       "        text-align: right;\n",
       "    }\n",
       "</style>\n",
       "<table border=\"1\" class=\"dataframe\">\n",
       "  <thead>\n",
       "    <tr style=\"text-align: right;\">\n",
       "      <th></th>\n",
       "      <th>City</th>\n",
       "      <th>Cereals and bakery products (2005)</th>\n",
       "      <th>Cereals and bakery products (2006)</th>\n",
       "      <th>Cereals and bakery products (2007)</th>\n",
       "      <th>Cereals and bakery products (2008)</th>\n",
       "      <th>Cereals and bakery products (2009)</th>\n",
       "      <th>Cereals and bakery products (2010)</th>\n",
       "      <th>Cereals and bakery products (2011)</th>\n",
       "      <th>Cereals and bakery products (2012)</th>\n",
       "      <th>Cereals and bakery products (2013)</th>\n",
       "      <th>...</th>\n",
       "      <th>Other food at home (2013)</th>\n",
       "      <th>Other food at home (2014)</th>\n",
       "      <th>Other food at home (2015)</th>\n",
       "      <th>Other food at home (2016)</th>\n",
       "      <th>Other food at home (2017)</th>\n",
       "      <th>Other food at home (2018)</th>\n",
       "      <th>Other food at home (2019)</th>\n",
       "      <th>Other food at home (2020)</th>\n",
       "      <th>Other food at home (2021)</th>\n",
       "      <th>Other food at home (2022)</th>\n",
       "    </tr>\n",
       "  </thead>\n",
       "  <tbody>\n",
       "    <tr>\n",
       "      <th>0</th>\n",
       "      <td>Chicago</td>\n",
       "      <td>473.0</td>\n",
       "      <td>491.0</td>\n",
       "      <td>537.0</td>\n",
       "      <td>561.0</td>\n",
       "      <td>584.0</td>\n",
       "      <td>615.0</td>\n",
       "      <td>602.0</td>\n",
       "      <td>596.0</td>\n",
       "      <td>664.0</td>\n",
       "      <td>...</td>\n",
       "      <td>1598.0</td>\n",
       "      <td>1652.0</td>\n",
       "      <td>1578.0</td>\n",
       "      <td>1562.0</td>\n",
       "      <td>1595.0</td>\n",
       "      <td>1666.0</td>\n",
       "      <td>1777.0</td>\n",
       "      <td>2119.0</td>\n",
       "      <td>2174.0</td>\n",
       "      <td>2035.0</td>\n",
       "    </tr>\n",
       "    <tr>\n",
       "      <th>1</th>\n",
       "      <td>Detroit</td>\n",
       "      <td>545.0</td>\n",
       "      <td>527.0</td>\n",
       "      <td>579.0</td>\n",
       "      <td>628.0</td>\n",
       "      <td>540.0</td>\n",
       "      <td>546.0</td>\n",
       "      <td>573.0</td>\n",
       "      <td>583.0</td>\n",
       "      <td>618.0</td>\n",
       "      <td>...</td>\n",
       "      <td>1748.0</td>\n",
       "      <td>1691.0</td>\n",
       "      <td>1400.0</td>\n",
       "      <td>1422.0</td>\n",
       "      <td>1463.0</td>\n",
       "      <td>1626.0</td>\n",
       "      <td>1636.0</td>\n",
       "      <td>1762.0</td>\n",
       "      <td>1887.0</td>\n",
       "      <td>2051.0</td>\n",
       "    </tr>\n",
       "    <tr>\n",
       "      <th>2</th>\n",
       "      <td>Minneapolis-St.Paul</td>\n",
       "      <td>493.0</td>\n",
       "      <td>470.0</td>\n",
       "      <td>517.0</td>\n",
       "      <td>536.0</td>\n",
       "      <td>518.0</td>\n",
       "      <td>582.0</td>\n",
       "      <td>632.0</td>\n",
       "      <td>639.0</td>\n",
       "      <td>582.0</td>\n",
       "      <td>...</td>\n",
       "      <td>1608.0</td>\n",
       "      <td>1764.0</td>\n",
       "      <td>1792.0</td>\n",
       "      <td>1682.0</td>\n",
       "      <td>1743.0</td>\n",
       "      <td>1833.0</td>\n",
       "      <td>2126.0</td>\n",
       "      <td>2152.0</td>\n",
       "      <td>2001.0</td>\n",
       "      <td>2317.0</td>\n",
       "    </tr>\n",
       "    <tr>\n",
       "      <th>3</th>\n",
       "      <td>New York</td>\n",
       "      <td>568.0</td>\n",
       "      <td>533.0</td>\n",
       "      <td>528.0</td>\n",
       "      <td>535.0</td>\n",
       "      <td>558.0</td>\n",
       "      <td>565.0</td>\n",
       "      <td>597.0</td>\n",
       "      <td>601.0</td>\n",
       "      <td>590.0</td>\n",
       "      <td>...</td>\n",
       "      <td>1236.0</td>\n",
       "      <td>1283.0</td>\n",
       "      <td>1228.0</td>\n",
       "      <td>1191.0</td>\n",
       "      <td>1364.0</td>\n",
       "      <td>1500.0</td>\n",
       "      <td>1635.0</td>\n",
       "      <td>1807.0</td>\n",
       "      <td>1994.0</td>\n",
       "      <td>2163.0</td>\n",
       "    </tr>\n",
       "    <tr>\n",
       "      <th>4</th>\n",
       "      <td>Philadelphia</td>\n",
       "      <td>522.0</td>\n",
       "      <td>454.0</td>\n",
       "      <td>408.0</td>\n",
       "      <td>467.0</td>\n",
       "      <td>526.0</td>\n",
       "      <td>523.0</td>\n",
       "      <td>529.0</td>\n",
       "      <td>605.0</td>\n",
       "      <td>656.0</td>\n",
       "      <td>...</td>\n",
       "      <td>1433.0</td>\n",
       "      <td>1365.0</td>\n",
       "      <td>1305.0</td>\n",
       "      <td>1444.0</td>\n",
       "      <td>1637.0</td>\n",
       "      <td>1740.0</td>\n",
       "      <td>1701.0</td>\n",
       "      <td>1968.0</td>\n",
       "      <td>2230.0</td>\n",
       "      <td>2252.0</td>\n",
       "    </tr>\n",
       "  </tbody>\n",
       "</table>\n",
       "<p>5 rows × 91 columns</p>\n",
       "</div>"
      ],
      "text/plain": [
       "                  City  Cereals and bakery products (2005)  \\\n",
       "0              Chicago                               473.0   \n",
       "1              Detroit                               545.0   \n",
       "2  Minneapolis-St.Paul                               493.0   \n",
       "3             New York                               568.0   \n",
       "4         Philadelphia                               522.0   \n",
       "\n",
       "   Cereals and bakery products (2006)  Cereals and bakery products (2007)  \\\n",
       "0                               491.0                               537.0   \n",
       "1                               527.0                               579.0   \n",
       "2                               470.0                               517.0   \n",
       "3                               533.0                               528.0   \n",
       "4                               454.0                               408.0   \n",
       "\n",
       "   Cereals and bakery products (2008)  Cereals and bakery products (2009)  \\\n",
       "0                               561.0                               584.0   \n",
       "1                               628.0                               540.0   \n",
       "2                               536.0                               518.0   \n",
       "3                               535.0                               558.0   \n",
       "4                               467.0                               526.0   \n",
       "\n",
       "   Cereals and bakery products (2010)  Cereals and bakery products (2011)  \\\n",
       "0                               615.0                               602.0   \n",
       "1                               546.0                               573.0   \n",
       "2                               582.0                               632.0   \n",
       "3                               565.0                               597.0   \n",
       "4                               523.0                               529.0   \n",
       "\n",
       "   Cereals and bakery products (2012)  Cereals and bakery products (2013)  \\\n",
       "0                               596.0                               664.0   \n",
       "1                               583.0                               618.0   \n",
       "2                               639.0                               582.0   \n",
       "3                               601.0                               590.0   \n",
       "4                               605.0                               656.0   \n",
       "\n",
       "   ...  Other food at home (2013)  Other food at home (2014)  \\\n",
       "0  ...                     1598.0                     1652.0   \n",
       "1  ...                     1748.0                     1691.0   \n",
       "2  ...                     1608.0                     1764.0   \n",
       "3  ...                     1236.0                     1283.0   \n",
       "4  ...                     1433.0                     1365.0   \n",
       "\n",
       "   Other food at home (2015)  Other food at home (2016)  \\\n",
       "0                     1578.0                     1562.0   \n",
       "1                     1400.0                     1422.0   \n",
       "2                     1792.0                     1682.0   \n",
       "3                     1228.0                     1191.0   \n",
       "4                     1305.0                     1444.0   \n",
       "\n",
       "   Other food at home (2017)  Other food at home (2018)  \\\n",
       "0                     1595.0                     1666.0   \n",
       "1                     1463.0                     1626.0   \n",
       "2                     1743.0                     1833.0   \n",
       "3                     1364.0                     1500.0   \n",
       "4                     1637.0                     1740.0   \n",
       "\n",
       "   Other food at home (2019)  Other food at home (2020)  \\\n",
       "0                     1777.0                     2119.0   \n",
       "1                     1636.0                     1762.0   \n",
       "2                     2126.0                     2152.0   \n",
       "3                     1635.0                     1807.0   \n",
       "4                     1701.0                     1968.0   \n",
       "\n",
       "   Other food at home (2021)  Other food at home (2022)  \n",
       "0                     2174.0                     2035.0  \n",
       "1                     1887.0                     2051.0  \n",
       "2                     2001.0                     2317.0  \n",
       "3                     1994.0                     2163.0  \n",
       "4                     2230.0                     2252.0  \n",
       "\n",
       "[5 rows x 91 columns]"
      ]
     },
     "execution_count": 108,
     "metadata": {},
     "output_type": "execute_result"
    }
   ],
   "source": [
    "spendDf = pd.read_csv(Path(f\"resources/spending_2005-2022.csv\"),index_col = 'Item')\n",
    "spendDf = spendDf.loc[cats]\n",
    "yearAndCat = []\n",
    "for cat,year in zip(spendDf.index,spendDf['Year']):\n",
    "    ind = f'{cat} ({int(year)})'\n",
    "    yearAndCat.append(ind)\n",
    "spendDf.index = yearAndCat\n",
    "spendDf.drop(columns='Year',inplace=True)\n",
    "spendDf = spendDf.T\n",
    "spendDf = spendDf.reset_index().rename({'index':'City'},axis='columns')\n",
    "\n",
    "spendDf = spendDf.dropna(axis='index').reset_index(drop=True)\n",
    "spendDf.head()"
   ]
  },
  {
   "cell_type": "code",
   "execution_count": 109,
   "metadata": {},
   "outputs": [],
   "source": [
    "## maybe calculate average changes\n",
    "fullAvg = []\n",
    "for cat in cats:\n",
    "    temp = spendDf[[i for i in spendDf.columns if cat in i]]\n",
    "    catAvgChange = np.mean(np.diff(temp)/np.array(temp)[:,:17],axis=1)\n",
    "    spendDf[f'{cat} Average Change'] = catAvgChange*100\n",
    "    fullAvg.append(catAvgChange)\n",
    "spendDf['Average Change'] = np.mean(fullAvg,axis=0)*100"
   ]
  },
  {
   "cell_type": "markdown",
   "metadata": {},
   "source": [
    "## Plot cities and two dimensions, we see that there aren't clear groups"
   ]
  },
  {
   "cell_type": "code",
   "execution_count": 110,
   "metadata": {},
   "outputs": [
    {
     "data": {},
     "metadata": {},
     "output_type": "display_data"
    },
    {
     "data": {
      "application/vnd.holoviews_exec.v0+json": "",
      "text/html": [
       "<div id='8653'>\n",
       "  <div class=\"bk-root\" id=\"a8bd48f4-3cc8-410a-953e-79ce4e4a5b99\" data-root-id=\"8653\"></div>\n",
       "</div>\n",
       "<script type=\"application/javascript\">(function(root) {\n",
       "  function embed_document(root) {\n",
       "    var docs_json = {\"a7a1e834-d477-41e5-a97d-2279e82af56d\":{\"defs\":[{\"extends\":null,\"module\":null,\"name\":\"ReactiveHTML1\",\"overrides\":[],\"properties\":[]},{\"extends\":null,\"module\":null,\"name\":\"FlexBox1\",\"overrides\":[],\"properties\":[{\"default\":\"flex-start\",\"kind\":null,\"name\":\"align_content\"},{\"default\":\"flex-start\",\"kind\":null,\"name\":\"align_items\"},{\"default\":\"row\",\"kind\":null,\"name\":\"flex_direction\"},{\"default\":\"wrap\",\"kind\":null,\"name\":\"flex_wrap\"},{\"default\":\"flex-start\",\"kind\":null,\"name\":\"justify_content\"}]},{\"extends\":null,\"module\":null,\"name\":\"GridStack1\",\"overrides\":[],\"properties\":[{\"default\":\"warn\",\"kind\":null,\"name\":\"mode\"},{\"default\":null,\"kind\":null,\"name\":\"ncols\"},{\"default\":null,\"kind\":null,\"name\":\"nrows\"},{\"default\":true,\"kind\":null,\"name\":\"allow_resize\"},{\"default\":true,\"kind\":null,\"name\":\"allow_drag\"},{\"default\":[],\"kind\":null,\"name\":\"state\"}]},{\"extends\":null,\"module\":null,\"name\":\"click1\",\"overrides\":[],\"properties\":[{\"default\":\"\",\"kind\":null,\"name\":\"terminal_output\"},{\"default\":\"\",\"kind\":null,\"name\":\"debug_name\"},{\"default\":0,\"kind\":null,\"name\":\"clears\"}]},{\"extends\":null,\"module\":null,\"name\":\"NotificationAreaBase1\",\"overrides\":[],\"properties\":[{\"default\":\"bottom-right\",\"kind\":null,\"name\":\"position\"},{\"default\":0,\"kind\":null,\"name\":\"_clear\"}]},{\"extends\":null,\"module\":null,\"name\":\"NotificationArea1\",\"overrides\":[],\"properties\":[{\"default\":[],\"kind\":null,\"name\":\"notifications\"},{\"default\":\"bottom-right\",\"kind\":null,\"name\":\"position\"},{\"default\":0,\"kind\":null,\"name\":\"_clear\"},{\"default\":[{\"background\":\"#ffc107\",\"icon\":{\"className\":\"fas fa-exclamation-triangle\",\"color\":\"white\",\"tagName\":\"i\"},\"type\":\"warning\"},{\"background\":\"#007bff\",\"icon\":{\"className\":\"fas fa-info-circle\",\"color\":\"white\",\"tagName\":\"i\"},\"type\":\"info\"}],\"kind\":null,\"name\":\"types\"}]},{\"extends\":null,\"module\":null,\"name\":\"Notification\",\"overrides\":[],\"properties\":[{\"default\":null,\"kind\":null,\"name\":\"background\"},{\"default\":3000,\"kind\":null,\"name\":\"duration\"},{\"default\":null,\"kind\":null,\"name\":\"icon\"},{\"default\":\"\",\"kind\":null,\"name\":\"message\"},{\"default\":null,\"kind\":null,\"name\":\"notification_type\"},{\"default\":false,\"kind\":null,\"name\":\"_destroyed\"}]},{\"extends\":null,\"module\":null,\"name\":\"TemplateActions1\",\"overrides\":[],\"properties\":[{\"default\":0,\"kind\":null,\"name\":\"open_modal\"},{\"default\":0,\"kind\":null,\"name\":\"close_modal\"}]},{\"extends\":null,\"module\":null,\"name\":\"MaterialTemplateActions1\",\"overrides\":[],\"properties\":[{\"default\":0,\"kind\":null,\"name\":\"open_modal\"},{\"default\":0,\"kind\":null,\"name\":\"close_modal\"}]}],\"roots\":{\"references\":[{\"attributes\":{\"angle\":{\"value\":0.0},\"fill_alpha\":{\"value\":1.0},\"fill_color\":{\"value\":\"#8c564b\"},\"hatch_alpha\":{\"value\":1.0},\"hatch_color\":{\"value\":\"#8c564b\"},\"hatch_scale\":{\"value\":12.0},\"hatch_weight\":{\"value\":1.0},\"line_alpha\":{\"value\":1.0},\"line_cap\":{\"value\":\"butt\"},\"line_color\":{\"value\":\"#8c564b\"},\"line_dash\":{\"value\":[]},\"line_dash_offset\":{\"value\":0},\"line_join\":{\"value\":\"bevel\"},\"line_width\":{\"value\":1},\"marker\":{\"value\":\"circle\"},\"size\":{\"value\":9.11925524844631},\"x\":{\"field\":\"Meats, poultry, fish, and eggs (2022)\"},\"y\":{\"field\":\"Fruits and vegetables (2022)\"}},\"id\":\"9039\",\"type\":\"Scatter\"},{\"attributes\":{\"label\":{\"value\":\"Phoenix\"},\"renderers\":[{\"id\":\"9046\"}]},\"id\":\"9080\",\"type\":\"LegendItem\"},{\"attributes\":{\"coordinates\":null,\"data_source\":{\"id\":\"8752\"},\"glyph\":{\"id\":\"8755\"},\"group\":null,\"hover_glyph\":null,\"muted_glyph\":{\"id\":\"8757\"},\"nonselection_glyph\":{\"id\":\"8756\"},\"selection_glyph\":{\"id\":\"8775\"},\"view\":{\"id\":\"8759\"}},\"id\":\"8758\",\"type\":\"GlyphRenderer\"},{\"attributes\":{\"angle\":{\"value\":0.0},\"fill_alpha\":{\"value\":1.0},\"fill_color\":{\"value\":\"#17becf\"},\"hatch_alpha\":{\"value\":1.0},\"hatch_color\":{\"value\":\"#17becf\"},\"hatch_scale\":{\"value\":12.0},\"hatch_weight\":{\"value\":1.0},\"line_alpha\":{\"value\":1.0},\"line_cap\":{\"value\":\"butt\"},\"line_color\":{\"value\":\"#17becf\"},\"line_dash\":{\"value\":[]},\"line_dash_offset\":{\"value\":0},\"line_join\":{\"value\":\"bevel\"},\"line_width\":{\"value\":1},\"marker\":{\"value\":\"circle\"},\"size\":{\"value\":5.52032928686538},\"x\":{\"field\":\"Meats, poultry, fish, and eggs (2022)\"},\"y\":{\"field\":\"Fruits and vegetables (2022)\"}},\"id\":\"8859\",\"type\":\"Scatter\"},{\"attributes\":{\"label\":{\"value\":\"San Diego\"},\"renderers\":[{\"id\":\"9088\"}]},\"id\":\"9124\",\"type\":\"LegendItem\"},{\"attributes\":{\"data\":{\"Average_Change\":{\"__ndarray__\":\"ooNKrzEECUA=\",\"dtype\":\"float64\",\"order\":\"little\",\"shape\":[1]},\"City\":[\"Minneapolis-St.Paul\"],\"Fruits and vegetables (2022)\":{\"__ndarray__\":\"AAAAAABkk0A=\",\"dtype\":\"float64\",\"order\":\"little\",\"shape\":[1]},\"Fruits_and_vegetables_left_parenthesis_2022_right_parenthesis\":{\"__ndarray__\":\"AAAAAABkk0A=\",\"dtype\":\"float64\",\"order\":\"little\",\"shape\":[1]},\"Meats, poultry, fish, and eggs (2022)\":{\"__ndarray__\":\"AAAAAAAwkUA=\",\"dtype\":\"float64\",\"order\":\"little\",\"shape\":[1]},\"Meats_comma_poultry_comma_fish_comma_and_eggs_left_parenthesis_2022_right_parenthesis\":{\"__ndarray__\":\"AAAAAAAwkUA=\",\"dtype\":\"float64\",\"order\":\"little\",\"shape\":[1]}},\"selected\":{\"id\":\"8927\"},\"selection_policy\":{\"id\":\"8957\"}},\"id\":\"8926\",\"type\":\"ColumnDataSource\"},{\"attributes\":{\"fill_color\":{\"value\":\"#bcbd22\"},\"hatch_color\":{\"value\":\"#bcbd22\"},\"line_color\":{\"value\":\"#bcbd22\"},\"size\":{\"value\":6.900102709699781},\"x\":{\"field\":\"Meats, poultry, fish, and eggs (2022)\"},\"y\":{\"field\":\"Fruits and vegetables (2022)\"}},\"id\":\"9043\",\"type\":\"Scatter\"},{\"attributes\":{\"label\":{\"value\":\"San Francisco\"},\"renderers\":[{\"id\":\"9132\"}]},\"id\":\"9170\",\"type\":\"LegendItem\"},{\"attributes\":{},\"id\":\"9077\",\"type\":\"UnionRenderers\"},{\"attributes\":{\"coordinates\":null,\"data_source\":{\"id\":\"9040\"},\"glyph\":{\"id\":\"9043\"},\"group\":null,\"hover_glyph\":null,\"muted_glyph\":{\"id\":\"9045\"},\"nonselection_glyph\":{\"id\":\"9044\"},\"selection_glyph\":{\"id\":\"9081\"},\"view\":{\"id\":\"9047\"}},\"id\":\"9046\",\"type\":\"GlyphRenderer\"},{\"attributes\":{\"source\":{\"id\":\"9082\"}},\"id\":\"9089\",\"type\":\"CDSView\"},{\"attributes\":{\"label\":{\"value\":\"Chicago\"},\"renderers\":[{\"id\":\"8758\"}]},\"id\":\"8774\",\"type\":\"LegendItem\"},{\"attributes\":{\"fill_color\":{\"value\":\"#9467bd\"},\"hatch_color\":{\"value\":\"#9467bd\"},\"line_color\":{\"value\":\"#9467bd\"},\"size\":{\"value\":7.617806060876608},\"x\":{\"field\":\"Meats, poultry, fish, and eggs (2022)\"},\"y\":{\"field\":\"Fruits and vegetables (2022)\"}},\"id\":\"8863\",\"type\":\"Scatter\"},{\"attributes\":{},\"id\":\"8887\",\"type\":\"UnionRenderers\"},{\"attributes\":{\"margin\":[5,5,5,5],\"name\":\"HSpacer09713\",\"sizing_mode\":\"stretch_width\"},\"id\":\"9310\",\"type\":\"Spacer\"},{\"attributes\":{\"fill_alpha\":{\"value\":0.1},\"fill_color\":{\"value\":\"#30a2da\"},\"hatch_alpha\":{\"value\":0.1},\"hatch_color\":{\"value\":\"#30a2da\"},\"line_alpha\":{\"value\":0.1},\"line_color\":{\"value\":\"#30a2da\"},\"size\":{\"value\":9.881664012687551},\"x\":{\"field\":\"Meats, poultry, fish, and eggs (2022)\"},\"y\":{\"field\":\"Fruits and vegetables (2022)\"}},\"id\":\"9086\",\"type\":\"Scatter\"},{\"attributes\":{\"coordinates\":null,\"data_source\":{\"id\":\"8860\"},\"glyph\":{\"id\":\"8863\"},\"group\":null,\"hover_glyph\":null,\"muted_glyph\":{\"id\":\"8865\"},\"nonselection_glyph\":{\"id\":\"8864\"},\"selection_glyph\":{\"id\":\"8891\"},\"view\":{\"id\":\"8867\"}},\"id\":\"8866\",\"type\":\"GlyphRenderer\"},{\"attributes\":{\"angle\":{\"value\":0.0},\"fill_alpha\":{\"value\":1.0},\"fill_color\":{\"value\":\"#30a2da\"},\"hatch_alpha\":{\"value\":1.0},\"hatch_color\":{\"value\":\"#30a2da\"},\"hatch_scale\":{\"value\":12.0},\"hatch_weight\":{\"value\":1.0},\"line_alpha\":{\"value\":1.0},\"line_cap\":{\"value\":\"butt\"},\"line_color\":{\"value\":\"#30a2da\"},\"line_dash\":{\"value\":[]},\"line_dash_offset\":{\"value\":0},\"line_join\":{\"value\":\"bevel\"},\"line_width\":{\"value\":1},\"marker\":{\"value\":\"circle\"},\"size\":{\"value\":11.137556369527474},\"x\":{\"field\":\"Meats, poultry, fish, and eggs (2022)\"},\"y\":{\"field\":\"Fruits and vegetables (2022)\"}},\"id\":\"8729\",\"type\":\"Scatter\"},{\"attributes\":{\"fill_alpha\":{\"value\":0.2},\"fill_color\":{\"value\":\"#30a2da\"},\"hatch_alpha\":{\"value\":0.2},\"hatch_color\":{\"value\":\"#30a2da\"},\"line_alpha\":{\"value\":0.2},\"line_color\":{\"value\":\"#30a2da\"},\"size\":{\"value\":9.881664012687551},\"x\":{\"field\":\"Meats, poultry, fish, and eggs (2022)\"},\"y\":{\"field\":\"Fruits and vegetables (2022)\"}},\"id\":\"9087\",\"type\":\"Scatter\"},{\"attributes\":{\"coordinates\":null,\"data_source\":{\"id\":\"9082\"},\"glyph\":{\"id\":\"9085\"},\"group\":null,\"hover_glyph\":null,\"muted_glyph\":{\"id\":\"9087\"},\"nonselection_glyph\":{\"id\":\"9086\"},\"selection_glyph\":{\"id\":\"9125\"},\"view\":{\"id\":\"9089\"}},\"id\":\"9088\",\"type\":\"GlyphRenderer\"},{\"attributes\":{\"data\":{\"Average_Change\":{\"__ndarray__\":\"cKlXosovB0A=\",\"dtype\":\"float64\",\"order\":\"little\",\"shape\":[1]},\"City\":[\"Chicago\"],\"Fruits and vegetables (2022)\":{\"__ndarray__\":\"AAAAAABskUA=\",\"dtype\":\"float64\",\"order\":\"little\",\"shape\":[1]},\"Fruits_and_vegetables_left_parenthesis_2022_right_parenthesis\":{\"__ndarray__\":\"AAAAAABskUA=\",\"dtype\":\"float64\",\"order\":\"little\",\"shape\":[1]},\"Meats, poultry, fish, and eggs (2022)\":{\"__ndarray__\":\"AAAAAADUk0A=\",\"dtype\":\"float64\",\"order\":\"little\",\"shape\":[1]},\"Meats_comma_poultry_comma_fish_comma_and_eggs_left_parenthesis_2022_right_parenthesis\":{\"__ndarray__\":\"AAAAAADUk0A=\",\"dtype\":\"float64\",\"order\":\"little\",\"shape\":[1]}},\"selected\":{\"id\":\"8753\"},\"selection_policy\":{\"id\":\"8771\"}},\"id\":\"8752\",\"type\":\"ColumnDataSource\"},{\"attributes\":{\"source\":{\"id\":\"8752\"}},\"id\":\"8759\",\"type\":\"CDSView\"},{\"attributes\":{\"fill_color\":{\"value\":\"#fc4f30\"},\"hatch_color\":{\"value\":\"#fc4f30\"},\"line_color\":{\"value\":\"#fc4f30\"},\"size\":{\"value\":11.676038094385797},\"x\":{\"field\":\"Meats, poultry, fish, and eggs (2022)\"},\"y\":{\"field\":\"Fruits and vegetables (2022)\"}},\"id\":\"8733\",\"type\":\"Scatter\"},{\"attributes\":{\"angle\":{\"value\":0.0},\"fill_alpha\":{\"value\":1.0},\"fill_color\":{\"value\":\"#d62728\"},\"hatch_alpha\":{\"value\":1.0},\"hatch_color\":{\"value\":\"#d62728\"},\"hatch_scale\":{\"value\":12.0},\"hatch_weight\":{\"value\":1.0},\"line_alpha\":{\"value\":1.0},\"line_cap\":{\"value\":\"butt\"},\"line_color\":{\"value\":\"#d62728\"},\"line_dash\":{\"value\":[]},\"line_dash_offset\":{\"value\":0},\"line_join\":{\"value\":\"bevel\"},\"line_width\":{\"value\":1},\"marker\":{\"value\":\"circle\"},\"size\":{\"value\":8.068786882420568},\"x\":{\"field\":\"Meats, poultry, fish, and eggs (2022)\"},\"y\":{\"field\":\"Fruits and vegetables (2022)\"}},\"id\":\"8925\",\"type\":\"Scatter\"},{\"attributes\":{\"coordinates\":null,\"data_source\":{\"id\":\"8776\"},\"glyph\":{\"id\":\"8779\"},\"group\":null,\"hover_glyph\":null,\"muted_glyph\":{\"id\":\"8781\"},\"nonselection_glyph\":{\"id\":\"8780\"},\"selection_glyph\":{\"id\":\"8801\"},\"view\":{\"id\":\"8783\"}},\"id\":\"8782\",\"type\":\"GlyphRenderer\"},{\"attributes\":{\"fill_color\":{\"value\":\"#6d904f\"},\"hatch_color\":{\"value\":\"#6d904f\"},\"line_color\":{\"value\":\"#6d904f\"},\"size\":{\"value\":7.340526653326254},\"x\":{\"field\":\"Meats, poultry, fish, and eggs (2022)\"},\"y\":{\"field\":\"Fruits and vegetables (2022)\"}},\"id\":\"8779\",\"type\":\"Scatter\"},{\"attributes\":{\"source\":{\"id\":\"8776\"}},\"id\":\"8783\",\"type\":\"CDSView\"},{\"attributes\":{},\"id\":\"8771\",\"type\":\"UnionRenderers\"},{\"attributes\":{\"coordinates\":null,\"data_source\":{\"id\":\"8730\"},\"glyph\":{\"id\":\"8733\"},\"group\":null,\"hover_glyph\":null,\"muted_glyph\":{\"id\":\"8735\"},\"nonselection_glyph\":{\"id\":\"8734\"},\"selection_glyph\":{\"id\":\"8751\"},\"view\":{\"id\":\"8737\"}},\"id\":\"8736\",\"type\":\"GlyphRenderer\"},{\"attributes\":{\"fill_color\":{\"value\":\"#e5ae38\"},\"hatch_color\":{\"value\":\"#e5ae38\"},\"line_color\":{\"value\":\"#e5ae38\"},\"size\":{\"value\":8.512249574464997},\"x\":{\"field\":\"Meats, poultry, fish, and eggs (2022)\"},\"y\":{\"field\":\"Fruits and vegetables (2022)\"}},\"id\":\"8755\",\"type\":\"Scatter\"},{\"attributes\":{\"fill_alpha\":{\"value\":0.1},\"fill_color\":{\"value\":\"#9467bd\"},\"hatch_alpha\":{\"value\":0.1},\"hatch_color\":{\"value\":\"#9467bd\"},\"line_alpha\":{\"value\":0.1},\"line_color\":{\"value\":\"#9467bd\"},\"size\":{\"value\":7.617806060876608},\"x\":{\"field\":\"Meats, poultry, fish, and eggs (2022)\"},\"y\":{\"field\":\"Fruits and vegetables (2022)\"}},\"id\":\"8864\",\"type\":\"Scatter\"},{\"attributes\":{\"fill_alpha\":{\"value\":0.2},\"fill_color\":{\"value\":\"#e5ae38\"},\"hatch_alpha\":{\"value\":0.2},\"hatch_color\":{\"value\":\"#e5ae38\"},\"line_alpha\":{\"value\":0.2},\"line_color\":{\"value\":\"#e5ae38\"},\"size\":{\"value\":8.512249574464997},\"x\":{\"field\":\"Meats, poultry, fish, and eggs (2022)\"},\"y\":{\"field\":\"Fruits and vegetables (2022)\"}},\"id\":\"8757\",\"type\":\"Scatter\"},{\"attributes\":{\"source\":{\"id\":\"9040\"}},\"id\":\"9047\",\"type\":\"CDSView\"},{\"attributes\":{\"fill_alpha\":{\"value\":0.1},\"fill_color\":{\"value\":\"#e5ae38\"},\"hatch_alpha\":{\"value\":0.1},\"hatch_color\":{\"value\":\"#e5ae38\"},\"line_alpha\":{\"value\":0.1},\"line_color\":{\"value\":\"#e5ae38\"},\"size\":{\"value\":8.512249574464997},\"x\":{\"field\":\"Meats, poultry, fish, and eggs (2022)\"},\"y\":{\"field\":\"Fruits and vegetables (2022)\"}},\"id\":\"8756\",\"type\":\"Scatter\"},{\"attributes\":{\"data\":{\"Average_Change\":{\"__ndarray__\":\"o3M9J+uzEkA=\",\"dtype\":\"float64\",\"order\":\"little\",\"shape\":[1]},\"City\":[\"San Francisco\"],\"Fruits and vegetables (2022)\":{\"__ndarray__\":\"AAAAAACYnkA=\",\"dtype\":\"float64\",\"order\":\"little\",\"shape\":[1]},\"Fruits_and_vegetables_left_parenthesis_2022_right_parenthesis\":{\"__ndarray__\":\"AAAAAACYnkA=\",\"dtype\":\"float64\",\"order\":\"little\",\"shape\":[1]},\"Meats, poultry, fish, and eggs (2022)\":{\"__ndarray__\":\"AAAAAAD0m0A=\",\"dtype\":\"float64\",\"order\":\"little\",\"shape\":[1]},\"Meats_comma_poultry_comma_fish_comma_and_eggs_left_parenthesis_2022_right_parenthesis\":{\"__ndarray__\":\"AAAAAAD0m0A=\",\"dtype\":\"float64\",\"order\":\"little\",\"shape\":[1]}},\"selected\":{\"id\":\"9127\"},\"selection_policy\":{\"id\":\"9167\"}},\"id\":\"9126\",\"type\":\"ColumnDataSource\"},{\"attributes\":{},\"id\":\"9041\",\"type\":\"Selection\"},{\"attributes\":{\"fill_alpha\":{\"value\":0.1},\"fill_color\":{\"value\":\"#bcbd22\"},\"hatch_alpha\":{\"value\":0.1},\"hatch_color\":{\"value\":\"#bcbd22\"},\"line_alpha\":{\"value\":0.1},\"line_color\":{\"value\":\"#bcbd22\"},\"size\":{\"value\":6.900102709699781},\"x\":{\"field\":\"Meats, poultry, fish, and eggs (2022)\"},\"y\":{\"field\":\"Fruits and vegetables (2022)\"}},\"id\":\"9044\",\"type\":\"Scatter\"},{\"attributes\":{\"source\":{\"id\":\"8860\"}},\"id\":\"8867\",\"type\":\"CDSView\"},{\"attributes\":{\"fill_alpha\":{\"value\":0.2},\"fill_color\":{\"value\":\"#bcbd22\"},\"hatch_alpha\":{\"value\":0.2},\"hatch_color\":{\"value\":\"#bcbd22\"},\"line_alpha\":{\"value\":0.2},\"line_color\":{\"value\":\"#bcbd22\"},\"size\":{\"value\":6.900102709699781},\"x\":{\"field\":\"Meats, poultry, fish, and eggs (2022)\"},\"y\":{\"field\":\"Fruits and vegetables (2022)\"}},\"id\":\"9045\",\"type\":\"Scatter\"},{\"attributes\":{\"source\":{\"id\":\"8730\"}},\"id\":\"8737\",\"type\":\"CDSView\"},{\"attributes\":{\"data\":{\"Average_Change\":{\"__ndarray__\":\"SSupjm3VBEA=\",\"dtype\":\"float64\",\"order\":\"little\",\"shape\":[1]},\"City\":[\"Miami\"],\"Fruits and vegetables (2022)\":{\"__ndarray__\":\"AAAAAAAokkA=\",\"dtype\":\"float64\",\"order\":\"little\",\"shape\":[1]},\"Fruits_and_vegetables_left_parenthesis_2022_right_parenthesis\":{\"__ndarray__\":\"AAAAAAAokkA=\",\"dtype\":\"float64\",\"order\":\"little\",\"shape\":[1]},\"Meats, poultry, fish, and eggs (2022)\":{\"__ndarray__\":\"AAAAAAB0l0A=\",\"dtype\":\"float64\",\"order\":\"little\",\"shape\":[1]},\"Meats_comma_poultry_comma_fish_comma_and_eggs_left_parenthesis_2022_right_parenthesis\":{\"__ndarray__\":\"AAAAAAB0l0A=\",\"dtype\":\"float64\",\"order\":\"little\",\"shape\":[1]}},\"selected\":{\"id\":\"8893\"},\"selection_policy\":{\"id\":\"8921\"}},\"id\":\"8892\",\"type\":\"ColumnDataSource\"},{\"attributes\":{\"fill_alpha\":{\"value\":0.1},\"fill_color\":{\"value\":\"#fc4f30\"},\"hatch_alpha\":{\"value\":0.1},\"hatch_color\":{\"value\":\"#fc4f30\"},\"line_alpha\":{\"value\":0.1},\"line_color\":{\"value\":\"#fc4f30\"},\"size\":{\"value\":11.676038094385797},\"x\":{\"field\":\"Meats, poultry, fish, and eggs (2022)\"},\"y\":{\"field\":\"Fruits and vegetables (2022)\"}},\"id\":\"8734\",\"type\":\"Scatter\"},{\"attributes\":{},\"id\":\"8861\",\"type\":\"Selection\"},{\"attributes\":{},\"id\":\"8731\",\"type\":\"Selection\"},{\"attributes\":{\"fill_alpha\":{\"value\":0.2},\"fill_color\":{\"value\":\"#9467bd\"},\"hatch_alpha\":{\"value\":0.2},\"hatch_color\":{\"value\":\"#9467bd\"},\"line_alpha\":{\"value\":0.2},\"line_color\":{\"value\":\"#9467bd\"},\"size\":{\"value\":7.617806060876608},\"x\":{\"field\":\"Meats, poultry, fish, and eggs (2022)\"},\"y\":{\"field\":\"Fruits and vegetables (2022)\"}},\"id\":\"8865\",\"type\":\"Scatter\"},{\"attributes\":{\"label\":{\"value\":\"Baltimore\"},\"renderers\":[{\"id\":\"8736\"}]},\"id\":\"8750\",\"type\":\"LegendItem\"},{\"attributes\":{\"fill_alpha\":{\"value\":0.2},\"fill_color\":{\"value\":\"#fc4f30\"},\"hatch_alpha\":{\"value\":0.2},\"hatch_color\":{\"value\":\"#fc4f30\"},\"line_alpha\":{\"value\":0.2},\"line_color\":{\"value\":\"#fc4f30\"},\"size\":{\"value\":11.676038094385797},\"x\":{\"field\":\"Meats, poultry, fish, and eggs (2022)\"},\"y\":{\"field\":\"Fruits and vegetables (2022)\"}},\"id\":\"8735\",\"type\":\"Scatter\"},{\"attributes\":{\"fill_alpha\":{\"value\":0.2},\"fill_color\":{\"value\":\"#6d904f\"},\"hatch_alpha\":{\"value\":0.2},\"hatch_color\":{\"value\":\"#6d904f\"},\"line_alpha\":{\"value\":0.2},\"line_color\":{\"value\":\"#6d904f\"},\"size\":{\"value\":7.340526653326254},\"x\":{\"field\":\"Meats, poultry, fish, and eggs (2022)\"},\"y\":{\"field\":\"Fruits and vegetables (2022)\"}},\"id\":\"8781\",\"type\":\"Scatter\"},{\"attributes\":{\"label\":{\"value\":\"Los Angeles\"},\"renderers\":[{\"id\":\"8866\"}]},\"id\":\"8890\",\"type\":\"LegendItem\"},{\"attributes\":{},\"id\":\"8747\",\"type\":\"UnionRenderers\"},{\"attributes\":{\"angle\":{\"value\":0.0},\"fill_alpha\":{\"value\":1.0},\"fill_color\":{\"value\":\"#30a2da\"},\"hatch_alpha\":{\"value\":1.0},\"hatch_color\":{\"value\":\"#30a2da\"},\"hatch_scale\":{\"value\":12.0},\"hatch_weight\":{\"value\":1.0},\"line_alpha\":{\"value\":1.0},\"line_cap\":{\"value\":\"butt\"},\"line_color\":{\"value\":\"#30a2da\"},\"line_dash\":{\"value\":[]},\"line_dash_offset\":{\"value\":0},\"line_join\":{\"value\":\"bevel\"},\"line_width\":{\"value\":1},\"marker\":{\"value\":\"circle\"},\"size\":{\"value\":9.881664012687551},\"x\":{\"field\":\"Meats, poultry, fish, and eggs (2022)\"},\"y\":{\"field\":\"Fruits and vegetables (2022)\"}},\"id\":\"9125\",\"type\":\"Scatter\"},{\"attributes\":{\"data\":{\"Average_Change\":{\"__ndarray__\":\"hQ084mYZDEA=\",\"dtype\":\"float64\",\"order\":\"little\",\"shape\":[1]},\"City\":[\"Seattle\"],\"Fruits and vegetables (2022)\":{\"__ndarray__\":\"AAAAAABglUA=\",\"dtype\":\"float64\",\"order\":\"little\",\"shape\":[1]},\"Fruits_and_vegetables_left_parenthesis_2022_right_parenthesis\":{\"__ndarray__\":\"AAAAAABglUA=\",\"dtype\":\"float64\",\"order\":\"little\",\"shape\":[1]},\"Meats, poultry, fish, and eggs (2022)\":{\"__ndarray__\":\"AAAAAACYkkA=\",\"dtype\":\"float64\",\"order\":\"little\",\"shape\":[1]},\"Meats_comma_poultry_comma_fish_comma_and_eggs_left_parenthesis_2022_right_parenthesis\":{\"__ndarray__\":\"AAAAAACYkkA=\",\"dtype\":\"float64\",\"order\":\"little\",\"shape\":[1]}},\"selected\":{\"id\":\"9173\"},\"selection_policy\":{\"id\":\"9215\"}},\"id\":\"9172\",\"type\":\"ColumnDataSource\"},{\"attributes\":{\"fill_color\":{\"value\":\"#fc4f30\"},\"hatch_color\":{\"value\":\"#fc4f30\"},\"line_color\":{\"value\":\"#fc4f30\"},\"size\":{\"value\":10.811685490800762},\"x\":{\"field\":\"Meats, poultry, fish, and eggs (2022)\"},\"y\":{\"field\":\"Fruits and vegetables (2022)\"}},\"id\":\"9129\",\"type\":\"Scatter\"},{\"attributes\":{\"coordinates\":null,\"data_source\":{\"id\":\"9126\"},\"glyph\":{\"id\":\"9129\"},\"group\":null,\"hover_glyph\":null,\"muted_glyph\":{\"id\":\"9131\"},\"nonselection_glyph\":{\"id\":\"9130\"},\"selection_glyph\":{\"id\":\"9171\"},\"view\":{\"id\":\"9133\"}},\"id\":\"9132\",\"type\":\"GlyphRenderer\"},{\"attributes\":{\"fill_alpha\":{\"value\":0.1},\"fill_color\":{\"value\":\"#6d904f\"},\"hatch_alpha\":{\"value\":0.1},\"hatch_color\":{\"value\":\"#6d904f\"},\"line_alpha\":{\"value\":0.1},\"line_color\":{\"value\":\"#6d904f\"},\"size\":{\"value\":7.340526653326254},\"x\":{\"field\":\"Meats, poultry, fish, and eggs (2022)\"},\"y\":{\"field\":\"Fruits and vegetables (2022)\"}},\"id\":\"8780\",\"type\":\"Scatter\"},{\"attributes\":{\"angle\":{\"value\":0.0},\"fill_alpha\":{\"value\":1.0},\"fill_color\":{\"value\":\"#e5ae38\"},\"hatch_alpha\":{\"value\":1.0},\"hatch_color\":{\"value\":\"#e5ae38\"},\"hatch_scale\":{\"value\":12.0},\"hatch_weight\":{\"value\":1.0},\"line_alpha\":{\"value\":1.0},\"line_cap\":{\"value\":\"butt\"},\"line_color\":{\"value\":\"#e5ae38\"},\"line_dash\":{\"value\":[]},\"line_dash_offset\":{\"value\":0},\"line_join\":{\"value\":\"bevel\"},\"line_width\":{\"value\":1},\"marker\":{\"value\":\"circle\"},\"size\":{\"value\":8.512249574464997},\"x\":{\"field\":\"Meats, poultry, fish, and eggs (2022)\"},\"y\":{\"field\":\"Fruits and vegetables (2022)\"}},\"id\":\"8775\",\"type\":\"Scatter\"},{\"attributes\":{\"data\":{\"Average_Change\":{\"__ndarray__\":\"gd7ok7owAEA=\",\"dtype\":\"float64\",\"order\":\"little\",\"shape\":[1]},\"City\":[\"Detroit\"],\"Fruits and vegetables (2022)\":{\"__ndarray__\":\"AAAAAAB8kEA=\",\"dtype\":\"float64\",\"order\":\"little\",\"shape\":[1]},\"Fruits_and_vegetables_left_parenthesis_2022_right_parenthesis\":{\"__ndarray__\":\"AAAAAAB8kEA=\",\"dtype\":\"float64\",\"order\":\"little\",\"shape\":[1]},\"Meats, poultry, fish, and eggs (2022)\":{\"__ndarray__\":\"AAAAAACAkkA=\",\"dtype\":\"float64\",\"order\":\"little\",\"shape\":[1]},\"Meats_comma_poultry_comma_fish_comma_and_eggs_left_parenthesis_2022_right_parenthesis\":{\"__ndarray__\":\"AAAAAACAkkA=\",\"dtype\":\"float64\",\"order\":\"little\",\"shape\":[1]}},\"selected\":{\"id\":\"8803\"},\"selection_policy\":{\"id\":\"8825\"}},\"id\":\"8802\",\"type\":\"ColumnDataSource\"},{\"attributes\":{\"angle\":{\"value\":0.0},\"fill_alpha\":{\"value\":1.0},\"fill_color\":{\"value\":\"#bcbd22\"},\"hatch_alpha\":{\"value\":1.0},\"hatch_color\":{\"value\":\"#bcbd22\"},\"hatch_scale\":{\"value\":12.0},\"hatch_weight\":{\"value\":1.0},\"line_alpha\":{\"value\":1.0},\"line_cap\":{\"value\":\"butt\"},\"line_color\":{\"value\":\"#bcbd22\"},\"line_dash\":{\"value\":[]},\"line_dash_offset\":{\"value\":0},\"line_join\":{\"value\":\"bevel\"},\"line_width\":{\"value\":1},\"marker\":{\"value\":\"circle\"},\"size\":{\"value\":6.900102709699781},\"x\":{\"field\":\"Meats, poultry, fish, and eggs (2022)\"},\"y\":{\"field\":\"Fruits and vegetables (2022)\"}},\"id\":\"9081\",\"type\":\"Scatter\"},{\"attributes\":{},\"id\":\"9121\",\"type\":\"UnionRenderers\"},{\"attributes\":{\"source\":{\"id\":\"9126\"}},\"id\":\"9133\",\"type\":\"CDSView\"},{\"attributes\":{},\"id\":\"8777\",\"type\":\"Selection\"},{\"attributes\":{\"angle\":{\"value\":0.0},\"fill_alpha\":{\"value\":1.0},\"fill_color\":{\"value\":\"#9467bd\"},\"hatch_alpha\":{\"value\":1.0},\"hatch_color\":{\"value\":\"#9467bd\"},\"hatch_scale\":{\"value\":12.0},\"hatch_weight\":{\"value\":1.0},\"line_alpha\":{\"value\":1.0},\"line_cap\":{\"value\":\"butt\"},\"line_color\":{\"value\":\"#9467bd\"},\"line_dash\":{\"value\":[]},\"line_dash_offset\":{\"value\":0},\"line_join\":{\"value\":\"bevel\"},\"line_width\":{\"value\":1},\"marker\":{\"value\":\"circle\"},\"size\":{\"value\":7.617806060876608},\"x\":{\"field\":\"Meats, poultry, fish, and eggs (2022)\"},\"y\":{\"field\":\"Fruits and vegetables (2022)\"}},\"id\":\"8891\",\"type\":\"Scatter\"},{\"attributes\":{},\"id\":\"9167\",\"type\":\"UnionRenderers\"},{\"attributes\":{},\"id\":\"9127\",\"type\":\"Selection\"},{\"attributes\":{\"fill_color\":{\"value\":\"#30a2da\"},\"hatch_color\":{\"value\":\"#30a2da\"},\"line_color\":{\"value\":\"#30a2da\"},\"size\":{\"value\":9.881664012687551},\"x\":{\"field\":\"Meats, poultry, fish, and eggs (2022)\"},\"y\":{\"field\":\"Fruits and vegetables (2022)\"}},\"id\":\"9085\",\"type\":\"Scatter\"},{\"attributes\":{\"fill_alpha\":{\"value\":0.1},\"fill_color\":{\"value\":\"#fc4f30\"},\"hatch_alpha\":{\"value\":0.1},\"hatch_color\":{\"value\":\"#fc4f30\"},\"line_alpha\":{\"value\":0.1},\"line_color\":{\"value\":\"#fc4f30\"},\"size\":{\"value\":10.811685490800762},\"x\":{\"field\":\"Meats, poultry, fish, and eggs (2022)\"},\"y\":{\"field\":\"Fruits and vegetables (2022)\"}},\"id\":\"9130\",\"type\":\"Scatter\"},{\"attributes\":{},\"id\":\"8893\",\"type\":\"Selection\"},{\"attributes\":{\"fill_alpha\":{\"value\":0.2},\"fill_color\":{\"value\":\"#fc4f30\"},\"hatch_alpha\":{\"value\":0.2},\"hatch_color\":{\"value\":\"#fc4f30\"},\"line_alpha\":{\"value\":0.2},\"line_color\":{\"value\":\"#fc4f30\"},\"size\":{\"value\":10.811685490800762},\"x\":{\"field\":\"Meats, poultry, fish, and eggs (2022)\"},\"y\":{\"field\":\"Fruits and vegetables (2022)\"}},\"id\":\"9131\",\"type\":\"Scatter\"},{\"attributes\":{},\"id\":\"9083\",\"type\":\"Selection\"},{\"attributes\":{\"angle\":{\"value\":0.0},\"fill_alpha\":{\"value\":1.0},\"fill_color\":{\"value\":\"#fc4f30\"},\"hatch_alpha\":{\"value\":1.0},\"hatch_color\":{\"value\":\"#fc4f30\"},\"hatch_scale\":{\"value\":12.0},\"hatch_weight\":{\"value\":1.0},\"line_alpha\":{\"value\":1.0},\"line_cap\":{\"value\":\"butt\"},\"line_color\":{\"value\":\"#fc4f30\"},\"line_dash\":{\"value\":[]},\"line_dash_offset\":{\"value\":0},\"line_join\":{\"value\":\"bevel\"},\"line_width\":{\"value\":1},\"marker\":{\"value\":\"circle\"},\"size\":{\"value\":11.676038094385797},\"x\":{\"field\":\"Meats, poultry, fish, and eggs (2022)\"},\"y\":{\"field\":\"Fruits and vegetables (2022)\"}},\"id\":\"8751\",\"type\":\"Scatter\"},{\"attributes\":{\"data\":{\"Average_Change\":{\"__ndarray__\":\"f9v2MFHREkA=\",\"dtype\":\"float64\",\"order\":\"little\",\"shape\":[1]},\"City\":[\"Washington, D.C.\"],\"Fruits and vegetables (2022)\":{\"__ndarray__\":\"AAAAAAC0k0A=\",\"dtype\":\"float64\",\"order\":\"little\",\"shape\":[1]},\"Fruits_and_vegetables_left_parenthesis_2022_right_parenthesis\":{\"__ndarray__\":\"AAAAAAC0k0A=\",\"dtype\":\"float64\",\"order\":\"little\",\"shape\":[1]},\"Meats, poultry, fish, and eggs (2022)\":{\"__ndarray__\":\"AAAAAAC8lUA=\",\"dtype\":\"float64\",\"order\":\"little\",\"shape\":[1]},\"Meats_comma_poultry_comma_fish_comma_and_eggs_left_parenthesis_2022_right_parenthesis\":{\"__ndarray__\":\"AAAAAAC8lUA=\",\"dtype\":\"float64\",\"order\":\"little\",\"shape\":[1]}},\"selected\":{\"id\":\"9221\"},\"selection_policy\":{\"id\":\"9265\"}},\"id\":\"9220\",\"type\":\"ColumnDataSource\"},{\"attributes\":{},\"id\":\"8753\",\"type\":\"Selection\"},{\"attributes\":{\"data\":{\"Average_Change\":{\"__ndarray__\":\"Ra9/XR8+AUA=\",\"dtype\":\"float64\",\"order\":\"little\",\"shape\":[1]},\"City\":[\"Dallas-Fort Worth\"],\"Fruits and vegetables (2022)\":{\"__ndarray__\":\"AAAAAAC4iEA=\",\"dtype\":\"float64\",\"order\":\"little\",\"shape\":[1]},\"Fruits_and_vegetables_left_parenthesis_2022_right_parenthesis\":{\"__ndarray__\":\"AAAAAAC4iEA=\",\"dtype\":\"float64\",\"order\":\"little\",\"shape\":[1]},\"Meats, poultry, fish, and eggs (2022)\":{\"__ndarray__\":\"AAAAAAAYkkA=\",\"dtype\":\"float64\",\"order\":\"little\",\"shape\":[1]},\"Meats_comma_poultry_comma_fish_comma_and_eggs_left_parenthesis_2022_right_parenthesis\":{\"__ndarray__\":\"AAAAAAAYkkA=\",\"dtype\":\"float64\",\"order\":\"little\",\"shape\":[1]}},\"selected\":{\"id\":\"8777\"},\"selection_policy\":{\"id\":\"8797\"}},\"id\":\"8776\",\"type\":\"ColumnDataSource\"},{\"attributes\":{\"fill_color\":{\"value\":\"#d62728\"},\"hatch_color\":{\"value\":\"#d62728\"},\"line_color\":{\"value\":\"#d62728\"},\"size\":{\"value\":8.068786882420568},\"x\":{\"field\":\"Meats, poultry, fish, and eggs (2022)\"},\"y\":{\"field\":\"Fruits and vegetables (2022)\"}},\"id\":\"8895\",\"type\":\"Scatter\"},{\"attributes\":{\"data\":{\"Average_Change\":{\"__ndarray__\":\"PIhWQBLQFUA=\",\"dtype\":\"float64\",\"order\":\"little\",\"shape\":[1]},\"City\":[\"Baltimore\"],\"Fruits and vegetables (2022)\":{\"__ndarray__\":\"AAAAAADElEA=\",\"dtype\":\"float64\",\"order\":\"little\",\"shape\":[1]},\"Fruits_and_vegetables_left_parenthesis_2022_right_parenthesis\":{\"__ndarray__\":\"AAAAAADElEA=\",\"dtype\":\"float64\",\"order\":\"little\",\"shape\":[1]},\"Meats, poultry, fish, and eggs (2022)\":{\"__ndarray__\":\"AAAAAADYlUA=\",\"dtype\":\"float64\",\"order\":\"little\",\"shape\":[1]},\"Meats_comma_poultry_comma_fish_comma_and_eggs_left_parenthesis_2022_right_parenthesis\":{\"__ndarray__\":\"AAAAAADYlUA=\",\"dtype\":\"float64\",\"order\":\"little\",\"shape\":[1]}},\"selected\":{\"id\":\"8731\"},\"selection_policy\":{\"id\":\"8747\"}},\"id\":\"8730\",\"type\":\"ColumnDataSource\"},{\"attributes\":{},\"id\":\"8957\",\"type\":\"UnionRenderers\"},{\"attributes\":{\"fill_alpha\":{\"value\":0.1},\"fill_color\":{\"value\":\"#30a2da\"},\"hatch_alpha\":{\"value\":0.1},\"hatch_color\":{\"value\":\"#30a2da\"},\"line_alpha\":{\"value\":0.1},\"line_color\":{\"value\":\"#30a2da\"},\"size\":{\"value\":11.137556369527474},\"x\":{\"field\":\"Meats, poultry, fish, and eggs (2022)\"},\"y\":{\"field\":\"Fruits and vegetables (2022)\"}},\"id\":\"8713\",\"type\":\"Scatter\"},{\"attributes\":{\"margin\":[5,5,5,5],\"name\":\"HSpacer09712\",\"sizing_mode\":\"stretch_width\"},\"id\":\"8654\",\"type\":\"Spacer\"},{\"attributes\":{},\"id\":\"8797\",\"type\":\"UnionRenderers\"},{\"attributes\":{\"fill_color\":{\"value\":\"#1f77b4\"},\"hatch_color\":{\"value\":\"#1f77b4\"},\"line_color\":{\"value\":\"#1f77b4\"},\"size\":{\"value\":8.841730445878879},\"x\":{\"field\":\"Meats, poultry, fish, and eggs (2022)\"},\"y\":{\"field\":\"Fruits and vegetables (2022)\"}},\"id\":\"8929\",\"type\":\"Scatter\"},{\"attributes\":{\"coordinates\":null,\"data_source\":{\"id\":\"8709\"},\"glyph\":{\"id\":\"8712\"},\"group\":null,\"hover_glyph\":null,\"muted_glyph\":{\"id\":\"8714\"},\"nonselection_glyph\":{\"id\":\"8713\"},\"selection_glyph\":{\"id\":\"8729\"},\"view\":{\"id\":\"8716\"}},\"id\":\"8715\",\"type\":\"GlyphRenderer\"},{\"attributes\":{\"source\":{\"id\":\"8709\"}},\"id\":\"8716\",\"type\":\"CDSView\"},{\"attributes\":{\"label\":{\"value\":\"Dallas-Fort Worth\"},\"renderers\":[{\"id\":\"8782\"}]},\"id\":\"8800\",\"type\":\"LegendItem\"},{\"attributes\":{\"fill_alpha\":{\"value\":0.2},\"fill_color\":{\"value\":\"#30a2da\"},\"hatch_alpha\":{\"value\":0.2},\"hatch_color\":{\"value\":\"#30a2da\"},\"line_alpha\":{\"value\":0.2},\"line_color\":{\"value\":\"#30a2da\"},\"size\":{\"value\":11.137556369527474},\"x\":{\"field\":\"Meats, poultry, fish, and eggs (2022)\"},\"y\":{\"field\":\"Fruits and vegetables (2022)\"}},\"id\":\"8714\",\"type\":\"Scatter\"},{\"attributes\":{\"fill_alpha\":{\"value\":0.1},\"fill_color\":{\"value\":\"#d62728\"},\"hatch_alpha\":{\"value\":0.1},\"hatch_color\":{\"value\":\"#d62728\"},\"line_alpha\":{\"value\":0.1},\"line_color\":{\"value\":\"#d62728\"},\"size\":{\"value\":8.068786882420568},\"x\":{\"field\":\"Meats, poultry, fish, and eggs (2022)\"},\"y\":{\"field\":\"Fruits and vegetables (2022)\"}},\"id\":\"8896\",\"type\":\"Scatter\"},{\"attributes\":{},\"id\":\"8680\",\"type\":\"LinearScale\"},{\"attributes\":{\"click_policy\":\"mute\",\"coordinates\":null,\"group\":null,\"items\":[{\"id\":\"8728\"},{\"id\":\"8750\"},{\"id\":\"8774\"},{\"id\":\"8800\"},{\"id\":\"8828\"},{\"id\":\"8858\"},{\"id\":\"8890\"},{\"id\":\"8924\"},{\"id\":\"8960\"},{\"id\":\"8998\"},{\"id\":\"9038\"},{\"id\":\"9080\"},{\"id\":\"9124\"},{\"id\":\"9170\"},{\"id\":\"9218\"},{\"id\":\"9268\"}],\"location\":[0,0],\"title\":\"City\"},\"id\":\"8727\",\"type\":\"Legend\"},{\"attributes\":{\"label\":{\"value\":\"Detroit\"},\"renderers\":[{\"id\":\"8808\"}]},\"id\":\"8828\",\"type\":\"LegendItem\"},{\"attributes\":{\"label\":{\"value\":\"Atlanta\"},\"renderers\":[{\"id\":\"8715\"}]},\"id\":\"8728\",\"type\":\"LegendItem\"},{\"attributes\":{\"fill_alpha\":{\"value\":0.2},\"fill_color\":{\"value\":\"#d62728\"},\"hatch_alpha\":{\"value\":0.2},\"hatch_color\":{\"value\":\"#d62728\"},\"line_alpha\":{\"value\":0.2},\"line_color\":{\"value\":\"#d62728\"},\"size\":{\"value\":8.068786882420568},\"x\":{\"field\":\"Meats, poultry, fish, and eggs (2022)\"},\"y\":{\"field\":\"Fruits and vegetables (2022)\"}},\"id\":\"8897\",\"type\":\"Scatter\"},{\"attributes\":{\"fill_color\":{\"value\":\"#6d904f\"},\"hatch_color\":{\"value\":\"#6d904f\"},\"line_color\":{\"value\":\"#6d904f\"},\"size\":{\"value\":10.84482743362388},\"x\":{\"field\":\"Meats, poultry, fish, and eggs (2022)\"},\"y\":{\"field\":\"Fruits and vegetables (2022)\"}},\"id\":\"9223\",\"type\":\"Scatter\"},{\"attributes\":{},\"id\":\"8678\",\"type\":\"LinearScale\"},{\"attributes\":{\"coordinates\":null,\"group\":null,\"text_color\":\"black\",\"text_font_size\":\"12pt\"},\"id\":\"8674\",\"type\":\"Title\"},{\"attributes\":{\"label\":{\"value\":\"Philadelphia\"},\"renderers\":[{\"id\":\"9006\"}]},\"id\":\"9038\",\"type\":\"LegendItem\"},{\"attributes\":{\"axis_label\":\"Meats, poultry, fish, and eggs (2022)\",\"coordinates\":null,\"formatter\":{\"id\":\"8704\"},\"group\":null,\"major_label_policy\":{\"id\":\"8705\"},\"ticker\":{\"id\":\"8683\"}},\"id\":\"8682\",\"type\":\"LinearAxis\"},{\"attributes\":{},\"id\":\"8921\",\"type\":\"UnionRenderers\"},{\"attributes\":{\"source\":{\"id\":\"8892\"}},\"id\":\"8899\",\"type\":\"CDSView\"},{\"attributes\":{},\"id\":\"8683\",\"type\":\"BasicTicker\"},{\"attributes\":{},\"id\":\"9265\",\"type\":\"UnionRenderers\"},{\"attributes\":{\"coordinates\":null,\"data_source\":{\"id\":\"9220\"},\"glyph\":{\"id\":\"9223\"},\"group\":null,\"hover_glyph\":null,\"muted_glyph\":{\"id\":\"9225\"},\"nonselection_glyph\":{\"id\":\"9224\"},\"selection_glyph\":{\"id\":\"9269\"},\"view\":{\"id\":\"9227\"}},\"id\":\"9226\",\"type\":\"GlyphRenderer\"},{\"attributes\":{\"angle\":{\"value\":0.0},\"fill_alpha\":{\"value\":1.0},\"fill_color\":{\"value\":\"#e377c2\"},\"hatch_alpha\":{\"value\":1.0},\"hatch_color\":{\"value\":\"#e377c2\"},\"hatch_scale\":{\"value\":12.0},\"hatch_weight\":{\"value\":1.0},\"line_alpha\":{\"value\":1.0},\"line_cap\":{\"value\":\"butt\"},\"line_color\":{\"value\":\"#e377c2\"},\"line_dash\":{\"value\":[]},\"line_dash_offset\":{\"value\":0},\"line_join\":{\"value\":\"bevel\"},\"line_width\":{\"value\":1},\"marker\":{\"value\":\"circle\"},\"size\":{\"value\":8.673175222750906},\"x\":{\"field\":\"Meats, poultry, fish, and eggs (2022)\"},\"y\":{\"field\":\"Fruits and vegetables (2022)\"}},\"id\":\"8999\",\"type\":\"Scatter\"},{\"attributes\":{\"label\":{\"value\":\"Miami\"},\"renderers\":[{\"id\":\"8898\"}]},\"id\":\"8924\",\"type\":\"LegendItem\"},{\"attributes\":{\"axis\":{\"id\":\"8682\"},\"coordinates\":null,\"grid_line_color\":null,\"group\":null,\"ticker\":null},\"id\":\"8685\",\"type\":\"Grid\"},{\"attributes\":{},\"id\":\"8705\",\"type\":\"AllLabels\"},{\"attributes\":{\"coordinates\":null,\"data_source\":{\"id\":\"8892\"},\"glyph\":{\"id\":\"8895\"},\"group\":null,\"hover_glyph\":null,\"muted_glyph\":{\"id\":\"8897\"},\"nonselection_glyph\":{\"id\":\"8896\"},\"selection_glyph\":{\"id\":\"8925\"},\"view\":{\"id\":\"8899\"}},\"id\":\"8898\",\"type\":\"GlyphRenderer\"},{\"attributes\":{\"data\":{\"Average_Change\":{\"__ndarray__\":\"cJqrlad4/j8=\",\"dtype\":\"float64\",\"order\":\"little\",\"shape\":[1]},\"City\":[\"Phoenix\"],\"Fruits and vegetables (2022)\":{\"__ndarray__\":\"AAAAAAAwi0A=\",\"dtype\":\"float64\",\"order\":\"little\",\"shape\":[1]},\"Fruits_and_vegetables_left_parenthesis_2022_right_parenthesis\":{\"__ndarray__\":\"AAAAAAAwi0A=\",\"dtype\":\"float64\",\"order\":\"little\",\"shape\":[1]},\"Meats, poultry, fish, and eggs (2022)\":{\"__ndarray__\":\"AAAAAACwjkA=\",\"dtype\":\"float64\",\"order\":\"little\",\"shape\":[1]},\"Meats_comma_poultry_comma_fish_comma_and_eggs_left_parenthesis_2022_right_parenthesis\":{\"__ndarray__\":\"AAAAAACwjkA=\",\"dtype\":\"float64\",\"order\":\"little\",\"shape\":[1]}},\"selected\":{\"id\":\"9041\"},\"selection_policy\":{\"id\":\"9077\"}},\"id\":\"9040\",\"type\":\"ColumnDataSource\"},{\"attributes\":{},\"id\":\"8691\",\"type\":\"PanTool\"},{\"attributes\":{\"axis_label\":\"Fruits and vegetables (2022)\",\"coordinates\":null,\"formatter\":{\"id\":\"8707\"},\"group\":null,\"major_label_policy\":{\"id\":\"8708\"},\"ticker\":{\"id\":\"8687\"}},\"id\":\"8686\",\"type\":\"LinearAxis\"},{\"attributes\":{\"axis\":{\"id\":\"8686\"},\"coordinates\":null,\"dimension\":1,\"grid_line_color\":null,\"group\":null,\"ticker\":null},\"id\":\"8689\",\"type\":\"Grid\"},{\"attributes\":{\"angle\":{\"value\":0.0},\"fill_alpha\":{\"value\":1.0},\"fill_color\":{\"value\":\"#8b8b8b\"},\"hatch_alpha\":{\"value\":1.0},\"hatch_color\":{\"value\":\"#8b8b8b\"},\"hatch_scale\":{\"value\":12.0},\"hatch_weight\":{\"value\":1.0},\"line_alpha\":{\"value\":1.0},\"line_cap\":{\"value\":\"butt\"},\"line_color\":{\"value\":\"#8b8b8b\"},\"line_dash\":{\"value\":[]},\"line_dash_offset\":{\"value\":0},\"line_join\":{\"value\":\"bevel\"},\"line_width\":{\"value\":1},\"marker\":{\"value\":\"circle\"},\"size\":{\"value\":7.113004584664688},\"x\":{\"field\":\"Meats, poultry, fish, and eggs (2022)\"},\"y\":{\"field\":\"Fruits and vegetables (2022)\"}},\"id\":\"8829\",\"type\":\"Scatter\"},{\"attributes\":{\"label\":{\"value\":\"Seattle\"},\"renderers\":[{\"id\":\"9178\"}]},\"id\":\"9218\",\"type\":\"LegendItem\"},{\"attributes\":{},\"id\":\"8687\",\"type\":\"BasicTicker\"},{\"attributes\":{},\"id\":\"8692\",\"type\":\"WheelZoomTool\"},{\"attributes\":{\"fill_alpha\":{\"value\":0.1},\"fill_color\":{\"value\":\"#8c564b\"},\"hatch_alpha\":{\"value\":0.1},\"hatch_color\":{\"value\":\"#8c564b\"},\"line_alpha\":{\"value\":0.1},\"line_color\":{\"value\":\"#8c564b\"},\"size\":{\"value\":9.11925524844631},\"x\":{\"field\":\"Meats, poultry, fish, and eggs (2022)\"},\"y\":{\"field\":\"Fruits and vegetables (2022)\"}},\"id\":\"9004\",\"type\":\"Scatter\"},{\"attributes\":{\"angle\":{\"value\":0.0},\"fill_alpha\":{\"value\":1.0},\"fill_color\":{\"value\":\"#fc4f30\"},\"hatch_alpha\":{\"value\":1.0},\"hatch_color\":{\"value\":\"#fc4f30\"},\"hatch_scale\":{\"value\":12.0},\"hatch_weight\":{\"value\":1.0},\"line_alpha\":{\"value\":1.0},\"line_cap\":{\"value\":\"butt\"},\"line_color\":{\"value\":\"#fc4f30\"},\"line_dash\":{\"value\":[]},\"line_dash_offset\":{\"value\":0},\"line_join\":{\"value\":\"bevel\"},\"line_width\":{\"value\":1},\"marker\":{\"value\":\"circle\"},\"size\":{\"value\":10.811685490800762},\"x\":{\"field\":\"Meats, poultry, fish, and eggs (2022)\"},\"y\":{\"field\":\"Fruits and vegetables (2022)\"}},\"id\":\"9171\",\"type\":\"Scatter\"},{\"attributes\":{},\"id\":\"8690\",\"type\":\"SaveTool\"},{\"attributes\":{\"label\":{\"value\":\"New York\"},\"renderers\":[{\"id\":\"8968\"}]},\"id\":\"8998\",\"type\":\"LegendItem\"},{\"attributes\":{\"overlay\":{\"id\":\"8695\"}},\"id\":\"8693\",\"type\":\"BoxZoomTool\"},{\"attributes\":{},\"id\":\"8694\",\"type\":\"ResetTool\"},{\"attributes\":{\"fill_alpha\":{\"value\":0.1},\"fill_color\":{\"value\":\"#17becf\"},\"hatch_alpha\":{\"value\":0.1},\"hatch_color\":{\"value\":\"#17becf\"},\"line_alpha\":{\"value\":0.1},\"line_color\":{\"value\":\"#17becf\"},\"size\":{\"value\":5.52032928686538},\"x\":{\"field\":\"Meats, poultry, fish, and eggs (2022)\"},\"y\":{\"field\":\"Fruits and vegetables (2022)\"}},\"id\":\"8834\",\"type\":\"Scatter\"},{\"attributes\":{\"angle\":{\"value\":0.0},\"fill_alpha\":{\"value\":1.0},\"fill_color\":{\"value\":\"#1f77b4\"},\"hatch_alpha\":{\"value\":1.0},\"hatch_color\":{\"value\":\"#1f77b4\"},\"hatch_scale\":{\"value\":12.0},\"hatch_weight\":{\"value\":1.0},\"line_alpha\":{\"value\":1.0},\"line_cap\":{\"value\":\"butt\"},\"line_color\":{\"value\":\"#1f77b4\"},\"line_dash\":{\"value\":[]},\"line_dash_offset\":{\"value\":0},\"line_join\":{\"value\":\"bevel\"},\"line_width\":{\"value\":1},\"marker\":{\"value\":\"circle\"},\"size\":{\"value\":8.841730445878879},\"x\":{\"field\":\"Meats, poultry, fish, and eggs (2022)\"},\"y\":{\"field\":\"Fruits and vegetables (2022)\"}},\"id\":\"8961\",\"type\":\"Scatter\"},{\"attributes\":{\"bottom_units\":\"screen\",\"coordinates\":null,\"fill_alpha\":0.5,\"fill_color\":\"lightgrey\",\"group\":null,\"left_units\":\"screen\",\"level\":\"overlay\",\"line_alpha\":1.0,\"line_color\":\"black\",\"line_dash\":[4,4],\"line_width\":2,\"right_units\":\"screen\",\"syncable\":false,\"top_units\":\"screen\"},\"id\":\"8695\",\"type\":\"BoxAnnotation\"},{\"attributes\":{\"fill_alpha\":{\"value\":0.2},\"fill_color\":{\"value\":\"#8c564b\"},\"hatch_alpha\":{\"value\":0.2},\"hatch_color\":{\"value\":\"#8c564b\"},\"line_alpha\":{\"value\":0.2},\"line_color\":{\"value\":\"#8c564b\"},\"size\":{\"value\":9.11925524844631},\"x\":{\"field\":\"Meats, poultry, fish, and eggs (2022)\"},\"y\":{\"field\":\"Fruits and vegetables (2022)\"}},\"id\":\"9005\",\"type\":\"Scatter\"},{\"attributes\":{\"source\":{\"id\":\"9220\"}},\"id\":\"9227\",\"type\":\"CDSView\"},{\"attributes\":{\"fill_color\":{\"value\":\"#e5ae38\"},\"hatch_color\":{\"value\":\"#e5ae38\"},\"line_color\":{\"value\":\"#e5ae38\"},\"size\":{\"value\":9.370703370598081},\"x\":{\"field\":\"Meats, poultry, fish, and eggs (2022)\"},\"y\":{\"field\":\"Fruits and vegetables (2022)\"}},\"id\":\"9175\",\"type\":\"Scatter\"},{\"attributes\":{\"data\":{\"Average_Change\":{\"__ndarray__\":\"Ra/SuIicCkA=\",\"dtype\":\"float64\",\"order\":\"little\",\"shape\":[1]},\"City\":[\"Philadelphia\"],\"Fruits and vegetables (2022)\":{\"__ndarray__\":\"AAAAAABUk0A=\",\"dtype\":\"float64\",\"order\":\"little\",\"shape\":[1]},\"Fruits_and_vegetables_left_parenthesis_2022_right_parenthesis\":{\"__ndarray__\":\"AAAAAABUk0A=\",\"dtype\":\"float64\",\"order\":\"little\",\"shape\":[1]},\"Meats, poultry, fish, and eggs (2022)\":{\"__ndarray__\":\"AAAAAADUk0A=\",\"dtype\":\"float64\",\"order\":\"little\",\"shape\":[1]},\"Meats_comma_poultry_comma_fish_comma_and_eggs_left_parenthesis_2022_right_parenthesis\":{\"__ndarray__\":\"AAAAAADUk0A=\",\"dtype\":\"float64\",\"order\":\"little\",\"shape\":[1]}},\"selected\":{\"id\":\"9001\"},\"selection_policy\":{\"id\":\"9035\"}},\"id\":\"9000\",\"type\":\"ColumnDataSource\"},{\"attributes\":{\"label\":{\"value\":\"Washington, D.C.\"},\"renderers\":[{\"id\":\"9226\"}]},\"id\":\"9268\",\"type\":\"LegendItem\"},{\"attributes\":{},\"id\":\"9215\",\"type\":\"UnionRenderers\"},{\"attributes\":{},\"id\":\"9221\",\"type\":\"Selection\"},{\"attributes\":{\"coordinates\":null,\"data_source\":{\"id\":\"9172\"},\"glyph\":{\"id\":\"9175\"},\"group\":null,\"hover_glyph\":null,\"muted_glyph\":{\"id\":\"9177\"},\"nonselection_glyph\":{\"id\":\"9176\"},\"selection_glyph\":{\"id\":\"9219\"},\"view\":{\"id\":\"9179\"}},\"id\":\"9178\",\"type\":\"GlyphRenderer\"},{\"attributes\":{\"fill_alpha\":{\"value\":0.1},\"fill_color\":{\"value\":\"#6d904f\"},\"hatch_alpha\":{\"value\":0.1},\"hatch_color\":{\"value\":\"#6d904f\"},\"line_alpha\":{\"value\":0.1},\"line_color\":{\"value\":\"#6d904f\"},\"size\":{\"value\":10.84482743362388},\"x\":{\"field\":\"Meats, poultry, fish, and eggs (2022)\"},\"y\":{\"field\":\"Fruits and vegetables (2022)\"}},\"id\":\"9224\",\"type\":\"Scatter\"},{\"attributes\":{},\"id\":\"9035\",\"type\":\"UnionRenderers\"},{\"attributes\":{\"end\":1828.1714285714286,\"reset_end\":1828.1714285714286,\"reset_start\":835.8285714285714,\"start\":835.8285714285714,\"tags\":[[[\"Meats, poultry, fish, and eggs (2022)\",\"Meats, poultry, fish, and eggs (2022)\",null]]]},\"id\":\"8655\",\"type\":\"Range1d\"},{\"attributes\":{},\"id\":\"8708\",\"type\":\"AllLabels\"},{\"attributes\":{\"fill_color\":{\"value\":\"#17becf\"},\"hatch_color\":{\"value\":\"#17becf\"},\"line_color\":{\"value\":\"#17becf\"},\"size\":{\"value\":5.52032928686538},\"x\":{\"field\":\"Meats, poultry, fish, and eggs (2022)\"},\"y\":{\"field\":\"Fruits and vegetables (2022)\"}},\"id\":\"8833\",\"type\":\"Scatter\"},{\"attributes\":{\"fill_alpha\":{\"value\":0.2},\"fill_color\":{\"value\":\"#6d904f\"},\"hatch_alpha\":{\"value\":0.2},\"hatch_color\":{\"value\":\"#6d904f\"},\"line_alpha\":{\"value\":0.2},\"line_color\":{\"value\":\"#6d904f\"},\"size\":{\"value\":10.84482743362388},\"x\":{\"field\":\"Meats, poultry, fish, and eggs (2022)\"},\"y\":{\"field\":\"Fruits and vegetables (2022)\"}},\"id\":\"9225\",\"type\":\"Scatter\"},{\"attributes\":{\"angle\":{\"value\":0.0},\"fill_alpha\":{\"value\":1.0},\"fill_color\":{\"value\":\"#6d904f\"},\"hatch_alpha\":{\"value\":1.0},\"hatch_color\":{\"value\":\"#6d904f\"},\"hatch_scale\":{\"value\":12.0},\"hatch_weight\":{\"value\":1.0},\"line_alpha\":{\"value\":1.0},\"line_cap\":{\"value\":\"butt\"},\"line_color\":{\"value\":\"#6d904f\"},\"line_dash\":{\"value\":[]},\"line_dash_offset\":{\"value\":0},\"line_join\":{\"value\":\"bevel\"},\"line_width\":{\"value\":1},\"marker\":{\"value\":\"circle\"},\"size\":{\"value\":7.340526653326254},\"x\":{\"field\":\"Meats, poultry, fish, and eggs (2022)\"},\"y\":{\"field\":\"Fruits and vegetables (2022)\"}},\"id\":\"8801\",\"type\":\"Scatter\"},{\"attributes\":{\"fill_color\":{\"value\":\"#e377c2\"},\"hatch_color\":{\"value\":\"#e377c2\"},\"line_color\":{\"value\":\"#e377c2\"},\"size\":{\"value\":8.673175222750906},\"x\":{\"field\":\"Meats, poultry, fish, and eggs (2022)\"},\"y\":{\"field\":\"Fruits and vegetables (2022)\"}},\"id\":\"8965\",\"type\":\"Scatter\"},{\"attributes\":{},\"id\":\"8724\",\"type\":\"UnionRenderers\"},{\"attributes\":{\"data\":{\"Average_Change\":{\"__ndarray__\":\"70Pur92A8z8=\",\"dtype\":\"float64\",\"order\":\"little\",\"shape\":[1]},\"City\":[\"Houston\"],\"Fruits and vegetables (2022)\":{\"__ndarray__\":\"AAAAAABAiEA=\",\"dtype\":\"float64\",\"order\":\"little\",\"shape\":[1]},\"Fruits_and_vegetables_left_parenthesis_2022_right_parenthesis\":{\"__ndarray__\":\"AAAAAABAiEA=\",\"dtype\":\"float64\",\"order\":\"little\",\"shape\":[1]},\"Meats, poultry, fish, and eggs (2022)\":{\"__ndarray__\":\"AAAAAABYi0A=\",\"dtype\":\"float64\",\"order\":\"little\",\"shape\":[1]},\"Meats_comma_poultry_comma_fish_comma_and_eggs_left_parenthesis_2022_right_parenthesis\":{\"__ndarray__\":\"AAAAAABYi0A=\",\"dtype\":\"float64\",\"order\":\"little\",\"shape\":[1]}},\"selected\":{\"id\":\"8831\"},\"selection_policy\":{\"id\":\"8855\"}},\"id\":\"8830\",\"type\":\"ColumnDataSource\"},{\"attributes\":{\"callback\":null,\"renderers\":[{\"id\":\"8715\"},{\"id\":\"8736\"},{\"id\":\"8758\"},{\"id\":\"8782\"},{\"id\":\"8808\"},{\"id\":\"8836\"},{\"id\":\"8866\"},{\"id\":\"8898\"},{\"id\":\"8932\"},{\"id\":\"8968\"},{\"id\":\"9006\"},{\"id\":\"9046\"},{\"id\":\"9088\"},{\"id\":\"9132\"},{\"id\":\"9178\"},{\"id\":\"9226\"}],\"tags\":[\"hv_created\"],\"tooltips\":[[\"City\",\"@{City}\"],[\"Meats, poultry, fish, and eggs (2022)\",\"@{Meats_comma_poultry_comma_fish_comma_and_eggs_left_parenthesis_2022_right_parenthesis}\"],[\"Fruits and vegetables (2022)\",\"@{Fruits_and_vegetables_left_parenthesis_2022_right_parenthesis}\"],[\"Average Change\",\"@{Average_Change}\"]]},\"id\":\"8657\",\"type\":\"HoverTool\"},{\"attributes\":{},\"id\":\"8995\",\"type\":\"UnionRenderers\"},{\"attributes\":{\"children\":[{\"id\":\"8654\"},{\"id\":\"8673\"},{\"id\":\"9310\"}],\"margin\":[0,0,0,0],\"name\":\"Row09708\",\"tags\":[\"embedded\"]},\"id\":\"8653\",\"type\":\"Row\"},{\"attributes\":{\"coordinates\":null,\"data_source\":{\"id\":\"8962\"},\"glyph\":{\"id\":\"8965\"},\"group\":null,\"hover_glyph\":null,\"muted_glyph\":{\"id\":\"8967\"},\"nonselection_glyph\":{\"id\":\"8966\"},\"selection_glyph\":{\"id\":\"8999\"},\"view\":{\"id\":\"8969\"}},\"id\":\"8968\",\"type\":\"GlyphRenderer\"},{\"attributes\":{\"coordinates\":null,\"data_source\":{\"id\":\"9000\"},\"glyph\":{\"id\":\"9003\"},\"group\":null,\"hover_glyph\":null,\"muted_glyph\":{\"id\":\"9005\"},\"nonselection_glyph\":{\"id\":\"9004\"},\"selection_glyph\":{\"id\":\"9039\"},\"view\":{\"id\":\"9007\"}},\"id\":\"9006\",\"type\":\"GlyphRenderer\"},{\"attributes\":{\"fill_color\":{\"value\":\"#8b8b8b\"},\"hatch_color\":{\"value\":\"#8b8b8b\"},\"line_color\":{\"value\":\"#8b8b8b\"},\"size\":{\"value\":7.113004584664688},\"x\":{\"field\":\"Meats, poultry, fish, and eggs (2022)\"},\"y\":{\"field\":\"Fruits and vegetables (2022)\"}},\"id\":\"8805\",\"type\":\"Scatter\"},{\"attributes\":{\"end\":2076.2,\"reset_end\":2076.2,\"reset_start\":657.8,\"start\":657.8,\"tags\":[[[\"Fruits and vegetables (2022)\",\"Fruits and vegetables (2022)\",null]]]},\"id\":\"8656\",\"type\":\"Range1d\"},{\"attributes\":{\"source\":{\"id\":\"8830\"}},\"id\":\"8837\",\"type\":\"CDSView\"},{\"attributes\":{\"coordinates\":null,\"data_source\":{\"id\":\"8802\"},\"glyph\":{\"id\":\"8805\"},\"group\":null,\"hover_glyph\":null,\"muted_glyph\":{\"id\":\"8807\"},\"nonselection_glyph\":{\"id\":\"8806\"},\"selection_glyph\":{\"id\":\"8829\"},\"view\":{\"id\":\"8809\"}},\"id\":\"8808\",\"type\":\"GlyphRenderer\"},{\"attributes\":{\"below\":[{\"id\":\"8682\"}],\"center\":[{\"id\":\"8685\"},{\"id\":\"8689\"}],\"height\":300,\"left\":[{\"id\":\"8686\"}],\"margin\":[5,5,5,5],\"min_border_bottom\":10,\"min_border_left\":10,\"min_border_right\":10,\"min_border_top\":10,\"renderers\":[{\"id\":\"8715\"},{\"id\":\"8736\"},{\"id\":\"8758\"},{\"id\":\"8782\"},{\"id\":\"8808\"},{\"id\":\"8836\"},{\"id\":\"8866\"},{\"id\":\"8898\"},{\"id\":\"8932\"},{\"id\":\"8968\"},{\"id\":\"9006\"},{\"id\":\"9046\"},{\"id\":\"9088\"},{\"id\":\"9132\"},{\"id\":\"9178\"},{\"id\":\"9226\"}],\"right\":[{\"id\":\"8727\"}],\"sizing_mode\":\"fixed\",\"title\":{\"id\":\"8674\"},\"toolbar\":{\"id\":\"8696\"},\"width\":700,\"x_range\":{\"id\":\"8655\"},\"x_scale\":{\"id\":\"8678\"},\"y_range\":{\"id\":\"8656\"},\"y_scale\":{\"id\":\"8680\"}},\"id\":\"8673\",\"subtype\":\"Figure\",\"type\":\"Plot\"},{\"attributes\":{\"source\":{\"id\":\"9000\"}},\"id\":\"9007\",\"type\":\"CDSView\"},{\"attributes\":{},\"id\":\"8707\",\"type\":\"BasicTickFormatter\"},{\"attributes\":{\"coordinates\":null,\"data_source\":{\"id\":\"8830\"},\"glyph\":{\"id\":\"8833\"},\"group\":null,\"hover_glyph\":null,\"muted_glyph\":{\"id\":\"8835\"},\"nonselection_glyph\":{\"id\":\"8834\"},\"selection_glyph\":{\"id\":\"8859\"},\"view\":{\"id\":\"8837\"}},\"id\":\"8836\",\"type\":\"GlyphRenderer\"},{\"attributes\":{\"data\":{\"Average_Change\":{\"__ndarray__\":\"oTN8oeWRAkA=\",\"dtype\":\"float64\",\"order\":\"little\",\"shape\":[1]},\"City\":[\"Los Angeles\"],\"Fruits and vegetables (2022)\":{\"__ndarray__\":\"AAAAAAAEk0A=\",\"dtype\":\"float64\",\"order\":\"little\",\"shape\":[1]},\"Fruits_and_vegetables_left_parenthesis_2022_right_parenthesis\":{\"__ndarray__\":\"AAAAAAAEk0A=\",\"dtype\":\"float64\",\"order\":\"little\",\"shape\":[1]},\"Meats, poultry, fish, and eggs (2022)\":{\"__ndarray__\":\"AAAAAAB8lEA=\",\"dtype\":\"float64\",\"order\":\"little\",\"shape\":[1]},\"Meats_comma_poultry_comma_fish_comma_and_eggs_left_parenthesis_2022_right_parenthesis\":{\"__ndarray__\":\"AAAAAAB8lEA=\",\"dtype\":\"float64\",\"order\":\"little\",\"shape\":[1]}},\"selected\":{\"id\":\"8861\"},\"selection_policy\":{\"id\":\"8887\"}},\"id\":\"8860\",\"type\":\"ColumnDataSource\"},{\"attributes\":{\"source\":{\"id\":\"9172\"}},\"id\":\"9179\",\"type\":\"CDSView\"},{\"attributes\":{\"fill_alpha\":{\"value\":0.2},\"fill_color\":{\"value\":\"#17becf\"},\"hatch_alpha\":{\"value\":0.2},\"hatch_color\":{\"value\":\"#17becf\"},\"line_alpha\":{\"value\":0.2},\"line_color\":{\"value\":\"#17becf\"},\"size\":{\"value\":5.52032928686538},\"x\":{\"field\":\"Meats, poultry, fish, and eggs (2022)\"},\"y\":{\"field\":\"Fruits and vegetables (2022)\"}},\"id\":\"8835\",\"type\":\"Scatter\"},{\"attributes\":{\"data\":{\"Average_Change\":{\"__ndarray__\":\"m0hu9VgSCEA=\",\"dtype\":\"float64\",\"order\":\"little\",\"shape\":[1]},\"City\":[\"New York\"],\"Fruits and vegetables (2022)\":{\"__ndarray__\":\"AAAAAADQlkA=\",\"dtype\":\"float64\",\"order\":\"little\",\"shape\":[1]},\"Fruits_and_vegetables_left_parenthesis_2022_right_parenthesis\":{\"__ndarray__\":\"AAAAAADQlkA=\",\"dtype\":\"float64\",\"order\":\"little\",\"shape\":[1]},\"Meats, poultry, fish, and eggs (2022)\":{\"__ndarray__\":\"AAAAAAD4l0A=\",\"dtype\":\"float64\",\"order\":\"little\",\"shape\":[1]},\"Meats_comma_poultry_comma_fish_comma_and_eggs_left_parenthesis_2022_right_parenthesis\":{\"__ndarray__\":\"AAAAAAD4l0A=\",\"dtype\":\"float64\",\"order\":\"little\",\"shape\":[1]}},\"selected\":{\"id\":\"8963\"},\"selection_policy\":{\"id\":\"8995\"}},\"id\":\"8962\",\"type\":\"ColumnDataSource\"},{\"attributes\":{},\"id\":\"8855\",\"type\":\"UnionRenderers\"},{\"attributes\":{},\"id\":\"8831\",\"type\":\"Selection\"},{\"attributes\":{},\"id\":\"9173\",\"type\":\"Selection\"},{\"attributes\":{\"fill_alpha\":{\"value\":0.1},\"fill_color\":{\"value\":\"#e5ae38\"},\"hatch_alpha\":{\"value\":0.1},\"hatch_color\":{\"value\":\"#e5ae38\"},\"line_alpha\":{\"value\":0.1},\"line_color\":{\"value\":\"#e5ae38\"},\"size\":{\"value\":9.370703370598081},\"x\":{\"field\":\"Meats, poultry, fish, and eggs (2022)\"},\"y\":{\"field\":\"Fruits and vegetables (2022)\"}},\"id\":\"9176\",\"type\":\"Scatter\"},{\"attributes\":{\"coordinates\":null,\"data_source\":{\"id\":\"8926\"},\"glyph\":{\"id\":\"8929\"},\"group\":null,\"hover_glyph\":null,\"muted_glyph\":{\"id\":\"8931\"},\"nonselection_glyph\":{\"id\":\"8930\"},\"selection_glyph\":{\"id\":\"8961\"},\"view\":{\"id\":\"8933\"}},\"id\":\"8932\",\"type\":\"GlyphRenderer\"},{\"attributes\":{\"source\":{\"id\":\"8962\"}},\"id\":\"8969\",\"type\":\"CDSView\"},{\"attributes\":{\"fill_alpha\":{\"value\":0.2},\"fill_color\":{\"value\":\"#e5ae38\"},\"hatch_alpha\":{\"value\":0.2},\"hatch_color\":{\"value\":\"#e5ae38\"},\"line_alpha\":{\"value\":0.2},\"line_color\":{\"value\":\"#e5ae38\"},\"size\":{\"value\":9.370703370598081},\"x\":{\"field\":\"Meats, poultry, fish, and eggs (2022)\"},\"y\":{\"field\":\"Fruits and vegetables (2022)\"}},\"id\":\"9177\",\"type\":\"Scatter\"},{\"attributes\":{\"data\":{\"Average_Change\":{\"__ndarray__\":\"AEnzy+PYE0A=\",\"dtype\":\"float64\",\"order\":\"little\",\"shape\":[1]},\"City\":[\"Atlanta\"],\"Fruits and vegetables (2022)\":{\"__ndarray__\":\"AAAAAADQkkA=\",\"dtype\":\"float64\",\"order\":\"little\",\"shape\":[1]},\"Fruits_and_vegetables_left_parenthesis_2022_right_parenthesis\":{\"__ndarray__\":\"AAAAAADQkkA=\",\"dtype\":\"float64\",\"order\":\"little\",\"shape\":[1]},\"Meats, poultry, fish, and eggs (2022)\":{\"__ndarray__\":\"AAAAAACwk0A=\",\"dtype\":\"float64\",\"order\":\"little\",\"shape\":[1]},\"Meats_comma_poultry_comma_fish_comma_and_eggs_left_parenthesis_2022_right_parenthesis\":{\"__ndarray__\":\"AAAAAACwk0A=\",\"dtype\":\"float64\",\"order\":\"little\",\"shape\":[1]}},\"selected\":{\"id\":\"8710\"},\"selection_policy\":{\"id\":\"8724\"}},\"id\":\"8709\",\"type\":\"ColumnDataSource\"},{\"attributes\":{\"angle\":{\"value\":0.0},\"fill_alpha\":{\"value\":1.0},\"fill_color\":{\"value\":\"#e5ae38\"},\"hatch_alpha\":{\"value\":1.0},\"hatch_color\":{\"value\":\"#e5ae38\"},\"hatch_scale\":{\"value\":12.0},\"hatch_weight\":{\"value\":1.0},\"line_alpha\":{\"value\":1.0},\"line_cap\":{\"value\":\"butt\"},\"line_color\":{\"value\":\"#e5ae38\"},\"line_dash\":{\"value\":[]},\"line_dash_offset\":{\"value\":0},\"line_join\":{\"value\":\"bevel\"},\"line_width\":{\"value\":1},\"marker\":{\"value\":\"circle\"},\"size\":{\"value\":9.370703370598081},\"x\":{\"field\":\"Meats, poultry, fish, and eggs (2022)\"},\"y\":{\"field\":\"Fruits and vegetables (2022)\"}},\"id\":\"9219\",\"type\":\"Scatter\"},{\"attributes\":{\"label\":{\"value\":\"Houston\"},\"renderers\":[{\"id\":\"8836\"}]},\"id\":\"8858\",\"type\":\"LegendItem\"},{\"attributes\":{},\"id\":\"8963\",\"type\":\"Selection\"},{\"attributes\":{\"fill_alpha\":{\"value\":0.1},\"fill_color\":{\"value\":\"#e377c2\"},\"hatch_alpha\":{\"value\":0.1},\"hatch_color\":{\"value\":\"#e377c2\"},\"line_alpha\":{\"value\":0.1},\"line_color\":{\"value\":\"#e377c2\"},\"size\":{\"value\":8.673175222750906},\"x\":{\"field\":\"Meats, poultry, fish, and eggs (2022)\"},\"y\":{\"field\":\"Fruits and vegetables (2022)\"}},\"id\":\"8966\",\"type\":\"Scatter\"},{\"attributes\":{\"tools\":[{\"id\":\"8657\"},{\"id\":\"8690\"},{\"id\":\"8691\"},{\"id\":\"8692\"},{\"id\":\"8693\"},{\"id\":\"8694\"}]},\"id\":\"8696\",\"type\":\"Toolbar\"},{\"attributes\":{\"source\":{\"id\":\"8802\"}},\"id\":\"8809\",\"type\":\"CDSView\"},{\"attributes\":{\"fill_alpha\":{\"value\":0.2},\"fill_color\":{\"value\":\"#e377c2\"},\"hatch_alpha\":{\"value\":0.2},\"hatch_color\":{\"value\":\"#e377c2\"},\"line_alpha\":{\"value\":0.2},\"line_color\":{\"value\":\"#e377c2\"},\"size\":{\"value\":8.673175222750906},\"x\":{\"field\":\"Meats, poultry, fish, and eggs (2022)\"},\"y\":{\"field\":\"Fruits and vegetables (2022)\"}},\"id\":\"8967\",\"type\":\"Scatter\"},{\"attributes\":{\"data\":{\"Average_Change\":{\"__ndarray__\":\"fKZT9kM/D0A=\",\"dtype\":\"float64\",\"order\":\"little\",\"shape\":[1]},\"City\":[\"San Diego\"],\"Fruits and vegetables (2022)\":{\"__ndarray__\":\"AAAAAAAglkA=\",\"dtype\":\"float64\",\"order\":\"little\",\"shape\":[1]},\"Fruits_and_vegetables_left_parenthesis_2022_right_parenthesis\":{\"__ndarray__\":\"AAAAAAAglkA=\",\"dtype\":\"float64\",\"order\":\"little\",\"shape\":[1]},\"Meats, poultry, fish, and eggs (2022)\":{\"__ndarray__\":\"AAAAAADokkA=\",\"dtype\":\"float64\",\"order\":\"little\",\"shape\":[1]},\"Meats_comma_poultry_comma_fish_comma_and_eggs_left_parenthesis_2022_right_parenthesis\":{\"__ndarray__\":\"AAAAAADokkA=\",\"dtype\":\"float64\",\"order\":\"little\",\"shape\":[1]}},\"selected\":{\"id\":\"9083\"},\"selection_policy\":{\"id\":\"9121\"}},\"id\":\"9082\",\"type\":\"ColumnDataSource\"},{\"attributes\":{},\"id\":\"9001\",\"type\":\"Selection\"},{\"attributes\":{},\"id\":\"8710\",\"type\":\"Selection\"},{\"attributes\":{},\"id\":\"8825\",\"type\":\"UnionRenderers\"},{\"attributes\":{},\"id\":\"8803\",\"type\":\"Selection\"},{\"attributes\":{\"fill_alpha\":{\"value\":0.1},\"fill_color\":{\"value\":\"#8b8b8b\"},\"hatch_alpha\":{\"value\":0.1},\"hatch_color\":{\"value\":\"#8b8b8b\"},\"line_alpha\":{\"value\":0.1},\"line_color\":{\"value\":\"#8b8b8b\"},\"size\":{\"value\":7.113004584664688},\"x\":{\"field\":\"Meats, poultry, fish, and eggs (2022)\"},\"y\":{\"field\":\"Fruits and vegetables (2022)\"}},\"id\":\"8806\",\"type\":\"Scatter\"},{\"attributes\":{\"fill_alpha\":{\"value\":0.2},\"fill_color\":{\"value\":\"#8b8b8b\"},\"hatch_alpha\":{\"value\":0.2},\"hatch_color\":{\"value\":\"#8b8b8b\"},\"line_alpha\":{\"value\":0.2},\"line_color\":{\"value\":\"#8b8b8b\"},\"size\":{\"value\":7.113004584664688},\"x\":{\"field\":\"Meats, poultry, fish, and eggs (2022)\"},\"y\":{\"field\":\"Fruits and vegetables (2022)\"}},\"id\":\"8807\",\"type\":\"Scatter\"},{\"attributes\":{\"fill_color\":{\"value\":\"#30a2da\"},\"hatch_color\":{\"value\":\"#30a2da\"},\"line_color\":{\"value\":\"#30a2da\"},\"size\":{\"value\":11.137556369527474},\"x\":{\"field\":\"Meats, poultry, fish, and eggs (2022)\"},\"y\":{\"field\":\"Fruits and vegetables (2022)\"}},\"id\":\"8712\",\"type\":\"Scatter\"},{\"attributes\":{\"label\":{\"value\":\"Minneapolis-St.Paul\"},\"renderers\":[{\"id\":\"8932\"}]},\"id\":\"8960\",\"type\":\"LegendItem\"},{\"attributes\":{},\"id\":\"8704\",\"type\":\"BasicTickFormatter\"},{\"attributes\":{\"source\":{\"id\":\"8926\"}},\"id\":\"8933\",\"type\":\"CDSView\"},{\"attributes\":{\"angle\":{\"value\":0.0},\"fill_alpha\":{\"value\":1.0},\"fill_color\":{\"value\":\"#6d904f\"},\"hatch_alpha\":{\"value\":1.0},\"hatch_color\":{\"value\":\"#6d904f\"},\"hatch_scale\":{\"value\":12.0},\"hatch_weight\":{\"value\":1.0},\"line_alpha\":{\"value\":1.0},\"line_cap\":{\"value\":\"butt\"},\"line_color\":{\"value\":\"#6d904f\"},\"line_dash\":{\"value\":[]},\"line_dash_offset\":{\"value\":0},\"line_join\":{\"value\":\"bevel\"},\"line_width\":{\"value\":1},\"marker\":{\"value\":\"circle\"},\"size\":{\"value\":10.84482743362388},\"x\":{\"field\":\"Meats, poultry, fish, and eggs (2022)\"},\"y\":{\"field\":\"Fruits and vegetables (2022)\"}},\"id\":\"9269\",\"type\":\"Scatter\"},{\"attributes\":{},\"id\":\"8927\",\"type\":\"Selection\"},{\"attributes\":{\"fill_alpha\":{\"value\":0.1},\"fill_color\":{\"value\":\"#1f77b4\"},\"hatch_alpha\":{\"value\":0.1},\"hatch_color\":{\"value\":\"#1f77b4\"},\"line_alpha\":{\"value\":0.1},\"line_color\":{\"value\":\"#1f77b4\"},\"size\":{\"value\":8.841730445878879},\"x\":{\"field\":\"Meats, poultry, fish, and eggs (2022)\"},\"y\":{\"field\":\"Fruits and vegetables (2022)\"}},\"id\":\"8930\",\"type\":\"Scatter\"},{\"attributes\":{\"fill_alpha\":{\"value\":0.2},\"fill_color\":{\"value\":\"#1f77b4\"},\"hatch_alpha\":{\"value\":0.2},\"hatch_color\":{\"value\":\"#1f77b4\"},\"line_alpha\":{\"value\":0.2},\"line_color\":{\"value\":\"#1f77b4\"},\"size\":{\"value\":8.841730445878879},\"x\":{\"field\":\"Meats, poultry, fish, and eggs (2022)\"},\"y\":{\"field\":\"Fruits and vegetables (2022)\"}},\"id\":\"8931\",\"type\":\"Scatter\"},{\"attributes\":{\"fill_color\":{\"value\":\"#8c564b\"},\"hatch_color\":{\"value\":\"#8c564b\"},\"line_color\":{\"value\":\"#8c564b\"},\"size\":{\"value\":9.11925524844631},\"x\":{\"field\":\"Meats, poultry, fish, and eggs (2022)\"},\"y\":{\"field\":\"Fruits and vegetables (2022)\"}},\"id\":\"9003\",\"type\":\"Scatter\"}],\"root_ids\":[\"8653\"]},\"title\":\"Bokeh Application\",\"version\":\"2.4.3\"}};\n",
       "    var render_items = [{\"docid\":\"a7a1e834-d477-41e5-a97d-2279e82af56d\",\"root_ids\":[\"8653\"],\"roots\":{\"8653\":\"a8bd48f4-3cc8-410a-953e-79ce4e4a5b99\"}}];\n",
       "    root.Bokeh.embed.embed_items_notebook(docs_json, render_items);\n",
       "  }\n",
       "  if (root.Bokeh !== undefined && root.Bokeh.Panel !== undefined) {\n",
       "    embed_document(root);\n",
       "  } else {\n",
       "    var attempts = 0;\n",
       "    var timer = setInterval(function(root) {\n",
       "      if (root.Bokeh !== undefined && root.Bokeh.Panel !== undefined) {\n",
       "        clearInterval(timer);\n",
       "        embed_document(root);\n",
       "      } else if (document.readyState == \"complete\") {\n",
       "        attempts++;\n",
       "        if (attempts > 200) {\n",
       "          clearInterval(timer);\n",
       "          console.log(\"Bokeh: ERROR: Unable to run BokehJS code because BokehJS library is missing\");\n",
       "        }\n",
       "      }\n",
       "    }, 25, root)\n",
       "  }\n",
       "})(window);</script>"
      ],
      "text/plain": [
       ":NdOverlay   [City]\n",
       "   :Scatter   [Meats, poultry, fish, and eggs (2022)]   (Fruits and vegetables (2022),Average Change)"
      ]
     },
     "execution_count": 110,
     "metadata": {
      "application/vnd.holoviews_exec.v0+json": {
       "id": "8653"
      }
     },
     "output_type": "execute_result"
    }
   ],
   "source": [
    "spendDf.hvplot.scatter(\n",
    "    x=\"Meats, poultry, fish, and eggs (2022)\",\n",
    "    y=\"Fruits and vegetables (2022)\",\n",
    "    s='Average Change',\n",
    "    scale=5,\n",
    "    by=\"City\")"
   ]
  },
  {
   "cell_type": "code",
   "execution_count": 111,
   "metadata": {},
   "outputs": [
    {
     "data": {
      "text/html": [
       "<div>\n",
       "<style scoped>\n",
       "    .dataframe tbody tr th:only-of-type {\n",
       "        vertical-align: middle;\n",
       "    }\n",
       "\n",
       "    .dataframe tbody tr th {\n",
       "        vertical-align: top;\n",
       "    }\n",
       "\n",
       "    .dataframe thead th {\n",
       "        text-align: right;\n",
       "    }\n",
       "</style>\n",
       "<table border=\"1\" class=\"dataframe\">\n",
       "  <thead>\n",
       "    <tr style=\"text-align: right;\">\n",
       "      <th></th>\n",
       "      <th>Cereals and bakery products (2005)</th>\n",
       "      <th>Cereals and bakery products (2006)</th>\n",
       "      <th>Cereals and bakery products (2007)</th>\n",
       "      <th>Cereals and bakery products (2008)</th>\n",
       "      <th>Cereals and bakery products (2009)</th>\n",
       "      <th>Cereals and bakery products (2010)</th>\n",
       "      <th>Cereals and bakery products (2011)</th>\n",
       "      <th>Cereals and bakery products (2012)</th>\n",
       "      <th>Cereals and bakery products (2013)</th>\n",
       "      <th>Cereals and bakery products (2014)</th>\n",
       "      <th>...</th>\n",
       "      <th>City_Los Angeles</th>\n",
       "      <th>City_Miami</th>\n",
       "      <th>City_Minneapolis-St.Paul</th>\n",
       "      <th>City_New York</th>\n",
       "      <th>City_Philadelphia</th>\n",
       "      <th>City_Phoenix</th>\n",
       "      <th>City_San Diego</th>\n",
       "      <th>City_San Francisco</th>\n",
       "      <th>City_Seattle</th>\n",
       "      <th>City_Washington, D.C.</th>\n",
       "    </tr>\n",
       "  </thead>\n",
       "  <tbody>\n",
       "    <tr>\n",
       "      <th>0</th>\n",
       "      <td>473.0</td>\n",
       "      <td>491.0</td>\n",
       "      <td>537.0</td>\n",
       "      <td>561.0</td>\n",
       "      <td>584.0</td>\n",
       "      <td>615.0</td>\n",
       "      <td>602.0</td>\n",
       "      <td>596.0</td>\n",
       "      <td>664.0</td>\n",
       "      <td>661.0</td>\n",
       "      <td>...</td>\n",
       "      <td>0</td>\n",
       "      <td>0</td>\n",
       "      <td>0</td>\n",
       "      <td>0</td>\n",
       "      <td>0</td>\n",
       "      <td>0</td>\n",
       "      <td>0</td>\n",
       "      <td>0</td>\n",
       "      <td>0</td>\n",
       "      <td>0</td>\n",
       "    </tr>\n",
       "    <tr>\n",
       "      <th>1</th>\n",
       "      <td>545.0</td>\n",
       "      <td>527.0</td>\n",
       "      <td>579.0</td>\n",
       "      <td>628.0</td>\n",
       "      <td>540.0</td>\n",
       "      <td>546.0</td>\n",
       "      <td>573.0</td>\n",
       "      <td>583.0</td>\n",
       "      <td>618.0</td>\n",
       "      <td>544.0</td>\n",
       "      <td>...</td>\n",
       "      <td>0</td>\n",
       "      <td>0</td>\n",
       "      <td>0</td>\n",
       "      <td>0</td>\n",
       "      <td>0</td>\n",
       "      <td>0</td>\n",
       "      <td>0</td>\n",
       "      <td>0</td>\n",
       "      <td>0</td>\n",
       "      <td>0</td>\n",
       "    </tr>\n",
       "    <tr>\n",
       "      <th>2</th>\n",
       "      <td>493.0</td>\n",
       "      <td>470.0</td>\n",
       "      <td>517.0</td>\n",
       "      <td>536.0</td>\n",
       "      <td>518.0</td>\n",
       "      <td>582.0</td>\n",
       "      <td>632.0</td>\n",
       "      <td>639.0</td>\n",
       "      <td>582.0</td>\n",
       "      <td>525.0</td>\n",
       "      <td>...</td>\n",
       "      <td>0</td>\n",
       "      <td>0</td>\n",
       "      <td>1</td>\n",
       "      <td>0</td>\n",
       "      <td>0</td>\n",
       "      <td>0</td>\n",
       "      <td>0</td>\n",
       "      <td>0</td>\n",
       "      <td>0</td>\n",
       "      <td>0</td>\n",
       "    </tr>\n",
       "    <tr>\n",
       "      <th>3</th>\n",
       "      <td>568.0</td>\n",
       "      <td>533.0</td>\n",
       "      <td>528.0</td>\n",
       "      <td>535.0</td>\n",
       "      <td>558.0</td>\n",
       "      <td>565.0</td>\n",
       "      <td>597.0</td>\n",
       "      <td>601.0</td>\n",
       "      <td>590.0</td>\n",
       "      <td>609.0</td>\n",
       "      <td>...</td>\n",
       "      <td>0</td>\n",
       "      <td>0</td>\n",
       "      <td>0</td>\n",
       "      <td>1</td>\n",
       "      <td>0</td>\n",
       "      <td>0</td>\n",
       "      <td>0</td>\n",
       "      <td>0</td>\n",
       "      <td>0</td>\n",
       "      <td>0</td>\n",
       "    </tr>\n",
       "    <tr>\n",
       "      <th>4</th>\n",
       "      <td>522.0</td>\n",
       "      <td>454.0</td>\n",
       "      <td>408.0</td>\n",
       "      <td>467.0</td>\n",
       "      <td>526.0</td>\n",
       "      <td>523.0</td>\n",
       "      <td>529.0</td>\n",
       "      <td>605.0</td>\n",
       "      <td>656.0</td>\n",
       "      <td>613.0</td>\n",
       "      <td>...</td>\n",
       "      <td>0</td>\n",
       "      <td>0</td>\n",
       "      <td>0</td>\n",
       "      <td>0</td>\n",
       "      <td>1</td>\n",
       "      <td>0</td>\n",
       "      <td>0</td>\n",
       "      <td>0</td>\n",
       "      <td>0</td>\n",
       "      <td>0</td>\n",
       "    </tr>\n",
       "  </tbody>\n",
       "</table>\n",
       "<p>5 rows × 112 columns</p>\n",
       "</div>"
      ],
      "text/plain": [
       "   Cereals and bakery products (2005)  Cereals and bakery products (2006)  \\\n",
       "0                               473.0                               491.0   \n",
       "1                               545.0                               527.0   \n",
       "2                               493.0                               470.0   \n",
       "3                               568.0                               533.0   \n",
       "4                               522.0                               454.0   \n",
       "\n",
       "   Cereals and bakery products (2007)  Cereals and bakery products (2008)  \\\n",
       "0                               537.0                               561.0   \n",
       "1                               579.0                               628.0   \n",
       "2                               517.0                               536.0   \n",
       "3                               528.0                               535.0   \n",
       "4                               408.0                               467.0   \n",
       "\n",
       "   Cereals and bakery products (2009)  Cereals and bakery products (2010)  \\\n",
       "0                               584.0                               615.0   \n",
       "1                               540.0                               546.0   \n",
       "2                               518.0                               582.0   \n",
       "3                               558.0                               565.0   \n",
       "4                               526.0                               523.0   \n",
       "\n",
       "   Cereals and bakery products (2011)  Cereals and bakery products (2012)  \\\n",
       "0                               602.0                               596.0   \n",
       "1                               573.0                               583.0   \n",
       "2                               632.0                               639.0   \n",
       "3                               597.0                               601.0   \n",
       "4                               529.0                               605.0   \n",
       "\n",
       "   Cereals and bakery products (2013)  Cereals and bakery products (2014)  \\\n",
       "0                               664.0                               661.0   \n",
       "1                               618.0                               544.0   \n",
       "2                               582.0                               525.0   \n",
       "3                               590.0                               609.0   \n",
       "4                               656.0                               613.0   \n",
       "\n",
       "   ...  City_Los Angeles  City_Miami  City_Minneapolis-St.Paul  City_New York  \\\n",
       "0  ...                 0           0                         0              0   \n",
       "1  ...                 0           0                         0              0   \n",
       "2  ...                 0           0                         1              0   \n",
       "3  ...                 0           0                         0              1   \n",
       "4  ...                 0           0                         0              0   \n",
       "\n",
       "   City_Philadelphia  City_Phoenix  City_San Diego  City_San Francisco  \\\n",
       "0                  0             0               0                   0   \n",
       "1                  0             0               0                   0   \n",
       "2                  0             0               0                   0   \n",
       "3                  0             0               0                   0   \n",
       "4                  1             0               0                   0   \n",
       "\n",
       "   City_Seattle  City_Washington, D.C.  \n",
       "0             0                      0  \n",
       "1             0                      0  \n",
       "2             0                      0  \n",
       "3             0                      0  \n",
       "4             0                      0  \n",
       "\n",
       "[5 rows x 112 columns]"
      ]
     },
     "execution_count": 111,
     "metadata": {},
     "output_type": "execute_result"
    }
   ],
   "source": [
    "## binarize city category\n",
    "spendDfDummy = pd.get_dummies(spendDf)\n",
    "spendDfDummy.head()"
   ]
  },
  {
   "cell_type": "markdown",
   "metadata": {},
   "source": [
    "## Attempt to cluster data, see some clusters but still not entirely clear"
   ]
  },
  {
   "cell_type": "code",
   "execution_count": 112,
   "metadata": {},
   "outputs": [
    {
     "name": "stdout",
     "output_type": "stream",
     "text": [
      "[0 1 0 2 2 0 2 2 2 1 1 2 0 0 0 1]\n"
     ]
    }
   ],
   "source": [
    "model = KMeans(n_clusters=3, random_state=1)\n",
    "model.fit(spendDfDummy)\n",
    "clusters = model.predict(spendDfDummy)\n",
    "print(clusters)"
   ]
  },
  {
   "cell_type": "code",
   "execution_count": 113,
   "metadata": {},
   "outputs": [
    {
     "data": {},
     "metadata": {},
     "output_type": "display_data"
    },
    {
     "data": {
      "application/vnd.holoviews_exec.v0+json": "",
      "text/html": [
       "<div id='9512'>\n",
       "  <div class=\"bk-root\" id=\"e4092bca-c5b8-4b6f-95c7-98483a68e920\" data-root-id=\"9512\"></div>\n",
       "</div>\n",
       "<script type=\"application/javascript\">(function(root) {\n",
       "  function embed_document(root) {\n",
       "    var docs_json = {\"af712314-01d9-4179-93ed-40b358381f2b\":{\"defs\":[{\"extends\":null,\"module\":null,\"name\":\"ReactiveHTML1\",\"overrides\":[],\"properties\":[]},{\"extends\":null,\"module\":null,\"name\":\"FlexBox1\",\"overrides\":[],\"properties\":[{\"default\":\"flex-start\",\"kind\":null,\"name\":\"align_content\"},{\"default\":\"flex-start\",\"kind\":null,\"name\":\"align_items\"},{\"default\":\"row\",\"kind\":null,\"name\":\"flex_direction\"},{\"default\":\"wrap\",\"kind\":null,\"name\":\"flex_wrap\"},{\"default\":\"flex-start\",\"kind\":null,\"name\":\"justify_content\"}]},{\"extends\":null,\"module\":null,\"name\":\"GridStack1\",\"overrides\":[],\"properties\":[{\"default\":\"warn\",\"kind\":null,\"name\":\"mode\"},{\"default\":null,\"kind\":null,\"name\":\"ncols\"},{\"default\":null,\"kind\":null,\"name\":\"nrows\"},{\"default\":true,\"kind\":null,\"name\":\"allow_resize\"},{\"default\":true,\"kind\":null,\"name\":\"allow_drag\"},{\"default\":[],\"kind\":null,\"name\":\"state\"}]},{\"extends\":null,\"module\":null,\"name\":\"click1\",\"overrides\":[],\"properties\":[{\"default\":\"\",\"kind\":null,\"name\":\"terminal_output\"},{\"default\":\"\",\"kind\":null,\"name\":\"debug_name\"},{\"default\":0,\"kind\":null,\"name\":\"clears\"}]},{\"extends\":null,\"module\":null,\"name\":\"NotificationAreaBase1\",\"overrides\":[],\"properties\":[{\"default\":\"bottom-right\",\"kind\":null,\"name\":\"position\"},{\"default\":0,\"kind\":null,\"name\":\"_clear\"}]},{\"extends\":null,\"module\":null,\"name\":\"NotificationArea1\",\"overrides\":[],\"properties\":[{\"default\":[],\"kind\":null,\"name\":\"notifications\"},{\"default\":\"bottom-right\",\"kind\":null,\"name\":\"position\"},{\"default\":0,\"kind\":null,\"name\":\"_clear\"},{\"default\":[{\"background\":\"#ffc107\",\"icon\":{\"className\":\"fas fa-exclamation-triangle\",\"color\":\"white\",\"tagName\":\"i\"},\"type\":\"warning\"},{\"background\":\"#007bff\",\"icon\":{\"className\":\"fas fa-info-circle\",\"color\":\"white\",\"tagName\":\"i\"},\"type\":\"info\"}],\"kind\":null,\"name\":\"types\"}]},{\"extends\":null,\"module\":null,\"name\":\"Notification\",\"overrides\":[],\"properties\":[{\"default\":null,\"kind\":null,\"name\":\"background\"},{\"default\":3000,\"kind\":null,\"name\":\"duration\"},{\"default\":null,\"kind\":null,\"name\":\"icon\"},{\"default\":\"\",\"kind\":null,\"name\":\"message\"},{\"default\":null,\"kind\":null,\"name\":\"notification_type\"},{\"default\":false,\"kind\":null,\"name\":\"_destroyed\"}]},{\"extends\":null,\"module\":null,\"name\":\"TemplateActions1\",\"overrides\":[],\"properties\":[{\"default\":0,\"kind\":null,\"name\":\"open_modal\"},{\"default\":0,\"kind\":null,\"name\":\"close_modal\"}]},{\"extends\":null,\"module\":null,\"name\":\"MaterialTemplateActions1\",\"overrides\":[],\"properties\":[{\"default\":0,\"kind\":null,\"name\":\"open_modal\"},{\"default\":0,\"kind\":null,\"name\":\"close_modal\"}]}],\"roots\":{\"references\":[{\"attributes\":{},\"id\":\"9556\",\"type\":\"Selection\"},{\"attributes\":{\"coordinates\":null,\"group\":null,\"text_color\":\"black\",\"text_font_size\":\"12pt\"},\"id\":\"9520\",\"type\":\"Title\"},{\"attributes\":{},\"id\":\"9526\",\"type\":\"LinearScale\"},{\"attributes\":{\"label\":{\"value\":\"0\"},\"renderers\":[{\"id\":\"9561\"}]},\"id\":\"9574\",\"type\":\"LegendItem\"},{\"attributes\":{},\"id\":\"9551\",\"type\":\"AllLabels\"},{\"attributes\":{\"axis_label\":\"Meats, poultry, fish, and eggs (2022)\",\"coordinates\":null,\"formatter\":{\"id\":\"9550\"},\"group\":null,\"major_label_policy\":{\"id\":\"9551\"},\"ticker\":{\"id\":\"9529\"}},\"id\":\"9528\",\"type\":\"LinearAxis\"},{\"attributes\":{},\"id\":\"9537\",\"type\":\"PanTool\"},{\"attributes\":{\"fill_color\":{\"value\":\"#fc4f30\"},\"hatch_color\":{\"value\":\"#fc4f30\"},\"line_color\":{\"value\":\"#fc4f30\"},\"size\":{\"value\":5.477225575051661},\"x\":{\"field\":\"Meats, poultry, fish, and eggs (2022)\"},\"y\":{\"field\":\"Fruits and vegetables (2022)\"}},\"id\":\"9579\",\"type\":\"Scatter\"},{\"attributes\":{\"fill_alpha\":{\"value\":0.1},\"fill_color\":{\"value\":\"#fc4f30\"},\"hatch_alpha\":{\"value\":0.1},\"hatch_color\":{\"value\":\"#fc4f30\"},\"line_alpha\":{\"value\":0.1},\"line_color\":{\"value\":\"#fc4f30\"},\"size\":{\"value\":5.477225575051661},\"x\":{\"field\":\"Meats, poultry, fish, and eggs (2022)\"},\"y\":{\"field\":\"Fruits and vegetables (2022)\"}},\"id\":\"9580\",\"type\":\"Scatter\"},{\"attributes\":{},\"id\":\"9529\",\"type\":\"BasicTicker\"},{\"attributes\":{\"axis\":{\"id\":\"9528\"},\"coordinates\":null,\"grid_line_color\":null,\"group\":null,\"ticker\":null},\"id\":\"9531\",\"type\":\"Grid\"},{\"attributes\":{\"angle\":{\"value\":0.0},\"fill_alpha\":{\"value\":1.0},\"fill_color\":{\"value\":\"#e5ae38\"},\"hatch_alpha\":{\"value\":1.0},\"hatch_color\":{\"value\":\"#e5ae38\"},\"hatch_scale\":{\"value\":12.0},\"hatch_weight\":{\"value\":1.0},\"line_alpha\":{\"value\":1.0},\"line_cap\":{\"value\":\"butt\"},\"line_color\":{\"value\":\"#e5ae38\"},\"line_dash\":{\"value\":[]},\"line_dash_offset\":{\"value\":0},\"line_join\":{\"value\":\"bevel\"},\"line_width\":{\"value\":1},\"marker\":{\"value\":\"circle\"},\"size\":{\"value\":5.477225575051661},\"x\":{\"field\":\"Meats, poultry, fish, and eggs (2022)\"},\"y\":{\"field\":\"Fruits and vegetables (2022)\"}},\"id\":\"9621\",\"type\":\"Scatter\"},{\"attributes\":{\"fill_alpha\":{\"value\":0.2},\"fill_color\":{\"value\":\"#e5ae38\"},\"hatch_alpha\":{\"value\":0.2},\"hatch_color\":{\"value\":\"#e5ae38\"},\"line_alpha\":{\"value\":0.2},\"line_color\":{\"value\":\"#e5ae38\"},\"size\":{\"value\":5.477225575051661},\"x\":{\"field\":\"Meats, poultry, fish, and eggs (2022)\"},\"y\":{\"field\":\"Fruits and vegetables (2022)\"}},\"id\":\"9603\",\"type\":\"Scatter\"},{\"attributes\":{\"fill_alpha\":{\"value\":0.1},\"fill_color\":{\"value\":\"#30a2da\"},\"hatch_alpha\":{\"value\":0.1},\"hatch_color\":{\"value\":\"#30a2da\"},\"line_alpha\":{\"value\":0.1},\"line_color\":{\"value\":\"#30a2da\"},\"size\":{\"value\":5.477225575051661},\"x\":{\"field\":\"Meats, poultry, fish, and eggs (2022)\"},\"y\":{\"field\":\"Fruits and vegetables (2022)\"}},\"id\":\"9559\",\"type\":\"Scatter\"},{\"attributes\":{\"axis_label\":\"Fruits and vegetables (2022)\",\"coordinates\":null,\"formatter\":{\"id\":\"9553\"},\"group\":null,\"major_label_policy\":{\"id\":\"9554\"},\"ticker\":{\"id\":\"9533\"}},\"id\":\"9532\",\"type\":\"LinearAxis\"},{\"attributes\":{\"axis\":{\"id\":\"9532\"},\"coordinates\":null,\"dimension\":1,\"grid_line_color\":null,\"group\":null,\"ticker\":null},\"id\":\"9535\",\"type\":\"Grid\"},{\"attributes\":{},\"id\":\"9533\",\"type\":\"BasicTicker\"},{\"attributes\":{\"fill_alpha\":{\"value\":0.1},\"fill_color\":{\"value\":\"#e5ae38\"},\"hatch_alpha\":{\"value\":0.1},\"hatch_color\":{\"value\":\"#e5ae38\"},\"line_alpha\":{\"value\":0.1},\"line_color\":{\"value\":\"#e5ae38\"},\"size\":{\"value\":5.477225575051661},\"x\":{\"field\":\"Meats, poultry, fish, and eggs (2022)\"},\"y\":{\"field\":\"Fruits and vegetables (2022)\"}},\"id\":\"9602\",\"type\":\"Scatter\"},{\"attributes\":{\"source\":{\"id\":\"9555\"}},\"id\":\"9562\",\"type\":\"CDSView\"},{\"attributes\":{},\"id\":\"9538\",\"type\":\"WheelZoomTool\"},{\"attributes\":{\"coordinates\":null,\"data_source\":{\"id\":\"9598\"},\"glyph\":{\"id\":\"9601\"},\"group\":null,\"hover_glyph\":null,\"muted_glyph\":{\"id\":\"9603\"},\"nonselection_glyph\":{\"id\":\"9602\"},\"selection_glyph\":{\"id\":\"9621\"},\"view\":{\"id\":\"9605\"}},\"id\":\"9604\",\"type\":\"GlyphRenderer\"},{\"attributes\":{\"margin\":[5,5,5,5],\"name\":\"HSpacer10220\",\"sizing_mode\":\"stretch_width\"},\"id\":\"9513\",\"type\":\"Spacer\"},{\"attributes\":{\"label\":{\"value\":\"1\"},\"renderers\":[{\"id\":\"9582\"}]},\"id\":\"9596\",\"type\":\"LegendItem\"},{\"attributes\":{\"source\":{\"id\":\"9598\"}},\"id\":\"9605\",\"type\":\"CDSView\"},{\"attributes\":{},\"id\":\"9536\",\"type\":\"SaveTool\"},{\"attributes\":{\"angle\":{\"value\":0.0},\"fill_alpha\":{\"value\":1.0},\"fill_color\":{\"value\":\"#30a2da\"},\"hatch_alpha\":{\"value\":1.0},\"hatch_color\":{\"value\":\"#30a2da\"},\"hatch_scale\":{\"value\":12.0},\"hatch_weight\":{\"value\":1.0},\"line_alpha\":{\"value\":1.0},\"line_cap\":{\"value\":\"butt\"},\"line_color\":{\"value\":\"#30a2da\"},\"line_dash\":{\"value\":[]},\"line_dash_offset\":{\"value\":0},\"line_join\":{\"value\":\"bevel\"},\"line_width\":{\"value\":1},\"marker\":{\"value\":\"circle\"},\"size\":{\"value\":5.477225575051661},\"x\":{\"field\":\"Meats, poultry, fish, and eggs (2022)\"},\"y\":{\"field\":\"Fruits and vegetables (2022)\"}},\"id\":\"9575\",\"type\":\"Scatter\"},{\"attributes\":{\"margin\":[5,5,5,5],\"name\":\"HSpacer10221\",\"sizing_mode\":\"stretch_width\"},\"id\":\"9636\",\"type\":\"Spacer\"},{\"attributes\":{\"overlay\":{\"id\":\"9541\"}},\"id\":\"9539\",\"type\":\"BoxZoomTool\"},{\"attributes\":{},\"id\":\"9540\",\"type\":\"ResetTool\"},{\"attributes\":{\"children\":[{\"id\":\"9513\"},{\"id\":\"9519\"},{\"id\":\"9636\"}],\"margin\":[0,0,0,0],\"name\":\"Row10216\",\"tags\":[\"embedded\"]},\"id\":\"9512\",\"type\":\"Row\"},{\"attributes\":{},\"id\":\"9593\",\"type\":\"UnionRenderers\"},{\"attributes\":{\"bottom_units\":\"screen\",\"coordinates\":null,\"fill_alpha\":0.5,\"fill_color\":\"lightgrey\",\"group\":null,\"left_units\":\"screen\",\"level\":\"overlay\",\"line_alpha\":1.0,\"line_color\":\"black\",\"line_dash\":[4,4],\"line_width\":2,\"right_units\":\"screen\",\"syncable\":false,\"top_units\":\"screen\"},\"id\":\"9541\",\"type\":\"BoxAnnotation\"},{\"attributes\":{\"label\":{\"value\":\"2\"},\"renderers\":[{\"id\":\"9604\"}]},\"id\":\"9620\",\"type\":\"LegendItem\"},{\"attributes\":{},\"id\":\"9524\",\"type\":\"LinearScale\"},{\"attributes\":{},\"id\":\"9617\",\"type\":\"UnionRenderers\"},{\"attributes\":{\"angle\":{\"value\":0.0},\"fill_alpha\":{\"value\":1.0},\"fill_color\":{\"value\":\"#fc4f30\"},\"hatch_alpha\":{\"value\":1.0},\"hatch_color\":{\"value\":\"#fc4f30\"},\"hatch_scale\":{\"value\":12.0},\"hatch_weight\":{\"value\":1.0},\"line_alpha\":{\"value\":1.0},\"line_cap\":{\"value\":\"butt\"},\"line_color\":{\"value\":\"#fc4f30\"},\"line_dash\":{\"value\":[]},\"line_dash_offset\":{\"value\":0},\"line_join\":{\"value\":\"bevel\"},\"line_width\":{\"value\":1},\"marker\":{\"value\":\"circle\"},\"size\":{\"value\":5.477225575051661},\"x\":{\"field\":\"Meats, poultry, fish, and eggs (2022)\"},\"y\":{\"field\":\"Fruits and vegetables (2022)\"}},\"id\":\"9597\",\"type\":\"Scatter\"},{\"attributes\":{},\"id\":\"9554\",\"type\":\"AllLabels\"},{\"attributes\":{\"end\":2076.2,\"reset_end\":2076.2,\"reset_start\":657.8,\"start\":657.8,\"tags\":[[[\"Fruits and vegetables (2022)\",\"Fruits and vegetables (2022)\",null]]]},\"id\":\"9515\",\"type\":\"Range1d\"},{\"attributes\":{\"source\":{\"id\":\"9576\"}},\"id\":\"9583\",\"type\":\"CDSView\"},{\"attributes\":{},\"id\":\"9570\",\"type\":\"UnionRenderers\"},{\"attributes\":{\"coordinates\":null,\"data_source\":{\"id\":\"9555\"},\"glyph\":{\"id\":\"9558\"},\"group\":null,\"hover_glyph\":null,\"muted_glyph\":{\"id\":\"9560\"},\"nonselection_glyph\":{\"id\":\"9559\"},\"selection_glyph\":{\"id\":\"9575\"},\"view\":{\"id\":\"9562\"}},\"id\":\"9561\",\"type\":\"GlyphRenderer\"},{\"attributes\":{\"callback\":null,\"renderers\":[{\"id\":\"9561\"},{\"id\":\"9582\"},{\"id\":\"9604\"}],\"tags\":[\"hv_created\"],\"tooltips\":[[\"Cluster\",\"@{Cluster}\"],[\"Meats, poultry, fish, and eggs (2022)\",\"@{Meats_comma_poultry_comma_fish_comma_and_eggs_left_parenthesis_2022_right_parenthesis}\"],[\"Fruits and vegetables (2022)\",\"@{Fruits_and_vegetables_left_parenthesis_2022_right_parenthesis}\"],[\"City\",\"@{City}\"]]},\"id\":\"9516\",\"type\":\"HoverTool\"},{\"attributes\":{},\"id\":\"9577\",\"type\":\"Selection\"},{\"attributes\":{\"below\":[{\"id\":\"9528\"}],\"center\":[{\"id\":\"9531\"},{\"id\":\"9535\"}],\"height\":300,\"left\":[{\"id\":\"9532\"}],\"margin\":[5,5,5,5],\"min_border_bottom\":10,\"min_border_left\":10,\"min_border_right\":10,\"min_border_top\":10,\"renderers\":[{\"id\":\"9561\"},{\"id\":\"9582\"},{\"id\":\"9604\"}],\"right\":[{\"id\":\"9573\"}],\"sizing_mode\":\"fixed\",\"title\":{\"id\":\"9520\"},\"toolbar\":{\"id\":\"9542\"},\"width\":700,\"x_range\":{\"id\":\"9514\"},\"x_scale\":{\"id\":\"9524\"},\"y_range\":{\"id\":\"9515\"},\"y_scale\":{\"id\":\"9526\"}},\"id\":\"9519\",\"subtype\":\"Figure\",\"type\":\"Plot\"},{\"attributes\":{\"fill_color\":{\"value\":\"#e5ae38\"},\"hatch_color\":{\"value\":\"#e5ae38\"},\"line_color\":{\"value\":\"#e5ae38\"},\"size\":{\"value\":5.477225575051661},\"x\":{\"field\":\"Meats, poultry, fish, and eggs (2022)\"},\"y\":{\"field\":\"Fruits and vegetables (2022)\"}},\"id\":\"9601\",\"type\":\"Scatter\"},{\"attributes\":{\"click_policy\":\"mute\",\"coordinates\":null,\"group\":null,\"items\":[{\"id\":\"9574\"},{\"id\":\"9596\"},{\"id\":\"9620\"}],\"location\":[0,0],\"title\":\"Cluster\"},\"id\":\"9573\",\"type\":\"Legend\"},{\"attributes\":{\"coordinates\":null,\"data_source\":{\"id\":\"9576\"},\"glyph\":{\"id\":\"9579\"},\"group\":null,\"hover_glyph\":null,\"muted_glyph\":{\"id\":\"9581\"},\"nonselection_glyph\":{\"id\":\"9580\"},\"selection_glyph\":{\"id\":\"9597\"},\"view\":{\"id\":\"9583\"}},\"id\":\"9582\",\"type\":\"GlyphRenderer\"},{\"attributes\":{\"fill_alpha\":{\"value\":0.2},\"fill_color\":{\"value\":\"#fc4f30\"},\"hatch_alpha\":{\"value\":0.2},\"hatch_color\":{\"value\":\"#fc4f30\"},\"line_alpha\":{\"value\":0.2},\"line_color\":{\"value\":\"#fc4f30\"},\"size\":{\"value\":5.477225575051661},\"x\":{\"field\":\"Meats, poultry, fish, and eggs (2022)\"},\"y\":{\"field\":\"Fruits and vegetables (2022)\"}},\"id\":\"9581\",\"type\":\"Scatter\"},{\"attributes\":{},\"id\":\"9599\",\"type\":\"Selection\"},{\"attributes\":{\"fill_color\":{\"value\":\"#30a2da\"},\"hatch_color\":{\"value\":\"#30a2da\"},\"line_color\":{\"value\":\"#30a2da\"},\"size\":{\"value\":5.477225575051661},\"x\":{\"field\":\"Meats, poultry, fish, and eggs (2022)\"},\"y\":{\"field\":\"Fruits and vegetables (2022)\"}},\"id\":\"9558\",\"type\":\"Scatter\"},{\"attributes\":{\"data\":{\"City\":[\"Detroit\",\"Dallas-Fort Worth\",\"Houston\",\"Phoenix\"],\"Cluster\":[1,1,1,1],\"Fruits and vegetables (2022)\":{\"__ndarray__\":\"AAAAAAB8kEAAAAAAALiIQAAAAAAAQIhAAAAAAAAwi0A=\",\"dtype\":\"float64\",\"order\":\"little\",\"shape\":[4]},\"Fruits_and_vegetables_left_parenthesis_2022_right_parenthesis\":{\"__ndarray__\":\"AAAAAAB8kEAAAAAAALiIQAAAAAAAQIhAAAAAAAAwi0A=\",\"dtype\":\"float64\",\"order\":\"little\",\"shape\":[4]},\"Meats, poultry, fish, and eggs (2022)\":{\"__ndarray__\":\"AAAAAACAkkAAAAAAABiSQAAAAAAAWItAAAAAAACwjkA=\",\"dtype\":\"float64\",\"order\":\"little\",\"shape\":[4]},\"Meats_comma_poultry_comma_fish_comma_and_eggs_left_parenthesis_2022_right_parenthesis\":{\"__ndarray__\":\"AAAAAACAkkAAAAAAABiSQAAAAAAAWItAAAAAAACwjkA=\",\"dtype\":\"float64\",\"order\":\"little\",\"shape\":[4]}},\"selected\":{\"id\":\"9577\"},\"selection_policy\":{\"id\":\"9593\"}},\"id\":\"9576\",\"type\":\"ColumnDataSource\"},{\"attributes\":{\"data\":{\"City\":[\"Chicago\",\"Minneapolis-St.Paul\",\"Washington, D.C.\",\"San Francisco\",\"San Diego\",\"Seattle\"],\"Cluster\":[0,0,0,0,0,0],\"Fruits and vegetables (2022)\":{\"__ndarray__\":\"AAAAAABskUAAAAAAAGSTQAAAAAAAtJNAAAAAAACYnkAAAAAAACCWQAAAAAAAYJVA\",\"dtype\":\"float64\",\"order\":\"little\",\"shape\":[6]},\"Fruits_and_vegetables_left_parenthesis_2022_right_parenthesis\":{\"__ndarray__\":\"AAAAAABskUAAAAAAAGSTQAAAAAAAtJNAAAAAAACYnkAAAAAAACCWQAAAAAAAYJVA\",\"dtype\":\"float64\",\"order\":\"little\",\"shape\":[6]},\"Meats, poultry, fish, and eggs (2022)\":{\"__ndarray__\":\"AAAAAADUk0AAAAAAADCRQAAAAAAAvJVAAAAAAAD0m0AAAAAAAOiSQAAAAAAAmJJA\",\"dtype\":\"float64\",\"order\":\"little\",\"shape\":[6]},\"Meats_comma_poultry_comma_fish_comma_and_eggs_left_parenthesis_2022_right_parenthesis\":{\"__ndarray__\":\"AAAAAADUk0AAAAAAADCRQAAAAAAAvJVAAAAAAAD0m0AAAAAAAOiSQAAAAAAAmJJA\",\"dtype\":\"float64\",\"order\":\"little\",\"shape\":[6]}},\"selected\":{\"id\":\"9556\"},\"selection_policy\":{\"id\":\"9570\"}},\"id\":\"9555\",\"type\":\"ColumnDataSource\"},{\"attributes\":{\"data\":{\"City\":[\"New York\",\"Philadelphia\",\"Baltimore\",\"Atlanta\",\"Miami\",\"Los Angeles\"],\"Cluster\":[2,2,2,2,2,2],\"Fruits and vegetables (2022)\":{\"__ndarray__\":\"AAAAAADQlkAAAAAAAFSTQAAAAAAAxJRAAAAAAADQkkAAAAAAACiSQAAAAAAABJNA\",\"dtype\":\"float64\",\"order\":\"little\",\"shape\":[6]},\"Fruits_and_vegetables_left_parenthesis_2022_right_parenthesis\":{\"__ndarray__\":\"AAAAAADQlkAAAAAAAFSTQAAAAAAAxJRAAAAAAADQkkAAAAAAACiSQAAAAAAABJNA\",\"dtype\":\"float64\",\"order\":\"little\",\"shape\":[6]},\"Meats, poultry, fish, and eggs (2022)\":{\"__ndarray__\":\"AAAAAAD4l0AAAAAAANSTQAAAAAAA2JVAAAAAAACwk0AAAAAAAHSXQAAAAAAAfJRA\",\"dtype\":\"float64\",\"order\":\"little\",\"shape\":[6]},\"Meats_comma_poultry_comma_fish_comma_and_eggs_left_parenthesis_2022_right_parenthesis\":{\"__ndarray__\":\"AAAAAAD4l0AAAAAAANSTQAAAAAAA2JVAAAAAAACwk0AAAAAAAHSXQAAAAAAAfJRA\",\"dtype\":\"float64\",\"order\":\"little\",\"shape\":[6]}},\"selected\":{\"id\":\"9599\"},\"selection_policy\":{\"id\":\"9617\"}},\"id\":\"9598\",\"type\":\"ColumnDataSource\"},{\"attributes\":{},\"id\":\"9550\",\"type\":\"BasicTickFormatter\"},{\"attributes\":{\"end\":1828.1714285714286,\"reset_end\":1828.1714285714286,\"reset_start\":835.8285714285714,\"start\":835.8285714285714,\"tags\":[[[\"Meats, poultry, fish, and eggs (2022)\",\"Meats, poultry, fish, and eggs (2022)\",null]]]},\"id\":\"9514\",\"type\":\"Range1d\"},{\"attributes\":{},\"id\":\"9553\",\"type\":\"BasicTickFormatter\"},{\"attributes\":{\"tools\":[{\"id\":\"9516\"},{\"id\":\"9536\"},{\"id\":\"9537\"},{\"id\":\"9538\"},{\"id\":\"9539\"},{\"id\":\"9540\"}]},\"id\":\"9542\",\"type\":\"Toolbar\"},{\"attributes\":{\"fill_alpha\":{\"value\":0.2},\"fill_color\":{\"value\":\"#30a2da\"},\"hatch_alpha\":{\"value\":0.2},\"hatch_color\":{\"value\":\"#30a2da\"},\"line_alpha\":{\"value\":0.2},\"line_color\":{\"value\":\"#30a2da\"},\"size\":{\"value\":5.477225575051661},\"x\":{\"field\":\"Meats, poultry, fish, and eggs (2022)\"},\"y\":{\"field\":\"Fruits and vegetables (2022)\"}},\"id\":\"9560\",\"type\":\"Scatter\"}],\"root_ids\":[\"9512\"]},\"title\":\"Bokeh Application\",\"version\":\"2.4.3\"}};\n",
       "    var render_items = [{\"docid\":\"af712314-01d9-4179-93ed-40b358381f2b\",\"root_ids\":[\"9512\"],\"roots\":{\"9512\":\"e4092bca-c5b8-4b6f-95c7-98483a68e920\"}}];\n",
       "    root.Bokeh.embed.embed_items_notebook(docs_json, render_items);\n",
       "  }\n",
       "  if (root.Bokeh !== undefined && root.Bokeh.Panel !== undefined) {\n",
       "    embed_document(root);\n",
       "  } else {\n",
       "    var attempts = 0;\n",
       "    var timer = setInterval(function(root) {\n",
       "      if (root.Bokeh !== undefined && root.Bokeh.Panel !== undefined) {\n",
       "        clearInterval(timer);\n",
       "        embed_document(root);\n",
       "      } else if (document.readyState == \"complete\") {\n",
       "        attempts++;\n",
       "        if (attempts > 200) {\n",
       "          clearInterval(timer);\n",
       "          console.log(\"Bokeh: ERROR: Unable to run BokehJS code because BokehJS library is missing\");\n",
       "        }\n",
       "      }\n",
       "    }, 25, root)\n",
       "  }\n",
       "})(window);</script>"
      ],
      "text/plain": [
       ":NdOverlay   [Cluster]\n",
       "   :Scatter   [Meats, poultry, fish, and eggs (2022)]   (Fruits and vegetables (2022),City)"
      ]
     },
     "execution_count": 113,
     "metadata": {
      "application/vnd.holoviews_exec.v0+json": {
       "id": "9512"
      }
     },
     "output_type": "execute_result"
    }
   ],
   "source": [
    "clusterDf = spendDf.copy()\n",
    "clusterDf['Cluster'] = clusters\n",
    "clusterDf.hvplot.scatter(\n",
    "    x=\"Meats, poultry, fish, and eggs (2022)\",\n",
    "    y=\"Fruits and vegetables (2022)\",\n",
    "    by=\"Cluster\",\n",
    "    hover_cols=['City'])"
   ]
  },
  {
   "cell_type": "code",
   "execution_count": 114,
   "metadata": {},
   "outputs": [],
   "source": [
    "## Initialize PCA and use elbow to find beswt clustering value"
   ]
  },
  {
   "cell_type": "code",
   "execution_count": 115,
   "metadata": {},
   "outputs": [
    {
     "data": {
      "text/plain": [
       "array([0.4732204 , 0.21885699, 0.10835317])"
      ]
     },
     "execution_count": 115,
     "metadata": {},
     "output_type": "execute_result"
    }
   ],
   "source": [
    "from sklearn.decomposition import PCA\n",
    "pca = PCA(n_components=3)\n",
    "spendPca = pca.fit_transform(spendDfDummy)\n",
    "pca.explained_variance_ratio_"
   ]
  },
  {
   "cell_type": "code",
   "execution_count": 116,
   "metadata": {},
   "outputs": [
    {
     "data": {
      "text/html": [
       "<div>\n",
       "<style scoped>\n",
       "    .dataframe tbody tr th:only-of-type {\n",
       "        vertical-align: middle;\n",
       "    }\n",
       "\n",
       "    .dataframe tbody tr th {\n",
       "        vertical-align: top;\n",
       "    }\n",
       "\n",
       "    .dataframe thead th {\n",
       "        text-align: right;\n",
       "    }\n",
       "</style>\n",
       "<table border=\"1\" class=\"dataframe\">\n",
       "  <thead>\n",
       "    <tr style=\"text-align: right;\">\n",
       "      <th></th>\n",
       "      <th>PCA1</th>\n",
       "      <th>PCA2</th>\n",
       "      <th>PCA3</th>\n",
       "    </tr>\n",
       "  </thead>\n",
       "  <tbody>\n",
       "    <tr>\n",
       "      <th>0</th>\n",
       "      <td>322.766633</td>\n",
       "      <td>253.550649</td>\n",
       "      <td>-388.691435</td>\n",
       "    </tr>\n",
       "    <tr>\n",
       "      <th>1</th>\n",
       "      <td>-302.439338</td>\n",
       "      <td>221.621004</td>\n",
       "      <td>-391.621210</td>\n",
       "    </tr>\n",
       "    <tr>\n",
       "      <th>2</th>\n",
       "      <td>413.076418</td>\n",
       "      <td>761.781164</td>\n",
       "      <td>20.110776</td>\n",
       "    </tr>\n",
       "    <tr>\n",
       "      <th>3</th>\n",
       "      <td>369.436832</td>\n",
       "      <td>-1007.285501</td>\n",
       "      <td>-353.576808</td>\n",
       "    </tr>\n",
       "    <tr>\n",
       "      <th>4</th>\n",
       "      <td>148.979148</td>\n",
       "      <td>-138.094588</td>\n",
       "      <td>386.433540</td>\n",
       "    </tr>\n",
       "  </tbody>\n",
       "</table>\n",
       "</div>"
      ],
      "text/plain": [
       "         PCA1         PCA2        PCA3\n",
       "0  322.766633   253.550649 -388.691435\n",
       "1 -302.439338   221.621004 -391.621210\n",
       "2  413.076418   761.781164   20.110776\n",
       "3  369.436832 -1007.285501 -353.576808\n",
       "4  148.979148  -138.094588  386.433540"
      ]
     },
     "execution_count": 116,
     "metadata": {},
     "output_type": "execute_result"
    }
   ],
   "source": [
    "# Create the PCA DataFrame\n",
    "spendPcaDf = pd.DataFrame(\n",
    "    spendPca,\n",
    "    columns=[\"PCA1\", \"PCA2\",'PCA3']\n",
    ")\n",
    "\n",
    "# Review the PCA DataFrame\n",
    "spendPcaDf.head()"
   ]
  },
  {
   "cell_type": "code",
   "execution_count": 117,
   "metadata": {},
   "outputs": [
    {
     "data": {
      "text/html": [
       "<div>\n",
       "<style scoped>\n",
       "    .dataframe tbody tr th:only-of-type {\n",
       "        vertical-align: middle;\n",
       "    }\n",
       "\n",
       "    .dataframe tbody tr th {\n",
       "        vertical-align: top;\n",
       "    }\n",
       "\n",
       "    .dataframe thead th {\n",
       "        text-align: right;\n",
       "    }\n",
       "</style>\n",
       "<table border=\"1\" class=\"dataframe\">\n",
       "  <thead>\n",
       "    <tr style=\"text-align: right;\">\n",
       "      <th></th>\n",
       "      <th>k</th>\n",
       "      <th>inertia</th>\n",
       "    </tr>\n",
       "  </thead>\n",
       "  <tbody>\n",
       "    <tr>\n",
       "      <th>0</th>\n",
       "      <td>1</td>\n",
       "      <td>2.572690e+07</td>\n",
       "    </tr>\n",
       "    <tr>\n",
       "      <th>1</th>\n",
       "      <td>2</td>\n",
       "      <td>1.550918e+07</td>\n",
       "    </tr>\n",
       "    <tr>\n",
       "      <th>2</th>\n",
       "      <td>3</td>\n",
       "      <td>1.080212e+07</td>\n",
       "    </tr>\n",
       "    <tr>\n",
       "      <th>3</th>\n",
       "      <td>4</td>\n",
       "      <td>8.462482e+06</td>\n",
       "    </tr>\n",
       "    <tr>\n",
       "      <th>4</th>\n",
       "      <td>5</td>\n",
       "      <td>6.301915e+06</td>\n",
       "    </tr>\n",
       "  </tbody>\n",
       "</table>\n",
       "</div>"
      ],
      "text/plain": [
       "   k       inertia\n",
       "0  1  2.572690e+07\n",
       "1  2  1.550918e+07\n",
       "2  3  1.080212e+07\n",
       "3  4  8.462482e+06\n",
       "4  5  6.301915e+06"
      ]
     },
     "execution_count": 117,
     "metadata": {},
     "output_type": "execute_result"
    }
   ],
   "source": [
    "# Create a a list to store inertia values and the values of k\n",
    "inertia = []\n",
    "k = list(range(1, 11))\n",
    "\n",
    "# Append the value of the computed inertia from the `inertia_` attribute of teh KMeans model instance\n",
    "for i in k:\n",
    "    k_model = KMeans(n_clusters=i, random_state=1)\n",
    "    k_model.fit(spendPcaDf)\n",
    "    inertia.append(k_model.inertia_)\n",
    "\n",
    "# Define a DataFrame to hold the values for k and the corresponding inertia\n",
    "elbow_data = {\"k\": k, \"inertia\": inertia}\n",
    "df_elbow = pd.DataFrame(elbow_data)\n",
    "\n",
    "# Review the DataFrame\n",
    "df_elbow.head()"
   ]
  },
  {
   "cell_type": "code",
   "execution_count": 118,
   "metadata": {},
   "outputs": [
    {
     "data": {},
     "metadata": {},
     "output_type": "display_data"
    },
    {
     "data": {
      "application/vnd.holoviews_exec.v0+json": "",
      "text/html": [
       "<div id='9708'>\n",
       "  <div class=\"bk-root\" id=\"f662984b-d998-48d0-beb9-58ea0effa8d3\" data-root-id=\"9708\"></div>\n",
       "</div>\n",
       "<script type=\"application/javascript\">(function(root) {\n",
       "  function embed_document(root) {\n",
       "    var docs_json = {\"51e0e761-c6b6-4cb1-ab4f-9c7cc080bb04\":{\"defs\":[{\"extends\":null,\"module\":null,\"name\":\"ReactiveHTML1\",\"overrides\":[],\"properties\":[]},{\"extends\":null,\"module\":null,\"name\":\"FlexBox1\",\"overrides\":[],\"properties\":[{\"default\":\"flex-start\",\"kind\":null,\"name\":\"align_content\"},{\"default\":\"flex-start\",\"kind\":null,\"name\":\"align_items\"},{\"default\":\"row\",\"kind\":null,\"name\":\"flex_direction\"},{\"default\":\"wrap\",\"kind\":null,\"name\":\"flex_wrap\"},{\"default\":\"flex-start\",\"kind\":null,\"name\":\"justify_content\"}]},{\"extends\":null,\"module\":null,\"name\":\"GridStack1\",\"overrides\":[],\"properties\":[{\"default\":\"warn\",\"kind\":null,\"name\":\"mode\"},{\"default\":null,\"kind\":null,\"name\":\"ncols\"},{\"default\":null,\"kind\":null,\"name\":\"nrows\"},{\"default\":true,\"kind\":null,\"name\":\"allow_resize\"},{\"default\":true,\"kind\":null,\"name\":\"allow_drag\"},{\"default\":[],\"kind\":null,\"name\":\"state\"}]},{\"extends\":null,\"module\":null,\"name\":\"click1\",\"overrides\":[],\"properties\":[{\"default\":\"\",\"kind\":null,\"name\":\"terminal_output\"},{\"default\":\"\",\"kind\":null,\"name\":\"debug_name\"},{\"default\":0,\"kind\":null,\"name\":\"clears\"}]},{\"extends\":null,\"module\":null,\"name\":\"NotificationAreaBase1\",\"overrides\":[],\"properties\":[{\"default\":\"bottom-right\",\"kind\":null,\"name\":\"position\"},{\"default\":0,\"kind\":null,\"name\":\"_clear\"}]},{\"extends\":null,\"module\":null,\"name\":\"NotificationArea1\",\"overrides\":[],\"properties\":[{\"default\":[],\"kind\":null,\"name\":\"notifications\"},{\"default\":\"bottom-right\",\"kind\":null,\"name\":\"position\"},{\"default\":0,\"kind\":null,\"name\":\"_clear\"},{\"default\":[{\"background\":\"#ffc107\",\"icon\":{\"className\":\"fas fa-exclamation-triangle\",\"color\":\"white\",\"tagName\":\"i\"},\"type\":\"warning\"},{\"background\":\"#007bff\",\"icon\":{\"className\":\"fas fa-info-circle\",\"color\":\"white\",\"tagName\":\"i\"},\"type\":\"info\"}],\"kind\":null,\"name\":\"types\"}]},{\"extends\":null,\"module\":null,\"name\":\"Notification\",\"overrides\":[],\"properties\":[{\"default\":null,\"kind\":null,\"name\":\"background\"},{\"default\":3000,\"kind\":null,\"name\":\"duration\"},{\"default\":null,\"kind\":null,\"name\":\"icon\"},{\"default\":\"\",\"kind\":null,\"name\":\"message\"},{\"default\":null,\"kind\":null,\"name\":\"notification_type\"},{\"default\":false,\"kind\":null,\"name\":\"_destroyed\"}]},{\"extends\":null,\"module\":null,\"name\":\"TemplateActions1\",\"overrides\":[],\"properties\":[{\"default\":0,\"kind\":null,\"name\":\"open_modal\"},{\"default\":0,\"kind\":null,\"name\":\"close_modal\"}]},{\"extends\":null,\"module\":null,\"name\":\"MaterialTemplateActions1\",\"overrides\":[],\"properties\":[{\"default\":0,\"kind\":null,\"name\":\"open_modal\"},{\"default\":0,\"kind\":null,\"name\":\"close_modal\"}]}],\"roots\":{\"references\":[{\"attributes\":{},\"id\":\"9720\",\"type\":\"LinearScale\"},{\"attributes\":{},\"id\":\"9731\",\"type\":\"PanTool\"},{\"attributes\":{\"source\":{\"id\":\"9743\"}},\"id\":\"9750\",\"type\":\"CDSView\"},{\"attributes\":{\"coordinates\":null,\"group\":null,\"text\":\"Elbow Curve\",\"text_color\":\"black\",\"text_font_size\":\"12pt\"},\"id\":\"9714\",\"type\":\"Title\"},{\"attributes\":{\"axis\":{\"id\":\"9722\"},\"coordinates\":null,\"grid_line_color\":null,\"group\":null,\"ticker\":null},\"id\":\"9725\",\"type\":\"Grid\"},{\"attributes\":{\"axis_label\":\"k\",\"coordinates\":null,\"formatter\":{\"id\":\"9754\"},\"group\":null,\"major_label_policy\":{\"id\":\"9755\"},\"ticker\":{\"id\":\"9752\"}},\"id\":\"9722\",\"type\":\"LinearAxis\"},{\"attributes\":{\"line_color\":\"#30a2da\",\"line_width\":2,\"x\":{\"field\":\"k\"},\"y\":{\"field\":\"inertia\"}},\"id\":\"9746\",\"type\":\"Line\"},{\"attributes\":{\"data\":{\"inertia\":{\"__ndarray__\":\"oy4xD/uIeEF5EJsE15RtQc0q1415mmRBCq/3ShIkYEHUFD3SNgpYQUDYLZP8ilJBsNTM8dhLS0G8aJyUCgtEQRldFiX6oz1BKdEQbwGNM0E=\",\"dtype\":\"float64\",\"order\":\"little\",\"shape\":[10]},\"k\":[1,2,3,4,5,6,7,8,9,10]},\"selected\":{\"id\":\"9744\"},\"selection_policy\":{\"id\":\"9767\"}},\"id\":\"9743\",\"type\":\"ColumnDataSource\"},{\"attributes\":{},\"id\":\"9759\",\"type\":\"BasicTickFormatter\"},{\"attributes\":{\"line_alpha\":0.1,\"line_color\":\"#30a2da\",\"line_width\":2,\"x\":{\"field\":\"k\"},\"y\":{\"field\":\"inertia\"}},\"id\":\"9747\",\"type\":\"Line\"},{\"attributes\":{\"axis_label\":\"inertia\",\"coordinates\":null,\"formatter\":{\"id\":\"9759\"},\"group\":null,\"major_label_policy\":{\"id\":\"9760\"},\"ticker\":{\"id\":\"9727\"}},\"id\":\"9726\",\"type\":\"LinearAxis\"},{\"attributes\":{\"axis\":{\"id\":\"9726\"},\"coordinates\":null,\"dimension\":1,\"grid_line_color\":null,\"group\":null,\"ticker\":null},\"id\":\"9729\",\"type\":\"Grid\"},{\"attributes\":{},\"id\":\"9727\",\"type\":\"BasicTicker\"},{\"attributes\":{},\"id\":\"9760\",\"type\":\"AllLabels\"},{\"attributes\":{},\"id\":\"9744\",\"type\":\"Selection\"},{\"attributes\":{},\"id\":\"9732\",\"type\":\"WheelZoomTool\"},{\"attributes\":{},\"id\":\"9767\",\"type\":\"UnionRenderers\"},{\"attributes\":{\"margin\":[5,5,5,5],\"name\":\"HSpacer10385\",\"sizing_mode\":\"stretch_width\"},\"id\":\"9709\",\"type\":\"Spacer\"},{\"attributes\":{},\"id\":\"9754\",\"type\":\"BasicTickFormatter\"},{\"attributes\":{},\"id\":\"9730\",\"type\":\"SaveTool\"},{\"attributes\":{\"line_alpha\":0.2,\"line_color\":\"#30a2da\",\"line_width\":2,\"x\":{\"field\":\"k\"},\"y\":{\"field\":\"inertia\"}},\"id\":\"9748\",\"type\":\"Line\"},{\"attributes\":{\"overlay\":{\"id\":\"9735\"}},\"id\":\"9733\",\"type\":\"BoxZoomTool\"},{\"attributes\":{\"line_color\":\"#30a2da\",\"line_width\":2,\"x\":{\"field\":\"k\"},\"y\":{\"field\":\"inertia\"}},\"id\":\"9751\",\"type\":\"Line\"},{\"attributes\":{},\"id\":\"9734\",\"type\":\"ResetTool\"},{\"attributes\":{\"coordinates\":null,\"data_source\":{\"id\":\"9743\"},\"glyph\":{\"id\":\"9746\"},\"group\":null,\"hover_glyph\":null,\"muted_glyph\":{\"id\":\"9748\"},\"nonselection_glyph\":{\"id\":\"9747\"},\"selection_glyph\":{\"id\":\"9751\"},\"view\":{\"id\":\"9750\"}},\"id\":\"9749\",\"type\":\"GlyphRenderer\"},{\"attributes\":{\"bottom_units\":\"screen\",\"coordinates\":null,\"fill_alpha\":0.5,\"fill_color\":\"lightgrey\",\"group\":null,\"left_units\":\"screen\",\"level\":\"overlay\",\"line_alpha\":1.0,\"line_color\":\"black\",\"line_dash\":[4,4],\"line_width\":2,\"right_units\":\"screen\",\"syncable\":false,\"top_units\":\"screen\"},\"id\":\"9735\",\"type\":\"BoxAnnotation\"},{\"attributes\":{\"tools\":[{\"id\":\"9712\"},{\"id\":\"9730\"},{\"id\":\"9731\"},{\"id\":\"9732\"},{\"id\":\"9733\"},{\"id\":\"9734\"}]},\"id\":\"9736\",\"type\":\"Toolbar\"},{\"attributes\":{\"ticks\":[1,2,3,4,5,6,7,8,9,10]},\"id\":\"9752\",\"type\":\"FixedTicker\"},{\"attributes\":{\"end\":28171458.501073066,\"reset_end\":28171458.501073066,\"reset_start\":-1163280.1177153431,\"start\":-1163280.1177153431,\"tags\":[[[\"inertia\",\"inertia\",null]]]},\"id\":\"9711\",\"type\":\"Range1d\"},{\"attributes\":{\"children\":[{\"id\":\"9709\"},{\"id\":\"9713\"},{\"id\":\"9770\"}],\"margin\":[0,0,0,0],\"name\":\"Row10381\",\"tags\":[\"embedded\"]},\"id\":\"9708\",\"type\":\"Row\"},{\"attributes\":{\"below\":[{\"id\":\"9722\"}],\"center\":[{\"id\":\"9725\"},{\"id\":\"9729\"}],\"height\":300,\"left\":[{\"id\":\"9726\"}],\"margin\":[5,5,5,5],\"min_border_bottom\":10,\"min_border_left\":10,\"min_border_right\":10,\"min_border_top\":10,\"renderers\":[{\"id\":\"9749\"}],\"sizing_mode\":\"fixed\",\"title\":{\"id\":\"9714\"},\"toolbar\":{\"id\":\"9736\"},\"width\":700,\"x_range\":{\"id\":\"9710\"},\"x_scale\":{\"id\":\"9718\"},\"y_range\":{\"id\":\"9711\"},\"y_scale\":{\"id\":\"9720\"}},\"id\":\"9713\",\"subtype\":\"Figure\",\"type\":\"Plot\"},{\"attributes\":{},\"id\":\"9755\",\"type\":\"AllLabels\"},{\"attributes\":{\"margin\":[5,5,5,5],\"name\":\"HSpacer10386\",\"sizing_mode\":\"stretch_width\"},\"id\":\"9770\",\"type\":\"Spacer\"},{\"attributes\":{\"end\":10.0,\"reset_end\":10.0,\"reset_start\":1.0,\"start\":1.0,\"tags\":[[[\"k\",\"k\",null]]]},\"id\":\"9710\",\"type\":\"Range1d\"},{\"attributes\":{},\"id\":\"9718\",\"type\":\"LinearScale\"},{\"attributes\":{\"callback\":null,\"renderers\":[{\"id\":\"9749\"}],\"tags\":[\"hv_created\"],\"tooltips\":[[\"k\",\"@{k}\"],[\"inertia\",\"@{inertia}\"]]},\"id\":\"9712\",\"type\":\"HoverTool\"}],\"root_ids\":[\"9708\"]},\"title\":\"Bokeh Application\",\"version\":\"2.4.3\"}};\n",
       "    var render_items = [{\"docid\":\"51e0e761-c6b6-4cb1-ab4f-9c7cc080bb04\",\"root_ids\":[\"9708\"],\"roots\":{\"9708\":\"f662984b-d998-48d0-beb9-58ea0effa8d3\"}}];\n",
       "    root.Bokeh.embed.embed_items_notebook(docs_json, render_items);\n",
       "  }\n",
       "  if (root.Bokeh !== undefined && root.Bokeh.Panel !== undefined) {\n",
       "    embed_document(root);\n",
       "  } else {\n",
       "    var attempts = 0;\n",
       "    var timer = setInterval(function(root) {\n",
       "      if (root.Bokeh !== undefined && root.Bokeh.Panel !== undefined) {\n",
       "        clearInterval(timer);\n",
       "        embed_document(root);\n",
       "      } else if (document.readyState == \"complete\") {\n",
       "        attempts++;\n",
       "        if (attempts > 200) {\n",
       "          clearInterval(timer);\n",
       "          console.log(\"Bokeh: ERROR: Unable to run BokehJS code because BokehJS library is missing\");\n",
       "        }\n",
       "      }\n",
       "    }, 25, root)\n",
       "  }\n",
       "})(window);</script>"
      ],
      "text/plain": [
       ":Curve   [k]   (inertia)"
      ]
     },
     "execution_count": 118,
     "metadata": {
      "application/vnd.holoviews_exec.v0+json": {
       "id": "9708"
      }
     },
     "output_type": "execute_result"
    }
   ],
   "source": [
    "# Plot the Elbow Curve\n",
    "df_elbow.hvplot.line(\n",
    "    x=\"k\", \n",
    "    y=\"inertia\", \n",
    "    title=\"Elbow Curve\", \n",
    "    xticks=k\n",
    ")"
   ]
  },
  {
   "cell_type": "markdown",
   "metadata": {},
   "source": [
    "## Use PCA values to cluster data"
   ]
  },
  {
   "cell_type": "code",
   "execution_count": 119,
   "metadata": {},
   "outputs": [],
   "source": [
    "# Define the model with 3 clusters\n",
    "model = KMeans(n_clusters=3, random_state=0)\n",
    "\n",
    "# Fit the model\n",
    "model.fit(spendPcaDf)\n",
    "\n",
    "# Make predictions\n",
    "k_3 = model.predict(spendPcaDf)\n",
    "\n",
    "# Create a copy of the PCA DataFrame\n",
    "spendPcaDf_pred = spendPcaDf.copy()\n",
    "\n",
    "# Add a class column with the labels\n",
    "spendPcaDf_pred[\"Clusters\"] = k_3\n",
    "\n",
    "# spendPcaDf_pred['City'] = spendDf['City']\n",
    "spendPcaDf_pred = pd.merge(spendPcaDf_pred,spendDf,left_index=True,right_index=True)\n"
   ]
  },
  {
   "cell_type": "code",
   "execution_count": 120,
   "metadata": {},
   "outputs": [
    {
     "data": {
      "text/html": [
       "<div>\n",
       "<style scoped>\n",
       "    .dataframe tbody tr th:only-of-type {\n",
       "        vertical-align: middle;\n",
       "    }\n",
       "\n",
       "    .dataframe tbody tr th {\n",
       "        vertical-align: top;\n",
       "    }\n",
       "\n",
       "    .dataframe thead th {\n",
       "        text-align: right;\n",
       "    }\n",
       "</style>\n",
       "<table border=\"1\" class=\"dataframe\">\n",
       "  <thead>\n",
       "    <tr style=\"text-align: right;\">\n",
       "      <th></th>\n",
       "      <th>PCA1</th>\n",
       "      <th>PCA2</th>\n",
       "      <th>PCA3</th>\n",
       "      <th>Clusters</th>\n",
       "      <th>City</th>\n",
       "      <th>Cereals and bakery products (2005)</th>\n",
       "      <th>Cereals and bakery products (2006)</th>\n",
       "      <th>Cereals and bakery products (2007)</th>\n",
       "      <th>Cereals and bakery products (2008)</th>\n",
       "      <th>Cereals and bakery products (2009)</th>\n",
       "      <th>...</th>\n",
       "      <th>Other food at home (2019)</th>\n",
       "      <th>Other food at home (2020)</th>\n",
       "      <th>Other food at home (2021)</th>\n",
       "      <th>Other food at home (2022)</th>\n",
       "      <th>Cereals and bakery products Average Change</th>\n",
       "      <th>Meats, poultry, fish, and eggs Average Change</th>\n",
       "      <th>Dairy products Average Change</th>\n",
       "      <th>Fruits and vegetables Average Change</th>\n",
       "      <th>Other food at home Average Change</th>\n",
       "      <th>Average Change</th>\n",
       "    </tr>\n",
       "  </thead>\n",
       "  <tbody>\n",
       "    <tr>\n",
       "      <th>0</th>\n",
       "      <td>322.766633</td>\n",
       "      <td>253.550649</td>\n",
       "      <td>-388.691435</td>\n",
       "      <td>0</td>\n",
       "      <td>Chicago</td>\n",
       "      <td>473.0</td>\n",
       "      <td>491.0</td>\n",
       "      <td>537.0</td>\n",
       "      <td>561.0</td>\n",
       "      <td>584.0</td>\n",
       "      <td>...</td>\n",
       "      <td>1777.0</td>\n",
       "      <td>2119.0</td>\n",
       "      <td>2174.0</td>\n",
       "      <td>2035.0</td>\n",
       "      <td>2.690843</td>\n",
       "      <td>2.802966</td>\n",
       "      <td>1.862723</td>\n",
       "      <td>3.743654</td>\n",
       "      <td>3.391493</td>\n",
       "      <td>2.898336</td>\n",
       "    </tr>\n",
       "    <tr>\n",
       "      <th>1</th>\n",
       "      <td>-302.439338</td>\n",
       "      <td>221.621004</td>\n",
       "      <td>-391.621210</td>\n",
       "      <td>2</td>\n",
       "      <td>Detroit</td>\n",
       "      <td>545.0</td>\n",
       "      <td>527.0</td>\n",
       "      <td>579.0</td>\n",
       "      <td>628.0</td>\n",
       "      <td>540.0</td>\n",
       "      <td>...</td>\n",
       "      <td>1636.0</td>\n",
       "      <td>1762.0</td>\n",
       "      <td>1887.0</td>\n",
       "      <td>2051.0</td>\n",
       "      <td>1.691562</td>\n",
       "      <td>0.940985</td>\n",
       "      <td>1.496953</td>\n",
       "      <td>3.113009</td>\n",
       "      <td>2.876458</td>\n",
       "      <td>2.023793</td>\n",
       "    </tr>\n",
       "    <tr>\n",
       "      <th>2</th>\n",
       "      <td>413.076418</td>\n",
       "      <td>761.781164</td>\n",
       "      <td>20.110776</td>\n",
       "      <td>0</td>\n",
       "      <td>Minneapolis-St.Paul</td>\n",
       "      <td>493.0</td>\n",
       "      <td>470.0</td>\n",
       "      <td>517.0</td>\n",
       "      <td>536.0</td>\n",
       "      <td>518.0</td>\n",
       "      <td>...</td>\n",
       "      <td>2126.0</td>\n",
       "      <td>2152.0</td>\n",
       "      <td>2001.0</td>\n",
       "      <td>2317.0</td>\n",
       "      <td>2.093101</td>\n",
       "      <td>3.503035</td>\n",
       "      <td>1.546455</td>\n",
       "      <td>4.831423</td>\n",
       "      <td>3.661225</td>\n",
       "      <td>3.127048</td>\n",
       "    </tr>\n",
       "    <tr>\n",
       "      <th>3</th>\n",
       "      <td>369.436832</td>\n",
       "      <td>-1007.285501</td>\n",
       "      <td>-353.576808</td>\n",
       "      <td>2</td>\n",
       "      <td>New York</td>\n",
       "      <td>568.0</td>\n",
       "      <td>533.0</td>\n",
       "      <td>528.0</td>\n",
       "      <td>535.0</td>\n",
       "      <td>558.0</td>\n",
       "      <td>...</td>\n",
       "      <td>1635.0</td>\n",
       "      <td>1807.0</td>\n",
       "      <td>1994.0</td>\n",
       "      <td>2163.0</td>\n",
       "      <td>2.324064</td>\n",
       "      <td>2.194653</td>\n",
       "      <td>2.343244</td>\n",
       "      <td>4.041798</td>\n",
       "      <td>4.141036</td>\n",
       "      <td>3.008959</td>\n",
       "    </tr>\n",
       "    <tr>\n",
       "      <th>4</th>\n",
       "      <td>148.979148</td>\n",
       "      <td>-138.094588</td>\n",
       "      <td>386.433540</td>\n",
       "      <td>2</td>\n",
       "      <td>Philadelphia</td>\n",
       "      <td>522.0</td>\n",
       "      <td>454.0</td>\n",
       "      <td>408.0</td>\n",
       "      <td>467.0</td>\n",
       "      <td>526.0</td>\n",
       "      <td>...</td>\n",
       "      <td>1701.0</td>\n",
       "      <td>1968.0</td>\n",
       "      <td>2230.0</td>\n",
       "      <td>2252.0</td>\n",
       "      <td>3.033625</td>\n",
       "      <td>2.189416</td>\n",
       "      <td>2.191024</td>\n",
       "      <td>4.704111</td>\n",
       "      <td>4.513988</td>\n",
       "      <td>3.326433</td>\n",
       "    </tr>\n",
       "  </tbody>\n",
       "</table>\n",
       "<p>5 rows × 101 columns</p>\n",
       "</div>"
      ],
      "text/plain": [
       "         PCA1         PCA2        PCA3  Clusters                 City  \\\n",
       "0  322.766633   253.550649 -388.691435         0              Chicago   \n",
       "1 -302.439338   221.621004 -391.621210         2              Detroit   \n",
       "2  413.076418   761.781164   20.110776         0  Minneapolis-St.Paul   \n",
       "3  369.436832 -1007.285501 -353.576808         2             New York   \n",
       "4  148.979148  -138.094588  386.433540         2         Philadelphia   \n",
       "\n",
       "   Cereals and bakery products (2005)  Cereals and bakery products (2006)  \\\n",
       "0                               473.0                               491.0   \n",
       "1                               545.0                               527.0   \n",
       "2                               493.0                               470.0   \n",
       "3                               568.0                               533.0   \n",
       "4                               522.0                               454.0   \n",
       "\n",
       "   Cereals and bakery products (2007)  Cereals and bakery products (2008)  \\\n",
       "0                               537.0                               561.0   \n",
       "1                               579.0                               628.0   \n",
       "2                               517.0                               536.0   \n",
       "3                               528.0                               535.0   \n",
       "4                               408.0                               467.0   \n",
       "\n",
       "   Cereals and bakery products (2009)  ...  Other food at home (2019)  \\\n",
       "0                               584.0  ...                     1777.0   \n",
       "1                               540.0  ...                     1636.0   \n",
       "2                               518.0  ...                     2126.0   \n",
       "3                               558.0  ...                     1635.0   \n",
       "4                               526.0  ...                     1701.0   \n",
       "\n",
       "   Other food at home (2020)  Other food at home (2021)  \\\n",
       "0                     2119.0                     2174.0   \n",
       "1                     1762.0                     1887.0   \n",
       "2                     2152.0                     2001.0   \n",
       "3                     1807.0                     1994.0   \n",
       "4                     1968.0                     2230.0   \n",
       "\n",
       "   Other food at home (2022)  Cereals and bakery products Average Change  \\\n",
       "0                     2035.0                                    2.690843   \n",
       "1                     2051.0                                    1.691562   \n",
       "2                     2317.0                                    2.093101   \n",
       "3                     2163.0                                    2.324064   \n",
       "4                     2252.0                                    3.033625   \n",
       "\n",
       "   Meats, poultry, fish, and eggs Average Change  \\\n",
       "0                                       2.802966   \n",
       "1                                       0.940985   \n",
       "2                                       3.503035   \n",
       "3                                       2.194653   \n",
       "4                                       2.189416   \n",
       "\n",
       "   Dairy products Average Change  Fruits and vegetables Average Change  \\\n",
       "0                       1.862723                              3.743654   \n",
       "1                       1.496953                              3.113009   \n",
       "2                       1.546455                              4.831423   \n",
       "3                       2.343244                              4.041798   \n",
       "4                       2.191024                              4.704111   \n",
       "\n",
       "   Other food at home Average Change  Average Change  \n",
       "0                           3.391493        2.898336  \n",
       "1                           2.876458        2.023793  \n",
       "2                           3.661225        3.127048  \n",
       "3                           4.141036        3.008959  \n",
       "4                           4.513988        3.326433  \n",
       "\n",
       "[5 rows x 101 columns]"
      ]
     },
     "execution_count": 120,
     "metadata": {},
     "output_type": "execute_result"
    }
   ],
   "source": [
    "spendPcaDf_pred.head()"
   ]
  },
  {
   "cell_type": "markdown",
   "metadata": {},
   "source": [
    "## Now we see clear clusters, we can imply that these cities have similar consumer spending profiles through the years"
   ]
  },
  {
   "cell_type": "code",
   "execution_count": 121,
   "metadata": {},
   "outputs": [
    {
     "data": {},
     "metadata": {},
     "output_type": "display_data"
    },
    {
     "data": {
      "application/vnd.holoviews_exec.v0+json": "",
      "text/html": [
       "<div id='9817'>\n",
       "  <div class=\"bk-root\" id=\"efebf87f-b477-4fcc-9f47-5a09cd5c820d\" data-root-id=\"9817\"></div>\n",
       "</div>\n",
       "<script type=\"application/javascript\">(function(root) {\n",
       "  function embed_document(root) {\n",
       "    var docs_json = {\"7cbd1ef0-98d3-49a5-8504-8e189b9dcda4\":{\"defs\":[{\"extends\":null,\"module\":null,\"name\":\"ReactiveHTML1\",\"overrides\":[],\"properties\":[]},{\"extends\":null,\"module\":null,\"name\":\"FlexBox1\",\"overrides\":[],\"properties\":[{\"default\":\"flex-start\",\"kind\":null,\"name\":\"align_content\"},{\"default\":\"flex-start\",\"kind\":null,\"name\":\"align_items\"},{\"default\":\"row\",\"kind\":null,\"name\":\"flex_direction\"},{\"default\":\"wrap\",\"kind\":null,\"name\":\"flex_wrap\"},{\"default\":\"flex-start\",\"kind\":null,\"name\":\"justify_content\"}]},{\"extends\":null,\"module\":null,\"name\":\"GridStack1\",\"overrides\":[],\"properties\":[{\"default\":\"warn\",\"kind\":null,\"name\":\"mode\"},{\"default\":null,\"kind\":null,\"name\":\"ncols\"},{\"default\":null,\"kind\":null,\"name\":\"nrows\"},{\"default\":true,\"kind\":null,\"name\":\"allow_resize\"},{\"default\":true,\"kind\":null,\"name\":\"allow_drag\"},{\"default\":[],\"kind\":null,\"name\":\"state\"}]},{\"extends\":null,\"module\":null,\"name\":\"click1\",\"overrides\":[],\"properties\":[{\"default\":\"\",\"kind\":null,\"name\":\"terminal_output\"},{\"default\":\"\",\"kind\":null,\"name\":\"debug_name\"},{\"default\":0,\"kind\":null,\"name\":\"clears\"}]},{\"extends\":null,\"module\":null,\"name\":\"NotificationAreaBase1\",\"overrides\":[],\"properties\":[{\"default\":\"bottom-right\",\"kind\":null,\"name\":\"position\"},{\"default\":0,\"kind\":null,\"name\":\"_clear\"}]},{\"extends\":null,\"module\":null,\"name\":\"NotificationArea1\",\"overrides\":[],\"properties\":[{\"default\":[],\"kind\":null,\"name\":\"notifications\"},{\"default\":\"bottom-right\",\"kind\":null,\"name\":\"position\"},{\"default\":0,\"kind\":null,\"name\":\"_clear\"},{\"default\":[{\"background\":\"#ffc107\",\"icon\":{\"className\":\"fas fa-exclamation-triangle\",\"color\":\"white\",\"tagName\":\"i\"},\"type\":\"warning\"},{\"background\":\"#007bff\",\"icon\":{\"className\":\"fas fa-info-circle\",\"color\":\"white\",\"tagName\":\"i\"},\"type\":\"info\"}],\"kind\":null,\"name\":\"types\"}]},{\"extends\":null,\"module\":null,\"name\":\"Notification\",\"overrides\":[],\"properties\":[{\"default\":null,\"kind\":null,\"name\":\"background\"},{\"default\":3000,\"kind\":null,\"name\":\"duration\"},{\"default\":null,\"kind\":null,\"name\":\"icon\"},{\"default\":\"\",\"kind\":null,\"name\":\"message\"},{\"default\":null,\"kind\":null,\"name\":\"notification_type\"},{\"default\":false,\"kind\":null,\"name\":\"_destroyed\"}]},{\"extends\":null,\"module\":null,\"name\":\"TemplateActions1\",\"overrides\":[],\"properties\":[{\"default\":0,\"kind\":null,\"name\":\"open_modal\"},{\"default\":0,\"kind\":null,\"name\":\"close_modal\"}]},{\"extends\":null,\"module\":null,\"name\":\"MaterialTemplateActions1\",\"overrides\":[],\"properties\":[{\"default\":0,\"kind\":null,\"name\":\"open_modal\"},{\"default\":0,\"kind\":null,\"name\":\"close_modal\"}]}],\"roots\":{\"references\":[{\"attributes\":{\"click_policy\":\"mute\",\"coordinates\":null,\"group\":null,\"items\":[{\"id\":\"9879\"},{\"id\":\"9901\"},{\"id\":\"9925\"}],\"location\":[0,0],\"title\":\"Clusters\"},\"id\":\"9878\",\"type\":\"Legend\"},{\"attributes\":{},\"id\":\"9922\",\"type\":\"UnionRenderers\"},{\"attributes\":{},\"id\":\"9829\",\"type\":\"LinearScale\"},{\"attributes\":{\"coordinates\":null,\"data_source\":{\"id\":\"9860\"},\"glyph\":{\"id\":\"9863\"},\"group\":null,\"hover_glyph\":null,\"muted_glyph\":{\"id\":\"9865\"},\"nonselection_glyph\":{\"id\":\"9864\"},\"selection_glyph\":{\"id\":\"9880\"},\"view\":{\"id\":\"9867\"}},\"id\":\"9866\",\"type\":\"GlyphRenderer\"},{\"attributes\":{\"fill_alpha\":{\"value\":0.1},\"fill_color\":{\"value\":\"#30a2da\"},\"hatch_alpha\":{\"value\":0.1},\"hatch_color\":{\"value\":\"#30a2da\"},\"line_alpha\":{\"value\":0.1},\"line_color\":{\"value\":\"#30a2da\"},\"size\":{\"field\":\"size\"},\"x\":{\"field\":\"PCA1\"},\"y\":{\"field\":\"PCA2\"}},\"id\":\"9864\",\"type\":\"Scatter\"},{\"attributes\":{\"fill_color\":{\"value\":\"#e5ae38\"},\"hatch_color\":{\"value\":\"#e5ae38\"},\"line_color\":{\"value\":\"#e5ae38\"},\"size\":{\"field\":\"size\"},\"x\":{\"field\":\"PCA1\"},\"y\":{\"field\":\"PCA2\"}},\"id\":\"9906\",\"type\":\"Scatter\"},{\"attributes\":{\"children\":[{\"id\":\"9818\"},{\"id\":\"9824\"},{\"id\":\"9941\"}],\"margin\":[0,0,0,0],\"name\":\"Row10635\",\"tags\":[\"embedded\"]},\"id\":\"9817\",\"type\":\"Row\"},{\"attributes\":{\"source\":{\"id\":\"9903\"}},\"id\":\"9910\",\"type\":\"CDSView\"},{\"attributes\":{},\"id\":\"9875\",\"type\":\"UnionRenderers\"},{\"attributes\":{},\"id\":\"9898\",\"type\":\"UnionRenderers\"},{\"attributes\":{\"callback\":null,\"renderers\":[{\"id\":\"9866\"},{\"id\":\"9887\"},{\"id\":\"9909\"}],\"tags\":[\"hv_created\"],\"tooltips\":[[\"Clusters\",\"@{Clusters}\"],[\"PCA1\",\"@{PCA1}\"],[\"PCA2\",\"@{PCA2}\"],[\"Average Change\",\"@{Average_Change}\"],[\"City\",\"@{City}\"]]},\"id\":\"9821\",\"type\":\"HoverTool\"},{\"attributes\":{},\"id\":\"9861\",\"type\":\"Selection\"},{\"attributes\":{},\"id\":\"9882\",\"type\":\"Selection\"},{\"attributes\":{\"angle\":{\"value\":0.0},\"fill_alpha\":{\"value\":1.0},\"fill_color\":{\"value\":\"#30a2da\"},\"hatch_alpha\":{\"value\":1.0},\"hatch_color\":{\"value\":\"#30a2da\"},\"hatch_scale\":{\"value\":12.0},\"hatch_weight\":{\"value\":1.0},\"line_alpha\":{\"value\":1.0},\"line_cap\":{\"value\":\"butt\"},\"line_color\":{\"value\":\"#30a2da\"},\"line_dash\":{\"value\":[]},\"line_dash_offset\":{\"value\":0},\"line_join\":{\"value\":\"bevel\"},\"line_width\":{\"value\":1},\"marker\":{\"value\":\"circle\"},\"size\":{\"field\":\"size\"},\"x\":{\"field\":\"PCA1\"},\"y\":{\"field\":\"PCA2\"}},\"id\":\"9880\",\"type\":\"Scatter\"},{\"attributes\":{\"source\":{\"id\":\"9881\"}},\"id\":\"9888\",\"type\":\"CDSView\"},{\"attributes\":{},\"id\":\"9855\",\"type\":\"BasicTickFormatter\"},{\"attributes\":{},\"id\":\"9831\",\"type\":\"LinearScale\"},{\"attributes\":{\"coordinates\":null,\"group\":null,\"text_color\":\"black\",\"text_font_size\":\"12pt\"},\"id\":\"9825\",\"type\":\"Title\"},{\"attributes\":{},\"id\":\"9856\",\"type\":\"AllLabels\"},{\"attributes\":{\"fill_alpha\":{\"value\":0.1},\"fill_color\":{\"value\":\"#fc4f30\"},\"hatch_alpha\":{\"value\":0.1},\"hatch_color\":{\"value\":\"#fc4f30\"},\"line_alpha\":{\"value\":0.1},\"line_color\":{\"value\":\"#fc4f30\"},\"size\":{\"field\":\"size\"},\"x\":{\"field\":\"PCA1\"},\"y\":{\"field\":\"PCA2\"}},\"id\":\"9885\",\"type\":\"Scatter\"},{\"attributes\":{\"end\":1824.0419227423897,\"reset_end\":1824.0419227423897,\"reset_start\":-1815.054483320751,\"start\":-1815.054483320751,\"tags\":[[[\"PCA1\",\"PCA1\",null]]]},\"id\":\"9819\",\"type\":\"Range1d\"},{\"attributes\":{\"below\":[{\"id\":\"9833\"}],\"center\":[{\"id\":\"9836\"},{\"id\":\"9840\"}],\"height\":300,\"left\":[{\"id\":\"9837\"}],\"margin\":[5,5,5,5],\"min_border_bottom\":10,\"min_border_left\":10,\"min_border_right\":10,\"min_border_top\":10,\"renderers\":[{\"id\":\"9866\"},{\"id\":\"9887\"},{\"id\":\"9909\"}],\"right\":[{\"id\":\"9878\"}],\"sizing_mode\":\"fixed\",\"title\":{\"id\":\"9825\"},\"toolbar\":{\"id\":\"9847\"},\"width\":700,\"x_range\":{\"id\":\"9819\"},\"x_scale\":{\"id\":\"9829\"},\"y_range\":{\"id\":\"9820\"},\"y_scale\":{\"id\":\"9831\"}},\"id\":\"9824\",\"subtype\":\"Figure\",\"type\":\"Plot\"},{\"attributes\":{\"label\":{\"value\":\"0\"},\"renderers\":[{\"id\":\"9866\"}]},\"id\":\"9879\",\"type\":\"LegendItem\"},{\"attributes\":{\"axis_label\":\"PCA1\",\"coordinates\":null,\"formatter\":{\"id\":\"9855\"},\"group\":null,\"major_label_policy\":{\"id\":\"9856\"},\"ticker\":{\"id\":\"9834\"}},\"id\":\"9833\",\"type\":\"LinearAxis\"},{\"attributes\":{\"data\":{\"Average_Change\":{\"__ndarray__\":\"gd7ok7owAECbSG71WBIIQEWv0riInApAPIhWQBLQFUAASfPL49gTQEkrqY5t1QRAoTN8oeWRAkA=\",\"dtype\":\"float64\",\"order\":\"little\",\"shape\":[7]},\"City\":[\"Detroit\",\"New York\",\"Philadelphia\",\"Baltimore\",\"Atlanta\",\"Miami\",\"Los Angeles\"],\"Clusters\":[2,2,2,2,2,2,2],\"PCA1\":{\"__ndarray__\":\"kSO7hwfncsAC/S9D/RZ3QEauVC1Vn2JAhonZ3rm0acBANIXYSgWBwBHo4H/B4ZDA0DXFnUnvVsA=\",\"dtype\":\"float64\",\"order\":\"little\",\"shape\":[7]},\"PCA2\":{\"__ndarray__\":\"HvjQQt+za0AA/uC0SHqPwIKdC90GQ2HAYUcCjh16a8D6vMT41QWIwPvdzwxiMJHAWd86d08gcMA=\",\"dtype\":\"float64\",\"order\":\"little\",\"shape\":[7]},\"size\":{\"__ndarray__\":\"SrtNebdzHECkYjxsqlghQBHoHwYPPSJAbXlEqiFaJ0A49NjJbUYmQMDHxAg4IyBARfHqJqJ4HkA=\",\"dtype\":\"float64\",\"order\":\"little\",\"shape\":[7]}},\"selected\":{\"id\":\"9904\"},\"selection_policy\":{\"id\":\"9922\"}},\"id\":\"9903\",\"type\":\"ColumnDataSource\"},{\"attributes\":{\"angle\":{\"value\":0.0},\"fill_alpha\":{\"value\":1.0},\"fill_color\":{\"value\":\"#e5ae38\"},\"hatch_alpha\":{\"value\":1.0},\"hatch_color\":{\"value\":\"#e5ae38\"},\"hatch_scale\":{\"value\":12.0},\"hatch_weight\":{\"value\":1.0},\"line_alpha\":{\"value\":1.0},\"line_cap\":{\"value\":\"butt\"},\"line_color\":{\"value\":\"#e5ae38\"},\"line_dash\":{\"value\":[]},\"line_dash_offset\":{\"value\":0},\"line_join\":{\"value\":\"bevel\"},\"line_width\":{\"value\":1},\"marker\":{\"value\":\"circle\"},\"size\":{\"field\":\"size\"},\"x\":{\"field\":\"PCA1\"},\"y\":{\"field\":\"PCA2\"}},\"id\":\"9926\",\"type\":\"Scatter\"},{\"attributes\":{},\"id\":\"9842\",\"type\":\"PanTool\"},{\"attributes\":{},\"id\":\"9858\",\"type\":\"BasicTickFormatter\"},{\"attributes\":{},\"id\":\"9859\",\"type\":\"AllLabels\"},{\"attributes\":{},\"id\":\"9834\",\"type\":\"BasicTicker\"},{\"attributes\":{\"axis\":{\"id\":\"9833\"},\"coordinates\":null,\"grid_line_color\":null,\"group\":null,\"ticker\":null},\"id\":\"9836\",\"type\":\"Grid\"},{\"attributes\":{\"label\":{\"value\":\"2\"},\"renderers\":[{\"id\":\"9909\"}]},\"id\":\"9925\",\"type\":\"LegendItem\"},{\"attributes\":{\"axis_label\":\"PCA2\",\"coordinates\":null,\"formatter\":{\"id\":\"9858\"},\"group\":null,\"major_label_policy\":{\"id\":\"9859\"},\"ticker\":{\"id\":\"9838\"}},\"id\":\"9837\",\"type\":\"LinearAxis\"},{\"attributes\":{\"fill_color\":{\"value\":\"#30a2da\"},\"hatch_color\":{\"value\":\"#30a2da\"},\"line_color\":{\"value\":\"#30a2da\"},\"size\":{\"field\":\"size\"},\"x\":{\"field\":\"PCA1\"},\"y\":{\"field\":\"PCA2\"}},\"id\":\"9863\",\"type\":\"Scatter\"},{\"attributes\":{\"axis\":{\"id\":\"9837\"},\"coordinates\":null,\"dimension\":1,\"grid_line_color\":null,\"group\":null,\"ticker\":null},\"id\":\"9840\",\"type\":\"Grid\"},{\"attributes\":{},\"id\":\"9838\",\"type\":\"BasicTicker\"},{\"attributes\":{},\"id\":\"9843\",\"type\":\"WheelZoomTool\"},{\"attributes\":{\"end\":1461.300785897783,\"reset_end\":1461.300785897783,\"reset_start\":-1332.9499827167024,\"start\":-1332.9499827167024,\"tags\":[[[\"PCA2\",\"PCA2\",null]]]},\"id\":\"9820\",\"type\":\"Range1d\"},{\"attributes\":{\"margin\":[5,5,5,5],\"name\":\"HSpacer10640\",\"sizing_mode\":\"stretch_width\"},\"id\":\"9941\",\"type\":\"Spacer\"},{\"attributes\":{\"fill_alpha\":{\"value\":0.2},\"fill_color\":{\"value\":\"#e5ae38\"},\"hatch_alpha\":{\"value\":0.2},\"hatch_color\":{\"value\":\"#e5ae38\"},\"line_alpha\":{\"value\":0.2},\"line_color\":{\"value\":\"#e5ae38\"},\"size\":{\"field\":\"size\"},\"x\":{\"field\":\"PCA1\"},\"y\":{\"field\":\"PCA2\"}},\"id\":\"9908\",\"type\":\"Scatter\"},{\"attributes\":{},\"id\":\"9841\",\"type\":\"SaveTool\"},{\"attributes\":{\"source\":{\"id\":\"9860\"}},\"id\":\"9867\",\"type\":\"CDSView\"},{\"attributes\":{\"fill_color\":{\"value\":\"#fc4f30\"},\"hatch_color\":{\"value\":\"#fc4f30\"},\"line_color\":{\"value\":\"#fc4f30\"},\"size\":{\"field\":\"size\"},\"x\":{\"field\":\"PCA1\"},\"y\":{\"field\":\"PCA2\"}},\"id\":\"9884\",\"type\":\"Scatter\"},{\"attributes\":{\"margin\":[5,5,5,5],\"name\":\"HSpacer10639\",\"sizing_mode\":\"stretch_width\"},\"id\":\"9818\",\"type\":\"Spacer\"},{\"attributes\":{\"overlay\":{\"id\":\"9846\"}},\"id\":\"9844\",\"type\":\"BoxZoomTool\"},{\"attributes\":{\"fill_alpha\":{\"value\":0.2},\"fill_color\":{\"value\":\"#30a2da\"},\"hatch_alpha\":{\"value\":0.2},\"hatch_color\":{\"value\":\"#30a2da\"},\"line_alpha\":{\"value\":0.2},\"line_color\":{\"value\":\"#30a2da\"},\"size\":{\"field\":\"size\"},\"x\":{\"field\":\"PCA1\"},\"y\":{\"field\":\"PCA2\"}},\"id\":\"9865\",\"type\":\"Scatter\"},{\"attributes\":{\"coordinates\":null,\"data_source\":{\"id\":\"9881\"},\"glyph\":{\"id\":\"9884\"},\"group\":null,\"hover_glyph\":null,\"muted_glyph\":{\"id\":\"9886\"},\"nonselection_glyph\":{\"id\":\"9885\"},\"selection_glyph\":{\"id\":\"9902\"},\"view\":{\"id\":\"9888\"}},\"id\":\"9887\",\"type\":\"GlyphRenderer\"},{\"attributes\":{\"data\":{\"Average_Change\":{\"__ndarray__\":\"cKlXosovB0Cig0qvMQQJQH/b9jBR0RJAo3M9J+uzEkB8plP2Qz8PQIUNPOJmGQxA\",\"dtype\":\"float64\",\"order\":\"little\",\"shape\":[6]},\"City\":[\"Chicago\",\"Minneapolis-St.Paul\",\"Washington, D.C.\",\"San Francisco\",\"San Diego\",\"Seattle\"],\"Clusters\":[0,0,0,0,0,0],\"PCA1\":{\"__ndarray__\":\"BlNNIUQsdEA/ZNsBOdF5QGoIvcNDao5ALHNydXvrmUCI4PPqfnSJQJ6dT9KSQZpA\",\"dtype\":\"float64\",\"order\":\"little\",\"shape\":[6]},\"PCA2\":{\"__ndarray__\":\"y0906p6xb0CB38nSP86HQO0CRD6RjVXAOwFIOZpNisA4dikIDPFoQEfWwkXJMZNA\",\"dtype\":\"float64\",\"order\":\"little\",\"shape\":[6]},\"size\":{\"__ndarray__\":\"JW+Dk0UGIUDPMQJL964hQDpbrDiNsCVABEGbPZWfJUA4Gyl3acMjQLF4CtXMvSJA\",\"dtype\":\"float64\",\"order\":\"little\",\"shape\":[6]}},\"selected\":{\"id\":\"9861\"},\"selection_policy\":{\"id\":\"9875\"}},\"id\":\"9860\",\"type\":\"ColumnDataSource\"},{\"attributes\":{},\"id\":\"9845\",\"type\":\"ResetTool\"},{\"attributes\":{},\"id\":\"9904\",\"type\":\"Selection\"},{\"attributes\":{\"fill_alpha\":{\"value\":0.2},\"fill_color\":{\"value\":\"#fc4f30\"},\"hatch_alpha\":{\"value\":0.2},\"hatch_color\":{\"value\":\"#fc4f30\"},\"line_alpha\":{\"value\":0.2},\"line_color\":{\"value\":\"#fc4f30\"},\"size\":{\"field\":\"size\"},\"x\":{\"field\":\"PCA1\"},\"y\":{\"field\":\"PCA2\"}},\"id\":\"9886\",\"type\":\"Scatter\"},{\"attributes\":{\"bottom_units\":\"screen\",\"coordinates\":null,\"fill_alpha\":0.5,\"fill_color\":\"lightgrey\",\"group\":null,\"left_units\":\"screen\",\"level\":\"overlay\",\"line_alpha\":1.0,\"line_color\":\"black\",\"line_dash\":[4,4],\"line_width\":2,\"right_units\":\"screen\",\"syncable\":false,\"top_units\":\"screen\"},\"id\":\"9846\",\"type\":\"BoxAnnotation\"},{\"attributes\":{\"fill_alpha\":{\"value\":0.1},\"fill_color\":{\"value\":\"#e5ae38\"},\"hatch_alpha\":{\"value\":0.1},\"hatch_color\":{\"value\":\"#e5ae38\"},\"line_alpha\":{\"value\":0.1},\"line_color\":{\"value\":\"#e5ae38\"},\"size\":{\"field\":\"size\"},\"x\":{\"field\":\"PCA1\"},\"y\":{\"field\":\"PCA2\"}},\"id\":\"9907\",\"type\":\"Scatter\"},{\"attributes\":{\"label\":{\"value\":\"1\"},\"renderers\":[{\"id\":\"9887\"}]},\"id\":\"9901\",\"type\":\"LegendItem\"},{\"attributes\":{\"data\":{\"Average_Change\":{\"__ndarray__\":\"Ra9/XR8+AUDvQ+6v3YDzP3Caq5WneP4/\",\"dtype\":\"float64\",\"order\":\"little\",\"shape\":[3]},\"City\":[\"Dallas-Fort Worth\",\"Houston\",\"Phoenix\"],\"Clusters\":[1,1,1],\"PCA1\":{\"__ndarray__\":\"H6QErQj0lsC9wv2unx2awC0jHr03wI/A\",\"dtype\":\"float64\",\"order\":\"little\",\"shape\":[3]},\"PCA2\":{\"__ndarray__\":\"DGo5U9AedUCAcD0Bni+EQFqAMegkGYhA\",\"dtype\":\"float64\",\"order\":\"little\",\"shape\":[3]},\"size\":{\"__ndarray__\":\"dM/dBLNcHUCE81gz0RQWQGHOVIa0mRtA\",\"dtype\":\"float64\",\"order\":\"little\",\"shape\":[3]}},\"selected\":{\"id\":\"9882\"},\"selection_policy\":{\"id\":\"9898\"}},\"id\":\"9881\",\"type\":\"ColumnDataSource\"},{\"attributes\":{\"tools\":[{\"id\":\"9821\"},{\"id\":\"9841\"},{\"id\":\"9842\"},{\"id\":\"9843\"},{\"id\":\"9844\"},{\"id\":\"9845\"}]},\"id\":\"9847\",\"type\":\"Toolbar\"},{\"attributes\":{\"coordinates\":null,\"data_source\":{\"id\":\"9903\"},\"glyph\":{\"id\":\"9906\"},\"group\":null,\"hover_glyph\":null,\"muted_glyph\":{\"id\":\"9908\"},\"nonselection_glyph\":{\"id\":\"9907\"},\"selection_glyph\":{\"id\":\"9926\"},\"view\":{\"id\":\"9910\"}},\"id\":\"9909\",\"type\":\"GlyphRenderer\"},{\"attributes\":{\"angle\":{\"value\":0.0},\"fill_alpha\":{\"value\":1.0},\"fill_color\":{\"value\":\"#fc4f30\"},\"hatch_alpha\":{\"value\":1.0},\"hatch_color\":{\"value\":\"#fc4f30\"},\"hatch_scale\":{\"value\":12.0},\"hatch_weight\":{\"value\":1.0},\"line_alpha\":{\"value\":1.0},\"line_cap\":{\"value\":\"butt\"},\"line_color\":{\"value\":\"#fc4f30\"},\"line_dash\":{\"value\":[]},\"line_dash_offset\":{\"value\":0},\"line_join\":{\"value\":\"bevel\"},\"line_width\":{\"value\":1},\"marker\":{\"value\":\"circle\"},\"size\":{\"field\":\"size\"},\"x\":{\"field\":\"PCA1\"},\"y\":{\"field\":\"PCA2\"}},\"id\":\"9902\",\"type\":\"Scatter\"}],\"root_ids\":[\"9817\"]},\"title\":\"Bokeh Application\",\"version\":\"2.4.3\"}};\n",
       "    var render_items = [{\"docid\":\"7cbd1ef0-98d3-49a5-8504-8e189b9dcda4\",\"root_ids\":[\"9817\"],\"roots\":{\"9817\":\"efebf87f-b477-4fcc-9f47-5a09cd5c820d\"}}];\n",
       "    root.Bokeh.embed.embed_items_notebook(docs_json, render_items);\n",
       "  }\n",
       "  if (root.Bokeh !== undefined && root.Bokeh.Panel !== undefined) {\n",
       "    embed_document(root);\n",
       "  } else {\n",
       "    var attempts = 0;\n",
       "    var timer = setInterval(function(root) {\n",
       "      if (root.Bokeh !== undefined && root.Bokeh.Panel !== undefined) {\n",
       "        clearInterval(timer);\n",
       "        embed_document(root);\n",
       "      } else if (document.readyState == \"complete\") {\n",
       "        attempts++;\n",
       "        if (attempts > 200) {\n",
       "          clearInterval(timer);\n",
       "          console.log(\"Bokeh: ERROR: Unable to run BokehJS code because BokehJS library is missing\");\n",
       "        }\n",
       "      }\n",
       "    }, 25, root)\n",
       "  }\n",
       "})(window);</script>"
      ],
      "text/plain": [
       ":NdOverlay   [Clusters]\n",
       "   :Scatter   [PCA1]   (PCA2,Average Change,City)"
      ]
     },
     "execution_count": 121,
     "metadata": {
      "application/vnd.holoviews_exec.v0+json": {
       "id": "9817"
      }
     },
     "output_type": "execute_result"
    }
   ],
   "source": [
    "spendPcaDf_pred.hvplot.scatter(\n",
    "    x=\"PCA1\",\n",
    "    y=\"PCA2\",\n",
    "    s = 'Average Change',\n",
    "    scale = 5,\n",
    "    by=\"Clusters\",\n",
    "    hover_cols=['City']\n",
    "\n",
    ")\n"
   ]
  },
  {
   "cell_type": "code",
   "execution_count": 122,
   "metadata": {},
   "outputs": [
    {
     "data": {
      "application/vnd.plotly.v1+json": {
       "config": {
        "plotlyServerURL": "https://plot.ly"
       },
       "data": [
        {
         "hovertemplate": "<b>%{hovertext}</b><br><br>PCA1=%{x}<br>PCA2=%{y}<br>PCA3=%{z}<br>Average Change=%{marker.size}<br>Clusters=%{marker.color}<extra></extra>",
         "hovertext": [
          "Chicago",
          "Detroit",
          "Minneapolis-St.Paul",
          "New York",
          "Philadelphia",
          "Washington, D.C.",
          "Baltimore",
          "Atlanta",
          "Miami",
          "Dallas-Fort Worth",
          "Houston",
          "Los Angeles",
          "San Francisco",
          "San Diego",
          "Seattle",
          "Phoenix"
         ],
         "legendgroup": "",
         "marker": {
          "color": [
           0,
           2,
           0,
           2,
           2,
           0,
           2,
           2,
           2,
           1,
           1,
           2,
           0,
           0,
           0,
           1
          ],
          "coloraxis": "coloraxis",
          "size": [
           2.898335712719181,
           2.0237933688584353,
           3.1270478911032606,
           3.0089587377816094,
           3.3264326514526226,
           4.704411282603245,
           5.453194623261933,
           4.961806475376079,
           2.6042128701568896,
           2.155333261927725,
           1.2189614174169454,
           2.3212387672451347,
           4.6757017260796685,
           3.9058913463857703,
           3.5124032663895286,
           1.9044566961762506
          ],
          "sizemode": "area",
          "sizeref": 0.013632986558154831,
          "symbol": "circle"
         },
         "mode": "markers",
         "name": "",
         "scene": "scene",
         "showlegend": false,
         "type": "scatter3d",
         "x": [
          322.76663332180794,
          -302.43933842755456,
          413.07641778659666,
          369.4368316530746,
          148.97914759196482,
          973.283088185138,
          -205.64768927085623,
          -544.6615457922526,
          -1080.4389643804209,
          -1469.0084725117847,
          -1671.4059409761533,
          -91.73886818178948,
          1658.8705652125163,
          814.5619715741059,
          1680.393380397792,
          -1016.0272161821828
         ],
         "y": [
          253.55064890591743,
          221.62100354017542,
          761.7811637660344,
          -1007.2855012490763,
          -138.09458782452208,
          -86.21198994294873,
          -219.8161077541836,
          -768.7294783945247,
          -1100.0957519988285,
          337.925860618853,
          645.9521508026082,
          -258.0194008159356,
          -841.7003045678497,
          199.53271873567587,
          1228.4465551799092,
          771.1430209986968
         ],
         "z": [
          -388.69143498793255,
          -391.62121038343884,
          20.110776097140004,
          -353.57680754761185,
          386.43354041917956,
          -35.41332450122538,
          440.19007060282297,
          1027.6681243862322,
          -150.20434713991608,
          -168.45119557392766,
          -38.08253839634654,
          -597.7874177154264,
          -523.3718804525084,
          955.2430319266571,
          49.317788697841515,
          -231.76317543154
         ]
        }
       ],
       "layout": {
        "coloraxis": {
         "colorbar": {
          "title": {
           "text": "Clusters"
          }
         },
         "colorscale": [
          [
           0,
           "rgb(150,0,90)"
          ],
          [
           0.125,
           "rgb(0,0,200)"
          ],
          [
           0.25,
           "rgb(0,25,255)"
          ],
          [
           0.375,
           "rgb(0,152,255)"
          ],
          [
           0.5,
           "rgb(44,255,150)"
          ],
          [
           0.625,
           "rgb(151,255,0)"
          ],
          [
           0.75,
           "rgb(255,234,0)"
          ],
          [
           0.875,
           "rgb(255,111,0)"
          ],
          [
           1,
           "rgb(255,0,0)"
          ]
         ]
        },
        "legend": {
         "itemsizing": "constant",
         "tracegroupgap": 0
        },
        "margin": {
         "t": 60
        },
        "scene": {
         "domain": {
          "x": [
           0,
           1
          ],
          "y": [
           0,
           1
          ]
         },
         "xaxis": {
          "title": {
           "text": "PCA1"
          }
         },
         "yaxis": {
          "title": {
           "text": "PCA2"
          }
         },
         "zaxis": {
          "title": {
           "text": "PCA3"
          }
         }
        },
        "template": {
         "data": {
          "bar": [
           {
            "error_x": {
             "color": "#2a3f5f"
            },
            "error_y": {
             "color": "#2a3f5f"
            },
            "marker": {
             "line": {
              "color": "#E5ECF6",
              "width": 0.5
             },
             "pattern": {
              "fillmode": "overlay",
              "size": 10,
              "solidity": 0.2
             }
            },
            "type": "bar"
           }
          ],
          "barpolar": [
           {
            "marker": {
             "line": {
              "color": "#E5ECF6",
              "width": 0.5
             },
             "pattern": {
              "fillmode": "overlay",
              "size": 10,
              "solidity": 0.2
             }
            },
            "type": "barpolar"
           }
          ],
          "carpet": [
           {
            "aaxis": {
             "endlinecolor": "#2a3f5f",
             "gridcolor": "white",
             "linecolor": "white",
             "minorgridcolor": "white",
             "startlinecolor": "#2a3f5f"
            },
            "baxis": {
             "endlinecolor": "#2a3f5f",
             "gridcolor": "white",
             "linecolor": "white",
             "minorgridcolor": "white",
             "startlinecolor": "#2a3f5f"
            },
            "type": "carpet"
           }
          ],
          "choropleth": [
           {
            "colorbar": {
             "outlinewidth": 0,
             "ticks": ""
            },
            "type": "choropleth"
           }
          ],
          "contour": [
           {
            "colorbar": {
             "outlinewidth": 0,
             "ticks": ""
            },
            "colorscale": [
             [
              0,
              "#0d0887"
             ],
             [
              0.1111111111111111,
              "#46039f"
             ],
             [
              0.2222222222222222,
              "#7201a8"
             ],
             [
              0.3333333333333333,
              "#9c179e"
             ],
             [
              0.4444444444444444,
              "#bd3786"
             ],
             [
              0.5555555555555556,
              "#d8576b"
             ],
             [
              0.6666666666666666,
              "#ed7953"
             ],
             [
              0.7777777777777778,
              "#fb9f3a"
             ],
             [
              0.8888888888888888,
              "#fdca26"
             ],
             [
              1,
              "#f0f921"
             ]
            ],
            "type": "contour"
           }
          ],
          "contourcarpet": [
           {
            "colorbar": {
             "outlinewidth": 0,
             "ticks": ""
            },
            "type": "contourcarpet"
           }
          ],
          "heatmap": [
           {
            "colorbar": {
             "outlinewidth": 0,
             "ticks": ""
            },
            "colorscale": [
             [
              0,
              "#0d0887"
             ],
             [
              0.1111111111111111,
              "#46039f"
             ],
             [
              0.2222222222222222,
              "#7201a8"
             ],
             [
              0.3333333333333333,
              "#9c179e"
             ],
             [
              0.4444444444444444,
              "#bd3786"
             ],
             [
              0.5555555555555556,
              "#d8576b"
             ],
             [
              0.6666666666666666,
              "#ed7953"
             ],
             [
              0.7777777777777778,
              "#fb9f3a"
             ],
             [
              0.8888888888888888,
              "#fdca26"
             ],
             [
              1,
              "#f0f921"
             ]
            ],
            "type": "heatmap"
           }
          ],
          "heatmapgl": [
           {
            "colorbar": {
             "outlinewidth": 0,
             "ticks": ""
            },
            "colorscale": [
             [
              0,
              "#0d0887"
             ],
             [
              0.1111111111111111,
              "#46039f"
             ],
             [
              0.2222222222222222,
              "#7201a8"
             ],
             [
              0.3333333333333333,
              "#9c179e"
             ],
             [
              0.4444444444444444,
              "#bd3786"
             ],
             [
              0.5555555555555556,
              "#d8576b"
             ],
             [
              0.6666666666666666,
              "#ed7953"
             ],
             [
              0.7777777777777778,
              "#fb9f3a"
             ],
             [
              0.8888888888888888,
              "#fdca26"
             ],
             [
              1,
              "#f0f921"
             ]
            ],
            "type": "heatmapgl"
           }
          ],
          "histogram": [
           {
            "marker": {
             "pattern": {
              "fillmode": "overlay",
              "size": 10,
              "solidity": 0.2
             }
            },
            "type": "histogram"
           }
          ],
          "histogram2d": [
           {
            "colorbar": {
             "outlinewidth": 0,
             "ticks": ""
            },
            "colorscale": [
             [
              0,
              "#0d0887"
             ],
             [
              0.1111111111111111,
              "#46039f"
             ],
             [
              0.2222222222222222,
              "#7201a8"
             ],
             [
              0.3333333333333333,
              "#9c179e"
             ],
             [
              0.4444444444444444,
              "#bd3786"
             ],
             [
              0.5555555555555556,
              "#d8576b"
             ],
             [
              0.6666666666666666,
              "#ed7953"
             ],
             [
              0.7777777777777778,
              "#fb9f3a"
             ],
             [
              0.8888888888888888,
              "#fdca26"
             ],
             [
              1,
              "#f0f921"
             ]
            ],
            "type": "histogram2d"
           }
          ],
          "histogram2dcontour": [
           {
            "colorbar": {
             "outlinewidth": 0,
             "ticks": ""
            },
            "colorscale": [
             [
              0,
              "#0d0887"
             ],
             [
              0.1111111111111111,
              "#46039f"
             ],
             [
              0.2222222222222222,
              "#7201a8"
             ],
             [
              0.3333333333333333,
              "#9c179e"
             ],
             [
              0.4444444444444444,
              "#bd3786"
             ],
             [
              0.5555555555555556,
              "#d8576b"
             ],
             [
              0.6666666666666666,
              "#ed7953"
             ],
             [
              0.7777777777777778,
              "#fb9f3a"
             ],
             [
              0.8888888888888888,
              "#fdca26"
             ],
             [
              1,
              "#f0f921"
             ]
            ],
            "type": "histogram2dcontour"
           }
          ],
          "mesh3d": [
           {
            "colorbar": {
             "outlinewidth": 0,
             "ticks": ""
            },
            "type": "mesh3d"
           }
          ],
          "parcoords": [
           {
            "line": {
             "colorbar": {
              "outlinewidth": 0,
              "ticks": ""
             }
            },
            "type": "parcoords"
           }
          ],
          "pie": [
           {
            "automargin": true,
            "type": "pie"
           }
          ],
          "scatter": [
           {
            "fillpattern": {
             "fillmode": "overlay",
             "size": 10,
             "solidity": 0.2
            },
            "type": "scatter"
           }
          ],
          "scatter3d": [
           {
            "line": {
             "colorbar": {
              "outlinewidth": 0,
              "ticks": ""
             }
            },
            "marker": {
             "colorbar": {
              "outlinewidth": 0,
              "ticks": ""
             }
            },
            "type": "scatter3d"
           }
          ],
          "scattercarpet": [
           {
            "marker": {
             "colorbar": {
              "outlinewidth": 0,
              "ticks": ""
             }
            },
            "type": "scattercarpet"
           }
          ],
          "scattergeo": [
           {
            "marker": {
             "colorbar": {
              "outlinewidth": 0,
              "ticks": ""
             }
            },
            "type": "scattergeo"
           }
          ],
          "scattergl": [
           {
            "marker": {
             "colorbar": {
              "outlinewidth": 0,
              "ticks": ""
             }
            },
            "type": "scattergl"
           }
          ],
          "scattermapbox": [
           {
            "marker": {
             "colorbar": {
              "outlinewidth": 0,
              "ticks": ""
             }
            },
            "type": "scattermapbox"
           }
          ],
          "scatterpolar": [
           {
            "marker": {
             "colorbar": {
              "outlinewidth": 0,
              "ticks": ""
             }
            },
            "type": "scatterpolar"
           }
          ],
          "scatterpolargl": [
           {
            "marker": {
             "colorbar": {
              "outlinewidth": 0,
              "ticks": ""
             }
            },
            "type": "scatterpolargl"
           }
          ],
          "scatterternary": [
           {
            "marker": {
             "colorbar": {
              "outlinewidth": 0,
              "ticks": ""
             }
            },
            "type": "scatterternary"
           }
          ],
          "surface": [
           {
            "colorbar": {
             "outlinewidth": 0,
             "ticks": ""
            },
            "colorscale": [
             [
              0,
              "#0d0887"
             ],
             [
              0.1111111111111111,
              "#46039f"
             ],
             [
              0.2222222222222222,
              "#7201a8"
             ],
             [
              0.3333333333333333,
              "#9c179e"
             ],
             [
              0.4444444444444444,
              "#bd3786"
             ],
             [
              0.5555555555555556,
              "#d8576b"
             ],
             [
              0.6666666666666666,
              "#ed7953"
             ],
             [
              0.7777777777777778,
              "#fb9f3a"
             ],
             [
              0.8888888888888888,
              "#fdca26"
             ],
             [
              1,
              "#f0f921"
             ]
            ],
            "type": "surface"
           }
          ],
          "table": [
           {
            "cells": {
             "fill": {
              "color": "#EBF0F8"
             },
             "line": {
              "color": "white"
             }
            },
            "header": {
             "fill": {
              "color": "#C8D4E3"
             },
             "line": {
              "color": "white"
             }
            },
            "type": "table"
           }
          ]
         },
         "layout": {
          "annotationdefaults": {
           "arrowcolor": "#2a3f5f",
           "arrowhead": 0,
           "arrowwidth": 1
          },
          "autotypenumbers": "strict",
          "coloraxis": {
           "colorbar": {
            "outlinewidth": 0,
            "ticks": ""
           }
          },
          "colorscale": {
           "diverging": [
            [
             0,
             "#8e0152"
            ],
            [
             0.1,
             "#c51b7d"
            ],
            [
             0.2,
             "#de77ae"
            ],
            [
             0.3,
             "#f1b6da"
            ],
            [
             0.4,
             "#fde0ef"
            ],
            [
             0.5,
             "#f7f7f7"
            ],
            [
             0.6,
             "#e6f5d0"
            ],
            [
             0.7,
             "#b8e186"
            ],
            [
             0.8,
             "#7fbc41"
            ],
            [
             0.9,
             "#4d9221"
            ],
            [
             1,
             "#276419"
            ]
           ],
           "sequential": [
            [
             0,
             "#0d0887"
            ],
            [
             0.1111111111111111,
             "#46039f"
            ],
            [
             0.2222222222222222,
             "#7201a8"
            ],
            [
             0.3333333333333333,
             "#9c179e"
            ],
            [
             0.4444444444444444,
             "#bd3786"
            ],
            [
             0.5555555555555556,
             "#d8576b"
            ],
            [
             0.6666666666666666,
             "#ed7953"
            ],
            [
             0.7777777777777778,
             "#fb9f3a"
            ],
            [
             0.8888888888888888,
             "#fdca26"
            ],
            [
             1,
             "#f0f921"
            ]
           ],
           "sequentialminus": [
            [
             0,
             "#0d0887"
            ],
            [
             0.1111111111111111,
             "#46039f"
            ],
            [
             0.2222222222222222,
             "#7201a8"
            ],
            [
             0.3333333333333333,
             "#9c179e"
            ],
            [
             0.4444444444444444,
             "#bd3786"
            ],
            [
             0.5555555555555556,
             "#d8576b"
            ],
            [
             0.6666666666666666,
             "#ed7953"
            ],
            [
             0.7777777777777778,
             "#fb9f3a"
            ],
            [
             0.8888888888888888,
             "#fdca26"
            ],
            [
             1,
             "#f0f921"
            ]
           ]
          },
          "colorway": [
           "#636efa",
           "#EF553B",
           "#00cc96",
           "#ab63fa",
           "#FFA15A",
           "#19d3f3",
           "#FF6692",
           "#B6E880",
           "#FF97FF",
           "#FECB52"
          ],
          "font": {
           "color": "#2a3f5f"
          },
          "geo": {
           "bgcolor": "white",
           "lakecolor": "white",
           "landcolor": "#E5ECF6",
           "showlakes": true,
           "showland": true,
           "subunitcolor": "white"
          },
          "hoverlabel": {
           "align": "left"
          },
          "hovermode": "closest",
          "mapbox": {
           "style": "light"
          },
          "paper_bgcolor": "white",
          "plot_bgcolor": "#E5ECF6",
          "polar": {
           "angularaxis": {
            "gridcolor": "white",
            "linecolor": "white",
            "ticks": ""
           },
           "bgcolor": "#E5ECF6",
           "radialaxis": {
            "gridcolor": "white",
            "linecolor": "white",
            "ticks": ""
           }
          },
          "scene": {
           "xaxis": {
            "backgroundcolor": "#E5ECF6",
            "gridcolor": "white",
            "gridwidth": 2,
            "linecolor": "white",
            "showbackground": true,
            "ticks": "",
            "zerolinecolor": "white"
           },
           "yaxis": {
            "backgroundcolor": "#E5ECF6",
            "gridcolor": "white",
            "gridwidth": 2,
            "linecolor": "white",
            "showbackground": true,
            "ticks": "",
            "zerolinecolor": "white"
           },
           "zaxis": {
            "backgroundcolor": "#E5ECF6",
            "gridcolor": "white",
            "gridwidth": 2,
            "linecolor": "white",
            "showbackground": true,
            "ticks": "",
            "zerolinecolor": "white"
           }
          },
          "shapedefaults": {
           "line": {
            "color": "#2a3f5f"
           }
          },
          "ternary": {
           "aaxis": {
            "gridcolor": "white",
            "linecolor": "white",
            "ticks": ""
           },
           "baxis": {
            "gridcolor": "white",
            "linecolor": "white",
            "ticks": ""
           },
           "bgcolor": "#E5ECF6",
           "caxis": {
            "gridcolor": "white",
            "linecolor": "white",
            "ticks": ""
           }
          },
          "title": {
           "x": 0.05
          },
          "xaxis": {
           "automargin": true,
           "gridcolor": "white",
           "linecolor": "white",
           "ticks": "",
           "title": {
            "standoff": 15
           },
           "zerolinecolor": "white",
           "zerolinewidth": 2
          },
          "yaxis": {
           "automargin": true,
           "gridcolor": "white",
           "linecolor": "white",
           "ticks": "",
           "title": {
            "standoff": 15
           },
           "zerolinecolor": "white",
           "zerolinewidth": 2
          }
         }
        }
       }
      }
     },
     "metadata": {},
     "output_type": "display_data"
    }
   ],
   "source": [
    "import plotly.express as px\n",
    "\n",
    "pcaPriceDfPredictionsPlot = spendPcaDf_pred.reset_index()\n",
    "# fig = px.scatter_3d(spendPcaDf_pred, x=\"Cereals and bakery products Average Change\", y=\"Fruits and vegetables Average Change\", z=\"Meats, poultry, fish, and eggs Average Change\",size = 'Average Change',\n",
    "#                     color='customer_segments',color_continuous_scale= px.colors.sequential.Rainbow,hover_name='City')\n",
    "fig = px.scatter_3d(spendPcaDf_pred, x=\"PCA1\", y=\"PCA2\", z=\"PCA3\",size = 'Average Change',\n",
    "                    color='Clusters',color_continuous_scale= px.colors.sequential.Rainbow,hover_name='City')\n",
    "\n",
    "fig.show()"
   ]
  },
  {
   "cell_type": "markdown",
   "metadata": {},
   "source": [
    "## Exploration of data (Ignore)"
   ]
  },
  {
   "cell_type": "code",
   "execution_count": 123,
   "metadata": {},
   "outputs": [
    {
     "data": {
      "text/html": [
       "<div>\n",
       "<style scoped>\n",
       "    .dataframe tbody tr th:only-of-type {\n",
       "        vertical-align: middle;\n",
       "    }\n",
       "\n",
       "    .dataframe tbody tr th {\n",
       "        vertical-align: top;\n",
       "    }\n",
       "\n",
       "    .dataframe thead th {\n",
       "        text-align: right;\n",
       "    }\n",
       "</style>\n",
       "<table border=\"1\" class=\"dataframe\">\n",
       "  <thead>\n",
       "    <tr style=\"text-align: right;\">\n",
       "      <th></th>\n",
       "      <th>Year</th>\n",
       "      <th>Cereals and bakery products Chicago</th>\n",
       "      <th>Meats, poultry, fish, and eggs Chicago</th>\n",
       "      <th>Dairy products Chicago</th>\n",
       "      <th>Fruits and vegetables Chicago</th>\n",
       "      <th>Other food at home Chicago</th>\n",
       "      <th>Cereals and bakery products Detroit</th>\n",
       "      <th>Meats, poultry, fish, and eggs Detroit</th>\n",
       "      <th>Dairy products Detroit</th>\n",
       "      <th>Fruits and vegetables Detroit</th>\n",
       "      <th>...</th>\n",
       "      <th>Cereals and bakery products Phoenix</th>\n",
       "      <th>Meats, poultry, fish, and eggs Phoenix</th>\n",
       "      <th>Dairy products Phoenix</th>\n",
       "      <th>Fruits and vegetables Phoenix</th>\n",
       "      <th>Other food at home Phoenix</th>\n",
       "      <th>Cereals-and-bakery-products</th>\n",
       "      <th>Meats,-poultry,-fish,-and-eggs</th>\n",
       "      <th>Dairy-products</th>\n",
       "      <th>Fruits-and-vegetables</th>\n",
       "      <th>Other-food-at-home</th>\n",
       "    </tr>\n",
       "  </thead>\n",
       "  <tbody>\n",
       "    <tr>\n",
       "      <th>0</th>\n",
       "      <td>2005</td>\n",
       "      <td>473</td>\n",
       "      <td>815</td>\n",
       "      <td>365</td>\n",
       "      <td>609</td>\n",
       "      <td>1192</td>\n",
       "      <td>545</td>\n",
       "      <td>1047</td>\n",
       "      <td>405</td>\n",
       "      <td>635</td>\n",
       "      <td>...</td>\n",
       "      <td>470</td>\n",
       "      <td>859</td>\n",
       "      <td>415</td>\n",
       "      <td>632</td>\n",
       "      <td>1222</td>\n",
       "      <td>208.950000</td>\n",
       "      <td>184.741667</td>\n",
       "      <td>182.383333</td>\n",
       "      <td>241.391667</td>\n",
       "      <td>166.958333</td>\n",
       "    </tr>\n",
       "    <tr>\n",
       "      <th>1</th>\n",
       "      <td>2006</td>\n",
       "      <td>491</td>\n",
       "      <td>879</td>\n",
       "      <td>381</td>\n",
       "      <td>664</td>\n",
       "      <td>1315</td>\n",
       "      <td>527</td>\n",
       "      <td>931</td>\n",
       "      <td>416</td>\n",
       "      <td>638</td>\n",
       "      <td>...</td>\n",
       "      <td>482</td>\n",
       "      <td>894</td>\n",
       "      <td>433</td>\n",
       "      <td>672</td>\n",
       "      <td>1342</td>\n",
       "      <td>212.841667</td>\n",
       "      <td>186.550000</td>\n",
       "      <td>181.358333</td>\n",
       "      <td>252.925000</td>\n",
       "      <td>169.633333</td>\n",
       "    </tr>\n",
       "    <tr>\n",
       "      <th>2</th>\n",
       "      <td>2007</td>\n",
       "      <td>537</td>\n",
       "      <td>932</td>\n",
       "      <td>406</td>\n",
       "      <td>713</td>\n",
       "      <td>1457</td>\n",
       "      <td>579</td>\n",
       "      <td>871</td>\n",
       "      <td>420</td>\n",
       "      <td>635</td>\n",
       "      <td>...</td>\n",
       "      <td>508</td>\n",
       "      <td>873</td>\n",
       "      <td>445</td>\n",
       "      <td>676</td>\n",
       "      <td>1542</td>\n",
       "      <td>222.106917</td>\n",
       "      <td>195.616333</td>\n",
       "      <td>194.769500</td>\n",
       "      <td>262.628000</td>\n",
       "      <td>173.275167</td>\n",
       "    </tr>\n",
       "    <tr>\n",
       "      <th>3</th>\n",
       "      <td>2008</td>\n",
       "      <td>561</td>\n",
       "      <td>919</td>\n",
       "      <td>419</td>\n",
       "      <td>724</td>\n",
       "      <td>1476</td>\n",
       "      <td>628</td>\n",
       "      <td>868</td>\n",
       "      <td>456</td>\n",
       "      <td>677</td>\n",
       "      <td>...</td>\n",
       "      <td>496</td>\n",
       "      <td>741</td>\n",
       "      <td>406</td>\n",
       "      <td>607</td>\n",
       "      <td>1465</td>\n",
       "      <td>244.853167</td>\n",
       "      <td>204.653333</td>\n",
       "      <td>210.396000</td>\n",
       "      <td>278.932417</td>\n",
       "      <td>184.165667</td>\n",
       "    </tr>\n",
       "    <tr>\n",
       "      <th>4</th>\n",
       "      <td>2009</td>\n",
       "      <td>584</td>\n",
       "      <td>960</td>\n",
       "      <td>434</td>\n",
       "      <td>766</td>\n",
       "      <td>1506</td>\n",
       "      <td>540</td>\n",
       "      <td>849</td>\n",
       "      <td>435</td>\n",
       "      <td>670</td>\n",
       "      <td>...</td>\n",
       "      <td>464</td>\n",
       "      <td>800</td>\n",
       "      <td>362</td>\n",
       "      <td>608</td>\n",
       "      <td>1363</td>\n",
       "      <td>252.567083</td>\n",
       "      <td>203.804750</td>\n",
       "      <td>197.012500</td>\n",
       "      <td>272.944833</td>\n",
       "      <td>191.219667</td>\n",
       "    </tr>\n",
       "  </tbody>\n",
       "</table>\n",
       "<p>5 rows × 86 columns</p>\n",
       "</div>"
      ],
      "text/plain": [
       "   Year  Cereals and bakery products Chicago  \\\n",
       "0  2005                                  473   \n",
       "1  2006                                  491   \n",
       "2  2007                                  537   \n",
       "3  2008                                  561   \n",
       "4  2009                                  584   \n",
       "\n",
       "   Meats, poultry, fish, and eggs Chicago  Dairy products Chicago  \\\n",
       "0                                     815                     365   \n",
       "1                                     879                     381   \n",
       "2                                     932                     406   \n",
       "3                                     919                     419   \n",
       "4                                     960                     434   \n",
       "\n",
       "   Fruits and vegetables Chicago  Other food at home Chicago  \\\n",
       "0                            609                        1192   \n",
       "1                            664                        1315   \n",
       "2                            713                        1457   \n",
       "3                            724                        1476   \n",
       "4                            766                        1506   \n",
       "\n",
       "   Cereals and bakery products Detroit  \\\n",
       "0                                  545   \n",
       "1                                  527   \n",
       "2                                  579   \n",
       "3                                  628   \n",
       "4                                  540   \n",
       "\n",
       "   Meats, poultry, fish, and eggs Detroit  Dairy products Detroit  \\\n",
       "0                                    1047                     405   \n",
       "1                                     931                     416   \n",
       "2                                     871                     420   \n",
       "3                                     868                     456   \n",
       "4                                     849                     435   \n",
       "\n",
       "   Fruits and vegetables Detroit  ...  Cereals and bakery products Phoenix  \\\n",
       "0                            635  ...                                  470   \n",
       "1                            638  ...                                  482   \n",
       "2                            635  ...                                  508   \n",
       "3                            677  ...                                  496   \n",
       "4                            670  ...                                  464   \n",
       "\n",
       "   Meats, poultry, fish, and eggs Phoenix  Dairy products Phoenix  \\\n",
       "0                                     859                     415   \n",
       "1                                     894                     433   \n",
       "2                                     873                     445   \n",
       "3                                     741                     406   \n",
       "4                                     800                     362   \n",
       "\n",
       "   Fruits and vegetables Phoenix  Other food at home Phoenix  \\\n",
       "0                            632                        1222   \n",
       "1                            672                        1342   \n",
       "2                            676                        1542   \n",
       "3                            607                        1465   \n",
       "4                            608                        1363   \n",
       "\n",
       "   Cereals-and-bakery-products  Meats,-poultry,-fish,-and-eggs  \\\n",
       "0                   208.950000                      184.741667   \n",
       "1                   212.841667                      186.550000   \n",
       "2                   222.106917                      195.616333   \n",
       "3                   244.853167                      204.653333   \n",
       "4                   252.567083                      203.804750   \n",
       "\n",
       "   Dairy-products  Fruits-and-vegetables  Other-food-at-home  \n",
       "0      182.383333             241.391667          166.958333  \n",
       "1      181.358333             252.925000          169.633333  \n",
       "2      194.769500             262.628000          173.275167  \n",
       "3      210.396000             278.932417          184.165667  \n",
       "4      197.012500             272.944833          191.219667  \n",
       "\n",
       "[5 rows x 86 columns]"
      ]
     },
     "execution_count": 123,
     "metadata": {},
     "output_type": "execute_result"
    }
   ],
   "source": [
    "cpiDf = pd.read_csv(\n",
    "    Path(\"resources/foodPrice.csv\")\n",
    ")\n",
    "\n",
    "cpiDf.head()\n",
    "cpiDf.rename({'Dairy-and-related-products': 'Dairy-products'},axis='columns',inplace = True)\n",
    "cats = cpiDf.columns.to_list()\n",
    "cats = [i.replace('-',' ') for i in cats if i != 'Date']\n",
    "cpiDf['Date'] = pd.to_datetime(cpiDf['Date'])\n",
    "\n",
    "\n",
    "\n",
    "fin = pd.DataFrame()\n",
    "for year in np.arange(2005,2022+1):\n",
    "    spendDf = pd.read_csv(Path(f\"resources/spending_{year}.csv\"),index_col = 'Item')\n",
    "    spendDf.drop(columns='Year',inplace=True,errors='ignore')\n",
    "    spendDf = spendDf.loc[cats].T\n",
    "    flatDf = {}\n",
    "    for city in spendDf.index:\n",
    "        for cat in spendDf.columns:\n",
    "            flatDf[f'{cat} {city}'] = spendDf.loc[city,cat]\n",
    "    flatDf = pd.DataFrame([flatDf])\n",
    "    flatDf['Year'] = year\n",
    "\n",
    "    fin = pd.concat([fin,flatDf],axis=0,ignore_index=True)\n",
    "\n",
    "fin.dropna(axis='columns',inplace=True)\n",
    "fin.set_index('Year',inplace=True)\n",
    "\n",
    "\n",
    "grpCpi = cpiDf.groupby(cpiDf.Date.dt.year).mean()\n",
    "\n",
    "\n",
    "yrAvgDf = pd.merge(fin,grpCpi,left_index=True,right_index=True,how='left')\n",
    "yrAvgDf.reset_index(inplace=True)\n",
    "yrAvgDf.head()"
   ]
  },
  {
   "cell_type": "code",
   "execution_count": null,
   "metadata": {},
   "outputs": [],
   "source": []
  }
 ],
 "metadata": {
  "kernelspec": {
   "display_name": "bootcamp",
   "language": "python",
   "name": "python3"
  },
  "language_info": {
   "codemirror_mode": {
    "name": "ipython",
    "version": 3
   },
   "file_extension": ".py",
   "mimetype": "text/x-python",
   "name": "python",
   "nbconvert_exporter": "python",
   "pygments_lexer": "ipython3",
   "version": "3.10.12"
  }
 },
 "nbformat": 4,
 "nbformat_minor": 2
}
