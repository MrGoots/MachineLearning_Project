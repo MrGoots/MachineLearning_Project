{
 "cells": [
  {
   "cell_type": "code",
   "execution_count": 121,
   "metadata": {},
   "outputs": [],
   "source": [
    "# Required imports\n",
    "import os\n",
    "import numpy as np\n",
    "import pandas as pd\n",
    "import hvplot.pandas\n",
    "from pathlib import Path\n",
    "from sklearn.cluster import KMeans\n",
    "from sklearn.preprocessing import StandardScaler, OneHotEncoder"
   ]
  },
  {
   "cell_type": "code",
   "execution_count": 122,
   "metadata": {},
   "outputs": [
    {
     "data": {
      "text/html": [
       "<div>\n",
       "<style scoped>\n",
       "    .dataframe tbody tr th:only-of-type {\n",
       "        vertical-align: middle;\n",
       "    }\n",
       "\n",
       "    .dataframe tbody tr th {\n",
       "        vertical-align: top;\n",
       "    }\n",
       "\n",
       "    .dataframe thead th {\n",
       "        text-align: right;\n",
       "    }\n",
       "</style>\n",
       "<table border=\"1\" class=\"dataframe\">\n",
       "  <thead>\n",
       "    <tr style=\"text-align: right;\">\n",
       "      <th></th>\n",
       "      <th>Cereals-and-bakery-products</th>\n",
       "      <th>Meats,-poultry,-fish,-and-eggs</th>\n",
       "      <th>Dairy-and-related-products</th>\n",
       "      <th>Fruits-and-vegetables</th>\n",
       "      <th>Other-food-at-home</th>\n",
       "      <th>Date</th>\n",
       "    </tr>\n",
       "  </thead>\n",
       "  <tbody>\n",
       "    <tr>\n",
       "      <th>0</th>\n",
       "      <td>79.7</td>\n",
       "      <td>90.4</td>\n",
       "      <td>87.3</td>\n",
       "      <td>76.5</td>\n",
       "      <td>83.0</td>\n",
       "      <td>1980-01-01</td>\n",
       "    </tr>\n",
       "    <tr>\n",
       "      <th>1</th>\n",
       "      <td>80.6</td>\n",
       "      <td>89.7</td>\n",
       "      <td>87.8</td>\n",
       "      <td>76.0</td>\n",
       "      <td>84.3</td>\n",
       "      <td>1980-02-01</td>\n",
       "    </tr>\n",
       "    <tr>\n",
       "      <th>2</th>\n",
       "      <td>81.2</td>\n",
       "      <td>90.3</td>\n",
       "      <td>88.1</td>\n",
       "      <td>77.4</td>\n",
       "      <td>85.5</td>\n",
       "      <td>1980-03-01</td>\n",
       "    </tr>\n",
       "    <tr>\n",
       "      <th>3</th>\n",
       "      <td>82.4</td>\n",
       "      <td>89.3</td>\n",
       "      <td>88.9</td>\n",
       "      <td>80.2</td>\n",
       "      <td>86.4</td>\n",
       "      <td>1980-04-01</td>\n",
       "    </tr>\n",
       "    <tr>\n",
       "      <th>4</th>\n",
       "      <td>83.2</td>\n",
       "      <td>88.0</td>\n",
       "      <td>90.5</td>\n",
       "      <td>82.1</td>\n",
       "      <td>87.3</td>\n",
       "      <td>1980-05-01</td>\n",
       "    </tr>\n",
       "  </tbody>\n",
       "</table>\n",
       "</div>"
      ],
      "text/plain": [
       "   Cereals-and-bakery-products  Meats,-poultry,-fish,-and-eggs  \\\n",
       "0                         79.7                            90.4   \n",
       "1                         80.6                            89.7   \n",
       "2                         81.2                            90.3   \n",
       "3                         82.4                            89.3   \n",
       "4                         83.2                            88.0   \n",
       "\n",
       "   Dairy-and-related-products  Fruits-and-vegetables  Other-food-at-home  \\\n",
       "0                        87.3                   76.5                83.0   \n",
       "1                        87.8                   76.0                84.3   \n",
       "2                        88.1                   77.4                85.5   \n",
       "3                        88.9                   80.2                86.4   \n",
       "4                        90.5                   82.1                87.3   \n",
       "\n",
       "         Date  \n",
       "0  1980-01-01  \n",
       "1  1980-02-01  \n",
       "2  1980-03-01  \n",
       "3  1980-04-01  \n",
       "4  1980-05-01  "
      ]
     },
     "execution_count": 122,
     "metadata": {},
     "output_type": "execute_result"
    }
   ],
   "source": [
    "cpiDf = pd.read_csv(\n",
    "    Path(\"resources/foodPrice.csv\")\n",
    ")\n",
    "\n",
    "cpiDf.head()"
   ]
  },
  {
   "cell_type": "code",
   "execution_count": 123,
   "metadata": {},
   "outputs": [],
   "source": [
    "cpiDf.rename({'Dairy-and-related-products': 'Dairy-products'},axis='columns',inplace = True)\n",
    "cats = cpiDf.columns.to_list()\n",
    "cats = [i.replace('-',' ') for i in cats if i != 'Date']"
   ]
  },
  {
   "cell_type": "code",
   "execution_count": 129,
   "metadata": {},
   "outputs": [
    {
     "data": {
      "text/html": [
       "<div>\n",
       "<style scoped>\n",
       "    .dataframe tbody tr th:only-of-type {\n",
       "        vertical-align: middle;\n",
       "    }\n",
       "\n",
       "    .dataframe tbody tr th {\n",
       "        vertical-align: top;\n",
       "    }\n",
       "\n",
       "    .dataframe thead th {\n",
       "        text-align: right;\n",
       "    }\n",
       "</style>\n",
       "<table border=\"1\" class=\"dataframe\">\n",
       "  <thead>\n",
       "    <tr style=\"text-align: right;\">\n",
       "      <th></th>\n",
       "      <th>City</th>\n",
       "      <th>Cereals and bakery products (2005)</th>\n",
       "      <th>Cereals and bakery products (2006)</th>\n",
       "      <th>Cereals and bakery products (2007)</th>\n",
       "      <th>Cereals and bakery products (2008)</th>\n",
       "      <th>Cereals and bakery products (2009)</th>\n",
       "      <th>Cereals and bakery products (2010)</th>\n",
       "      <th>Cereals and bakery products (2011)</th>\n",
       "      <th>Cereals and bakery products (2012)</th>\n",
       "      <th>Cereals and bakery products (2013)</th>\n",
       "      <th>...</th>\n",
       "      <th>Other food at home (2013)</th>\n",
       "      <th>Other food at home (2014)</th>\n",
       "      <th>Other food at home (2015)</th>\n",
       "      <th>Other food at home (2016)</th>\n",
       "      <th>Other food at home (2017)</th>\n",
       "      <th>Other food at home (2018)</th>\n",
       "      <th>Other food at home (2019)</th>\n",
       "      <th>Other food at home (2020)</th>\n",
       "      <th>Other food at home (2021)</th>\n",
       "      <th>Other food at home (2022)</th>\n",
       "    </tr>\n",
       "  </thead>\n",
       "  <tbody>\n",
       "    <tr>\n",
       "      <th>0</th>\n",
       "      <td>Chicago</td>\n",
       "      <td>473.0</td>\n",
       "      <td>491.0</td>\n",
       "      <td>537.0</td>\n",
       "      <td>561.0</td>\n",
       "      <td>584.0</td>\n",
       "      <td>615.0</td>\n",
       "      <td>602.0</td>\n",
       "      <td>596.0</td>\n",
       "      <td>664.0</td>\n",
       "      <td>...</td>\n",
       "      <td>1598.0</td>\n",
       "      <td>1652.0</td>\n",
       "      <td>1578.0</td>\n",
       "      <td>1562.0</td>\n",
       "      <td>1595.0</td>\n",
       "      <td>1666.0</td>\n",
       "      <td>1777.0</td>\n",
       "      <td>2119.0</td>\n",
       "      <td>2174.0</td>\n",
       "      <td>2035.0</td>\n",
       "    </tr>\n",
       "    <tr>\n",
       "      <th>1</th>\n",
       "      <td>Detroit</td>\n",
       "      <td>545.0</td>\n",
       "      <td>527.0</td>\n",
       "      <td>579.0</td>\n",
       "      <td>628.0</td>\n",
       "      <td>540.0</td>\n",
       "      <td>546.0</td>\n",
       "      <td>573.0</td>\n",
       "      <td>583.0</td>\n",
       "      <td>618.0</td>\n",
       "      <td>...</td>\n",
       "      <td>1748.0</td>\n",
       "      <td>1691.0</td>\n",
       "      <td>1400.0</td>\n",
       "      <td>1422.0</td>\n",
       "      <td>1463.0</td>\n",
       "      <td>1626.0</td>\n",
       "      <td>1636.0</td>\n",
       "      <td>1762.0</td>\n",
       "      <td>1887.0</td>\n",
       "      <td>2051.0</td>\n",
       "    </tr>\n",
       "    <tr>\n",
       "      <th>2</th>\n",
       "      <td>Minneapolis-St.Paul</td>\n",
       "      <td>493.0</td>\n",
       "      <td>470.0</td>\n",
       "      <td>517.0</td>\n",
       "      <td>536.0</td>\n",
       "      <td>518.0</td>\n",
       "      <td>582.0</td>\n",
       "      <td>632.0</td>\n",
       "      <td>639.0</td>\n",
       "      <td>582.0</td>\n",
       "      <td>...</td>\n",
       "      <td>1608.0</td>\n",
       "      <td>1764.0</td>\n",
       "      <td>1792.0</td>\n",
       "      <td>1682.0</td>\n",
       "      <td>1743.0</td>\n",
       "      <td>1833.0</td>\n",
       "      <td>2126.0</td>\n",
       "      <td>2152.0</td>\n",
       "      <td>2001.0</td>\n",
       "      <td>2317.0</td>\n",
       "    </tr>\n",
       "    <tr>\n",
       "      <th>3</th>\n",
       "      <td>New York</td>\n",
       "      <td>568.0</td>\n",
       "      <td>533.0</td>\n",
       "      <td>528.0</td>\n",
       "      <td>535.0</td>\n",
       "      <td>558.0</td>\n",
       "      <td>565.0</td>\n",
       "      <td>597.0</td>\n",
       "      <td>601.0</td>\n",
       "      <td>590.0</td>\n",
       "      <td>...</td>\n",
       "      <td>1236.0</td>\n",
       "      <td>1283.0</td>\n",
       "      <td>1228.0</td>\n",
       "      <td>1191.0</td>\n",
       "      <td>1364.0</td>\n",
       "      <td>1500.0</td>\n",
       "      <td>1635.0</td>\n",
       "      <td>1807.0</td>\n",
       "      <td>1994.0</td>\n",
       "      <td>2163.0</td>\n",
       "    </tr>\n",
       "    <tr>\n",
       "      <th>4</th>\n",
       "      <td>Philadelphia</td>\n",
       "      <td>522.0</td>\n",
       "      <td>454.0</td>\n",
       "      <td>408.0</td>\n",
       "      <td>467.0</td>\n",
       "      <td>526.0</td>\n",
       "      <td>523.0</td>\n",
       "      <td>529.0</td>\n",
       "      <td>605.0</td>\n",
       "      <td>656.0</td>\n",
       "      <td>...</td>\n",
       "      <td>1433.0</td>\n",
       "      <td>1365.0</td>\n",
       "      <td>1305.0</td>\n",
       "      <td>1444.0</td>\n",
       "      <td>1637.0</td>\n",
       "      <td>1740.0</td>\n",
       "      <td>1701.0</td>\n",
       "      <td>1968.0</td>\n",
       "      <td>2230.0</td>\n",
       "      <td>2252.0</td>\n",
       "    </tr>\n",
       "  </tbody>\n",
       "</table>\n",
       "<p>5 rows × 91 columns</p>\n",
       "</div>"
      ],
      "text/plain": [
       "                  City  Cereals and bakery products (2005)  \\\n",
       "0              Chicago                               473.0   \n",
       "1              Detroit                               545.0   \n",
       "2  Minneapolis-St.Paul                               493.0   \n",
       "3             New York                               568.0   \n",
       "4         Philadelphia                               522.0   \n",
       "\n",
       "   Cereals and bakery products (2006)  Cereals and bakery products (2007)  \\\n",
       "0                               491.0                               537.0   \n",
       "1                               527.0                               579.0   \n",
       "2                               470.0                               517.0   \n",
       "3                               533.0                               528.0   \n",
       "4                               454.0                               408.0   \n",
       "\n",
       "   Cereals and bakery products (2008)  Cereals and bakery products (2009)  \\\n",
       "0                               561.0                               584.0   \n",
       "1                               628.0                               540.0   \n",
       "2                               536.0                               518.0   \n",
       "3                               535.0                               558.0   \n",
       "4                               467.0                               526.0   \n",
       "\n",
       "   Cereals and bakery products (2010)  Cereals and bakery products (2011)  \\\n",
       "0                               615.0                               602.0   \n",
       "1                               546.0                               573.0   \n",
       "2                               582.0                               632.0   \n",
       "3                               565.0                               597.0   \n",
       "4                               523.0                               529.0   \n",
       "\n",
       "   Cereals and bakery products (2012)  Cereals and bakery products (2013)  \\\n",
       "0                               596.0                               664.0   \n",
       "1                               583.0                               618.0   \n",
       "2                               639.0                               582.0   \n",
       "3                               601.0                               590.0   \n",
       "4                               605.0                               656.0   \n",
       "\n",
       "   ...  Other food at home (2013)  Other food at home (2014)  \\\n",
       "0  ...                     1598.0                     1652.0   \n",
       "1  ...                     1748.0                     1691.0   \n",
       "2  ...                     1608.0                     1764.0   \n",
       "3  ...                     1236.0                     1283.0   \n",
       "4  ...                     1433.0                     1365.0   \n",
       "\n",
       "   Other food at home (2015)  Other food at home (2016)  \\\n",
       "0                     1578.0                     1562.0   \n",
       "1                     1400.0                     1422.0   \n",
       "2                     1792.0                     1682.0   \n",
       "3                     1228.0                     1191.0   \n",
       "4                     1305.0                     1444.0   \n",
       "\n",
       "   Other food at home (2017)  Other food at home (2018)  \\\n",
       "0                     1595.0                     1666.0   \n",
       "1                     1463.0                     1626.0   \n",
       "2                     1743.0                     1833.0   \n",
       "3                     1364.0                     1500.0   \n",
       "4                     1637.0                     1740.0   \n",
       "\n",
       "   Other food at home (2019)  Other food at home (2020)  \\\n",
       "0                     1777.0                     2119.0   \n",
       "1                     1636.0                     1762.0   \n",
       "2                     2126.0                     2152.0   \n",
       "3                     1635.0                     1807.0   \n",
       "4                     1701.0                     1968.0   \n",
       "\n",
       "   Other food at home (2021)  Other food at home (2022)  \n",
       "0                     2174.0                     2035.0  \n",
       "1                     1887.0                     2051.0  \n",
       "2                     2001.0                     2317.0  \n",
       "3                     1994.0                     2163.0  \n",
       "4                     2230.0                     2252.0  \n",
       "\n",
       "[5 rows x 91 columns]"
      ]
     },
     "execution_count": 129,
     "metadata": {},
     "output_type": "execute_result"
    }
   ],
   "source": [
    "spendDf = pd.read_csv(Path(f\"resources/spending_2005-2022.csv\"),index_col = 'Item')\n",
    "spendDf = spendDf.loc[cats]\n",
    "yearAndCat = []\n",
    "for cat,year in zip(spendDf.index,spendDf['Year']):\n",
    "    ind = f'{cat} ({int(year)})'\n",
    "    yearAndCat.append(ind)\n",
    "spendDf.index = yearAndCat\n",
    "spendDf.drop(columns='Year',inplace=True)\n",
    "spendDf = spendDf.T\n",
    "spendDf = spendDf.reset_index().rename({'index':'City'},axis='columns')\n",
    "\n",
    "spendDf = spendDf.dropna(axis='index').reset_index(drop=True)\n",
    "spendDf.head()"
   ]
  },
  {
   "cell_type": "code",
   "execution_count": 130,
   "metadata": {},
   "outputs": [],
   "source": [
    "## maybe calculate average changes\n",
    "fullAvg = []\n",
    "for cat in cats:\n",
    "    temp = spendDf[[i for i in spendDf.columns if cat in i]]\n",
    "    catAvgChange = np.mean(np.diff(temp)/np.array(temp)[:,:17],axis=1)\n",
    "    spendDf[f'{cat} Average Change'] = catAvgChange*100\n",
    "    fullAvg.append(catAvgChange)\n",
    "spendDf['Average Change'] = np.mean(fullAvg,axis=0)*100"
   ]
  },
  {
   "cell_type": "code",
   "execution_count": 131,
   "metadata": {},
   "outputs": [
    {
     "data": {
      "text/html": [
       "<img src='data:image/png;base64,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' style='max-width:100%; margin: auto; display: block; '/>"
      ],
      "text/plain": [
       ":NdOverlay   [City]\n",
       "   :Scatter   [Meats, poultry, fish, and eggs (2022)]   (Fruits and vegetables (2022),Average Change)"
      ]
     },
     "execution_count": 131,
     "metadata": {
      "application/vnd.holoviews_exec.v0+json": {}
     },
     "output_type": "execute_result"
    }
   ],
   "source": [
    "spendDf.hvplot.scatter(\n",
    "    x=\"Meats, poultry, fish, and eggs (2022)\",\n",
    "    y=\"Fruits and vegetables (2022)\",\n",
    "    s='Average Change',\n",
    "    scale=50,\n",
    "    by=\"City\")"
   ]
  },
  {
   "cell_type": "code",
   "execution_count": 132,
   "metadata": {},
   "outputs": [
    {
     "data": {
      "text/html": [
       "<div>\n",
       "<style scoped>\n",
       "    .dataframe tbody tr th:only-of-type {\n",
       "        vertical-align: middle;\n",
       "    }\n",
       "\n",
       "    .dataframe tbody tr th {\n",
       "        vertical-align: top;\n",
       "    }\n",
       "\n",
       "    .dataframe thead th {\n",
       "        text-align: right;\n",
       "    }\n",
       "</style>\n",
       "<table border=\"1\" class=\"dataframe\">\n",
       "  <thead>\n",
       "    <tr style=\"text-align: right;\">\n",
       "      <th></th>\n",
       "      <th>Cereals and bakery products (2005)</th>\n",
       "      <th>Cereals and bakery products (2006)</th>\n",
       "      <th>Cereals and bakery products (2007)</th>\n",
       "      <th>Cereals and bakery products (2008)</th>\n",
       "      <th>Cereals and bakery products (2009)</th>\n",
       "      <th>Cereals and bakery products (2010)</th>\n",
       "      <th>Cereals and bakery products (2011)</th>\n",
       "      <th>Cereals and bakery products (2012)</th>\n",
       "      <th>Cereals and bakery products (2013)</th>\n",
       "      <th>Cereals and bakery products (2014)</th>\n",
       "      <th>...</th>\n",
       "      <th>City_Los Angeles</th>\n",
       "      <th>City_Miami</th>\n",
       "      <th>City_Minneapolis-St.Paul</th>\n",
       "      <th>City_New York</th>\n",
       "      <th>City_Philadelphia</th>\n",
       "      <th>City_Phoenix</th>\n",
       "      <th>City_San Diego</th>\n",
       "      <th>City_San Francisco</th>\n",
       "      <th>City_Seattle</th>\n",
       "      <th>City_Washington, D.C.</th>\n",
       "    </tr>\n",
       "  </thead>\n",
       "  <tbody>\n",
       "    <tr>\n",
       "      <th>0</th>\n",
       "      <td>473.0</td>\n",
       "      <td>491.0</td>\n",
       "      <td>537.0</td>\n",
       "      <td>561.0</td>\n",
       "      <td>584.0</td>\n",
       "      <td>615.0</td>\n",
       "      <td>602.0</td>\n",
       "      <td>596.0</td>\n",
       "      <td>664.0</td>\n",
       "      <td>661.0</td>\n",
       "      <td>...</td>\n",
       "      <td>0</td>\n",
       "      <td>0</td>\n",
       "      <td>0</td>\n",
       "      <td>0</td>\n",
       "      <td>0</td>\n",
       "      <td>0</td>\n",
       "      <td>0</td>\n",
       "      <td>0</td>\n",
       "      <td>0</td>\n",
       "      <td>0</td>\n",
       "    </tr>\n",
       "    <tr>\n",
       "      <th>1</th>\n",
       "      <td>545.0</td>\n",
       "      <td>527.0</td>\n",
       "      <td>579.0</td>\n",
       "      <td>628.0</td>\n",
       "      <td>540.0</td>\n",
       "      <td>546.0</td>\n",
       "      <td>573.0</td>\n",
       "      <td>583.0</td>\n",
       "      <td>618.0</td>\n",
       "      <td>544.0</td>\n",
       "      <td>...</td>\n",
       "      <td>0</td>\n",
       "      <td>0</td>\n",
       "      <td>0</td>\n",
       "      <td>0</td>\n",
       "      <td>0</td>\n",
       "      <td>0</td>\n",
       "      <td>0</td>\n",
       "      <td>0</td>\n",
       "      <td>0</td>\n",
       "      <td>0</td>\n",
       "    </tr>\n",
       "    <tr>\n",
       "      <th>2</th>\n",
       "      <td>493.0</td>\n",
       "      <td>470.0</td>\n",
       "      <td>517.0</td>\n",
       "      <td>536.0</td>\n",
       "      <td>518.0</td>\n",
       "      <td>582.0</td>\n",
       "      <td>632.0</td>\n",
       "      <td>639.0</td>\n",
       "      <td>582.0</td>\n",
       "      <td>525.0</td>\n",
       "      <td>...</td>\n",
       "      <td>0</td>\n",
       "      <td>0</td>\n",
       "      <td>1</td>\n",
       "      <td>0</td>\n",
       "      <td>0</td>\n",
       "      <td>0</td>\n",
       "      <td>0</td>\n",
       "      <td>0</td>\n",
       "      <td>0</td>\n",
       "      <td>0</td>\n",
       "    </tr>\n",
       "    <tr>\n",
       "      <th>3</th>\n",
       "      <td>568.0</td>\n",
       "      <td>533.0</td>\n",
       "      <td>528.0</td>\n",
       "      <td>535.0</td>\n",
       "      <td>558.0</td>\n",
       "      <td>565.0</td>\n",
       "      <td>597.0</td>\n",
       "      <td>601.0</td>\n",
       "      <td>590.0</td>\n",
       "      <td>609.0</td>\n",
       "      <td>...</td>\n",
       "      <td>0</td>\n",
       "      <td>0</td>\n",
       "      <td>0</td>\n",
       "      <td>1</td>\n",
       "      <td>0</td>\n",
       "      <td>0</td>\n",
       "      <td>0</td>\n",
       "      <td>0</td>\n",
       "      <td>0</td>\n",
       "      <td>0</td>\n",
       "    </tr>\n",
       "    <tr>\n",
       "      <th>4</th>\n",
       "      <td>522.0</td>\n",
       "      <td>454.0</td>\n",
       "      <td>408.0</td>\n",
       "      <td>467.0</td>\n",
       "      <td>526.0</td>\n",
       "      <td>523.0</td>\n",
       "      <td>529.0</td>\n",
       "      <td>605.0</td>\n",
       "      <td>656.0</td>\n",
       "      <td>613.0</td>\n",
       "      <td>...</td>\n",
       "      <td>0</td>\n",
       "      <td>0</td>\n",
       "      <td>0</td>\n",
       "      <td>0</td>\n",
       "      <td>1</td>\n",
       "      <td>0</td>\n",
       "      <td>0</td>\n",
       "      <td>0</td>\n",
       "      <td>0</td>\n",
       "      <td>0</td>\n",
       "    </tr>\n",
       "  </tbody>\n",
       "</table>\n",
       "<p>5 rows × 112 columns</p>\n",
       "</div>"
      ],
      "text/plain": [
       "   Cereals and bakery products (2005)  Cereals and bakery products (2006)  \\\n",
       "0                               473.0                               491.0   \n",
       "1                               545.0                               527.0   \n",
       "2                               493.0                               470.0   \n",
       "3                               568.0                               533.0   \n",
       "4                               522.0                               454.0   \n",
       "\n",
       "   Cereals and bakery products (2007)  Cereals and bakery products (2008)  \\\n",
       "0                               537.0                               561.0   \n",
       "1                               579.0                               628.0   \n",
       "2                               517.0                               536.0   \n",
       "3                               528.0                               535.0   \n",
       "4                               408.0                               467.0   \n",
       "\n",
       "   Cereals and bakery products (2009)  Cereals and bakery products (2010)  \\\n",
       "0                               584.0                               615.0   \n",
       "1                               540.0                               546.0   \n",
       "2                               518.0                               582.0   \n",
       "3                               558.0                               565.0   \n",
       "4                               526.0                               523.0   \n",
       "\n",
       "   Cereals and bakery products (2011)  Cereals and bakery products (2012)  \\\n",
       "0                               602.0                               596.0   \n",
       "1                               573.0                               583.0   \n",
       "2                               632.0                               639.0   \n",
       "3                               597.0                               601.0   \n",
       "4                               529.0                               605.0   \n",
       "\n",
       "   Cereals and bakery products (2013)  Cereals and bakery products (2014)  \\\n",
       "0                               664.0                               661.0   \n",
       "1                               618.0                               544.0   \n",
       "2                               582.0                               525.0   \n",
       "3                               590.0                               609.0   \n",
       "4                               656.0                               613.0   \n",
       "\n",
       "   ...  City_Los Angeles  City_Miami  City_Minneapolis-St.Paul  City_New York  \\\n",
       "0  ...                 0           0                         0              0   \n",
       "1  ...                 0           0                         0              0   \n",
       "2  ...                 0           0                         1              0   \n",
       "3  ...                 0           0                         0              1   \n",
       "4  ...                 0           0                         0              0   \n",
       "\n",
       "   City_Philadelphia  City_Phoenix  City_San Diego  City_San Francisco  \\\n",
       "0                  0             0               0                   0   \n",
       "1                  0             0               0                   0   \n",
       "2                  0             0               0                   0   \n",
       "3                  0             0               0                   0   \n",
       "4                  1             0               0                   0   \n",
       "\n",
       "   City_Seattle  City_Washington, D.C.  \n",
       "0             0                      0  \n",
       "1             0                      0  \n",
       "2             0                      0  \n",
       "3             0                      0  \n",
       "4             0                      0  \n",
       "\n",
       "[5 rows x 112 columns]"
      ]
     },
     "execution_count": 132,
     "metadata": {},
     "output_type": "execute_result"
    }
   ],
   "source": [
    "spendDfDummy = pd.get_dummies(spendDf)\n",
    "# StandardScaler().fit_transform(spendDfDummy)\n",
    "spendDfDummy.head()\n",
    "# spendDfDummy = spendDf.drop(columns='City')\n",
    "# spendDfDummy"
   ]
  },
  {
   "cell_type": "code",
   "execution_count": 133,
   "metadata": {},
   "outputs": [
    {
     "name": "stdout",
     "output_type": "stream",
     "text": [
      "[0 1 0 2 2 0 2 2 2 1 1 2 0 0 0 1]\n"
     ]
    }
   ],
   "source": [
    "model = KMeans(n_clusters=3, random_state=1)\n",
    "model.fit(spendDfDummy)\n",
    "clusters = model.predict(spendDfDummy)\n",
    "print(clusters)"
   ]
  },
  {
   "cell_type": "code",
   "execution_count": 134,
   "metadata": {},
   "outputs": [
    {
     "data": {
      "text/html": [
       "<img src='data:image/png;base64,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' style='max-width:100%; margin: auto; display: block; '/>"
      ],
      "text/plain": [
       ":NdOverlay   [Cluster]\n",
       "   :Scatter   [Meats, poultry, fish, and eggs (2022)]   (Fruits and vegetables (2022),City)"
      ]
     },
     "execution_count": 134,
     "metadata": {
      "application/vnd.holoviews_exec.v0+json": {}
     },
     "output_type": "execute_result"
    }
   ],
   "source": [
    "clusterDf = spendDf.copy()\n",
    "clusterDf['Cluster'] = clusters\n",
    "clusterDf.hvplot.scatter(\n",
    "    x=\"Meats, poultry, fish, and eggs (2022)\",\n",
    "    y=\"Fruits and vegetables (2022)\",\n",
    "    by=\"Cluster\",\n",
    "    hover_cols=['City'])"
   ]
  },
  {
   "cell_type": "code",
   "execution_count": 135,
   "metadata": {},
   "outputs": [
    {
     "data": {
      "text/plain": [
       "array([0.4732204 , 0.21885699, 0.10835317])"
      ]
     },
     "execution_count": 135,
     "metadata": {},
     "output_type": "execute_result"
    }
   ],
   "source": [
    "from sklearn.decomposition import PCA\n",
    "pca = PCA(n_components=3)\n",
    "spendPca = pca.fit_transform(spendDfDummy)\n",
    "pca.explained_variance_ratio_"
   ]
  },
  {
   "cell_type": "code",
   "execution_count": 136,
   "metadata": {},
   "outputs": [
    {
     "data": {
      "text/html": [
       "<div>\n",
       "<style scoped>\n",
       "    .dataframe tbody tr th:only-of-type {\n",
       "        vertical-align: middle;\n",
       "    }\n",
       "\n",
       "    .dataframe tbody tr th {\n",
       "        vertical-align: top;\n",
       "    }\n",
       "\n",
       "    .dataframe thead th {\n",
       "        text-align: right;\n",
       "    }\n",
       "</style>\n",
       "<table border=\"1\" class=\"dataframe\">\n",
       "  <thead>\n",
       "    <tr style=\"text-align: right;\">\n",
       "      <th></th>\n",
       "      <th>PCA1</th>\n",
       "      <th>PCA2</th>\n",
       "      <th>PCA3</th>\n",
       "    </tr>\n",
       "  </thead>\n",
       "  <tbody>\n",
       "    <tr>\n",
       "      <th>0</th>\n",
       "      <td>322.766633</td>\n",
       "      <td>253.550649</td>\n",
       "      <td>-388.691435</td>\n",
       "    </tr>\n",
       "    <tr>\n",
       "      <th>1</th>\n",
       "      <td>-302.439338</td>\n",
       "      <td>221.621004</td>\n",
       "      <td>-391.621210</td>\n",
       "    </tr>\n",
       "    <tr>\n",
       "      <th>2</th>\n",
       "      <td>413.076418</td>\n",
       "      <td>761.781164</td>\n",
       "      <td>20.110776</td>\n",
       "    </tr>\n",
       "    <tr>\n",
       "      <th>3</th>\n",
       "      <td>369.436832</td>\n",
       "      <td>-1007.285501</td>\n",
       "      <td>-353.576808</td>\n",
       "    </tr>\n",
       "    <tr>\n",
       "      <th>4</th>\n",
       "      <td>148.979148</td>\n",
       "      <td>-138.094588</td>\n",
       "      <td>386.433540</td>\n",
       "    </tr>\n",
       "  </tbody>\n",
       "</table>\n",
       "</div>"
      ],
      "text/plain": [
       "         PCA1         PCA2        PCA3\n",
       "0  322.766633   253.550649 -388.691435\n",
       "1 -302.439338   221.621004 -391.621210\n",
       "2  413.076418   761.781164   20.110776\n",
       "3  369.436832 -1007.285501 -353.576808\n",
       "4  148.979148  -138.094588  386.433540"
      ]
     },
     "execution_count": 136,
     "metadata": {},
     "output_type": "execute_result"
    }
   ],
   "source": [
    "# Create the PCA DataFrame\n",
    "spendPcaDf = pd.DataFrame(\n",
    "    spendPca,\n",
    "    columns=[\"PCA1\", \"PCA2\",'PCA3']\n",
    ")\n",
    "\n",
    "# Review the PCA DataFrame\n",
    "spendPcaDf.head()"
   ]
  },
  {
   "cell_type": "code",
   "execution_count": 137,
   "metadata": {},
   "outputs": [
    {
     "name": "stderr",
     "output_type": "stream",
     "text": [
      "c:\\Users\\shane\\anaconda3\\envs\\bootcamp\\lib\\site-packages\\sklearn\\cluster\\_kmeans.py:1036: UserWarning:\n",
      "\n",
      "KMeans is known to have a memory leak on Windows with MKL, when there are less chunks than available threads. You can avoid it by setting the environment variable OMP_NUM_THREADS=1.\n",
      "\n"
     ]
    },
    {
     "data": {
      "text/html": [
       "<div>\n",
       "<style scoped>\n",
       "    .dataframe tbody tr th:only-of-type {\n",
       "        vertical-align: middle;\n",
       "    }\n",
       "\n",
       "    .dataframe tbody tr th {\n",
       "        vertical-align: top;\n",
       "    }\n",
       "\n",
       "    .dataframe thead th {\n",
       "        text-align: right;\n",
       "    }\n",
       "</style>\n",
       "<table border=\"1\" class=\"dataframe\">\n",
       "  <thead>\n",
       "    <tr style=\"text-align: right;\">\n",
       "      <th></th>\n",
       "      <th>k</th>\n",
       "      <th>inertia</th>\n",
       "    </tr>\n",
       "  </thead>\n",
       "  <tbody>\n",
       "    <tr>\n",
       "      <th>0</th>\n",
       "      <td>1</td>\n",
       "      <td>2.572690e+07</td>\n",
       "    </tr>\n",
       "    <tr>\n",
       "      <th>1</th>\n",
       "      <td>2</td>\n",
       "      <td>1.550918e+07</td>\n",
       "    </tr>\n",
       "    <tr>\n",
       "      <th>2</th>\n",
       "      <td>3</td>\n",
       "      <td>1.080212e+07</td>\n",
       "    </tr>\n",
       "    <tr>\n",
       "      <th>3</th>\n",
       "      <td>4</td>\n",
       "      <td>8.462482e+06</td>\n",
       "    </tr>\n",
       "    <tr>\n",
       "      <th>4</th>\n",
       "      <td>5</td>\n",
       "      <td>6.301915e+06</td>\n",
       "    </tr>\n",
       "  </tbody>\n",
       "</table>\n",
       "</div>"
      ],
      "text/plain": [
       "   k       inertia\n",
       "0  1  2.572690e+07\n",
       "1  2  1.550918e+07\n",
       "2  3  1.080212e+07\n",
       "3  4  8.462482e+06\n",
       "4  5  6.301915e+06"
      ]
     },
     "execution_count": 137,
     "metadata": {},
     "output_type": "execute_result"
    }
   ],
   "source": [
    "# Create a a list to store inertia values and the values of k\n",
    "inertia = []\n",
    "k = list(range(1, 11))\n",
    "\n",
    "# Append the value of the computed inertia from the `inertia_` attribute of teh KMeans model instance\n",
    "for i in k:\n",
    "    k_model = KMeans(n_clusters=i, random_state=1)\n",
    "    k_model.fit(spendPcaDf)\n",
    "    inertia.append(k_model.inertia_)\n",
    "\n",
    "# Define a DataFrame to hold the values for k and the corresponding inertia\n",
    "elbow_data = {\"k\": k, \"inertia\": inertia}\n",
    "df_elbow = pd.DataFrame(elbow_data)\n",
    "\n",
    "# Review the DataFrame\n",
    "df_elbow.head()"
   ]
  },
  {
   "cell_type": "code",
   "execution_count": 138,
   "metadata": {},
   "outputs": [
    {
     "data": {
      "text/html": [
       "<img src='data:image/png;base64,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' style='max-width:100%; margin: auto; display: block; '/>"
      ],
      "text/plain": [
       ":Curve   [k]   (inertia)"
      ]
     },
     "execution_count": 138,
     "metadata": {
      "application/vnd.holoviews_exec.v0+json": {}
     },
     "output_type": "execute_result"
    }
   ],
   "source": [
    "# Plot the Elbow Curve\n",
    "df_elbow.hvplot.line(\n",
    "    x=\"k\", \n",
    "    y=\"inertia\", \n",
    "    title=\"Elbow Curve\", \n",
    "    xticks=k\n",
    ")"
   ]
  },
  {
   "cell_type": "code",
   "execution_count": 139,
   "metadata": {},
   "outputs": [],
   "source": [
    "# Define the model with 3 clusters\n",
    "model = KMeans(n_clusters=3, random_state=0)\n",
    "\n",
    "# Fit the model\n",
    "model.fit(spendPcaDf)\n",
    "\n",
    "# Make predictions\n",
    "k_3 = model.predict(spendPcaDf)\n",
    "\n",
    "# Create a copy of the PCA DataFrame\n",
    "spendPcaDf_pred = spendPcaDf.copy()\n",
    "\n",
    "# Add a class column with the labels\n",
    "spendPcaDf_pred[\"customer_segments\"] = k_3\n",
    "\n",
    "# spendPcaDf_pred['City'] = spendDf['City']\n",
    "spendPcaDf_pred = pd.merge(spendPcaDf_pred,spendDf,left_index=True,right_index=True)\n",
    "\n",
    "# fullAvg = []\n",
    "# for cat in cats:\n",
    "#     temp = spendPcaDf_pred[[i for i in spendPcaDf_pred.columns if cat in i]]\n",
    "#     catAvgChange = np.mean(np.diff(temp)/np.array(temp)[:,:17],axis=1)\n",
    "#     spendPcaDf_pred[f'{cat} Average Change'] = catAvgChange\n",
    "#     fullAvg.append(catAvgChange)\n",
    "# spendPcaDf_pred['Average Change'] = np.mean(fullAvg,axis=0)*100\n"
   ]
  },
  {
   "cell_type": "code",
   "execution_count": 140,
   "metadata": {},
   "outputs": [
    {
     "data": {
      "text/html": [
       "<img src='data:image/png;base64,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' style='max-width:100%; margin: auto; display: block; '/>"
      ],
      "text/plain": [
       ":NdOverlay   [customer_segments]\n",
       "   :Scatter   [PCA1]   (PCA2,Average Change,City)"
      ]
     },
     "execution_count": 140,
     "metadata": {
      "application/vnd.holoviews_exec.v0+json": {}
     },
     "output_type": "execute_result"
    }
   ],
   "source": [
    "spendPcaDf_pred.hvplot.scatter(\n",
    "    x=\"PCA1\",\n",
    "    y=\"PCA2\",\n",
    "    s = 'Average Change',\n",
    "    scale = 50,\n",
    "    by=\"customer_segments\",\n",
    "    hover_cols=['City']\n",
    "\n",
    ")\n"
   ]
  },
  {
   "cell_type": "code",
   "execution_count": 141,
   "metadata": {},
   "outputs": [
    {
     "data": {
      "application/vnd.plotly.v1+json": {
       "config": {
        "plotlyServerURL": "https://plot.ly"
       },
       "data": [
        {
         "hovertemplate": "<b>%{hovertext}</b><br><br>PCA1=%{x}<br>PCA2=%{y}<br>PCA3=%{z}<br>Average Change=%{marker.size}<br>customer_segments=%{marker.color}<extra></extra>",
         "hovertext": [
          "Chicago",
          "Detroit",
          "Minneapolis-St.Paul",
          "New York",
          "Philadelphia",
          "Washington, D.C.",
          "Baltimore",
          "Atlanta",
          "Miami",
          "Dallas-Fort Worth",
          "Houston",
          "Los Angeles",
          "San Francisco",
          "San Diego",
          "Seattle",
          "Phoenix"
         ],
         "legendgroup": "",
         "marker": {
          "color": [
           0,
           2,
           0,
           2,
           2,
           0,
           2,
           2,
           2,
           1,
           1,
           2,
           0,
           0,
           0,
           1
          ],
          "coloraxis": "coloraxis",
          "size": [
           2.898335712719181,
           2.0237933688584353,
           3.1270478911032606,
           3.0089587377816094,
           3.3264326514526226,
           4.704411282603245,
           5.453194623261933,
           4.961806475376079,
           2.6042128701568896,
           2.155333261927725,
           1.2189614174169454,
           2.3212387672451347,
           4.6757017260796685,
           3.9058913463857703,
           3.5124032663895286,
           1.9044566961762506
          ],
          "sizemode": "area",
          "sizeref": 0.013632986558154831,
          "symbol": "circle"
         },
         "mode": "markers",
         "name": "",
         "scene": "scene",
         "showlegend": false,
         "type": "scatter3d",
         "x": [
          322.76663332180794,
          -302.43933842755456,
          413.07641778659666,
          369.4368316530746,
          148.97914759196482,
          973.283088185138,
          -205.64768927085623,
          -544.6615457922526,
          -1080.4389643804209,
          -1469.0084725117847,
          -1671.4059409761533,
          -91.73886818178948,
          1658.8705652125163,
          814.5619715741059,
          1680.393380397792,
          -1016.0272161821828
         ],
         "y": [
          253.55064890591743,
          221.62100354017542,
          761.7811637660344,
          -1007.2855012490763,
          -138.09458782452208,
          -86.21198994294873,
          -219.8161077541836,
          -768.7294783945247,
          -1100.0957519988285,
          337.925860618853,
          645.9521508026082,
          -258.0194008159356,
          -841.7003045678497,
          199.53271873567587,
          1228.4465551799092,
          771.1430209986968
         ],
         "z": [
          -388.69143498793255,
          -391.62121038343884,
          20.110776097140004,
          -353.57680754761185,
          386.43354041917956,
          -35.41332450122538,
          440.19007060282297,
          1027.6681243862322,
          -150.20434713991608,
          -168.45119557392766,
          -38.08253839634654,
          -597.7874177154264,
          -523.3718804525084,
          955.2430319266571,
          49.317788697841515,
          -231.76317543154
         ]
        }
       ],
       "layout": {
        "coloraxis": {
         "colorbar": {
          "title": {
           "text": "customer_segments"
          }
         },
         "colorscale": [
          [
           0,
           "rgb(150,0,90)"
          ],
          [
           0.125,
           "rgb(0,0,200)"
          ],
          [
           0.25,
           "rgb(0,25,255)"
          ],
          [
           0.375,
           "rgb(0,152,255)"
          ],
          [
           0.5,
           "rgb(44,255,150)"
          ],
          [
           0.625,
           "rgb(151,255,0)"
          ],
          [
           0.75,
           "rgb(255,234,0)"
          ],
          [
           0.875,
           "rgb(255,111,0)"
          ],
          [
           1,
           "rgb(255,0,0)"
          ]
         ]
        },
        "legend": {
         "itemsizing": "constant",
         "tracegroupgap": 0
        },
        "margin": {
         "t": 60
        },
        "scene": {
         "domain": {
          "x": [
           0,
           1
          ],
          "y": [
           0,
           1
          ]
         },
         "xaxis": {
          "title": {
           "text": "PCA1"
          }
         },
         "yaxis": {
          "title": {
           "text": "PCA2"
          }
         },
         "zaxis": {
          "title": {
           "text": "PCA3"
          }
         }
        },
        "template": {
         "data": {
          "bar": [
           {
            "error_x": {
             "color": "#2a3f5f"
            },
            "error_y": {
             "color": "#2a3f5f"
            },
            "marker": {
             "line": {
              "color": "#E5ECF6",
              "width": 0.5
             },
             "pattern": {
              "fillmode": "overlay",
              "size": 10,
              "solidity": 0.2
             }
            },
            "type": "bar"
           }
          ],
          "barpolar": [
           {
            "marker": {
             "line": {
              "color": "#E5ECF6",
              "width": 0.5
             },
             "pattern": {
              "fillmode": "overlay",
              "size": 10,
              "solidity": 0.2
             }
            },
            "type": "barpolar"
           }
          ],
          "carpet": [
           {
            "aaxis": {
             "endlinecolor": "#2a3f5f",
             "gridcolor": "white",
             "linecolor": "white",
             "minorgridcolor": "white",
             "startlinecolor": "#2a3f5f"
            },
            "baxis": {
             "endlinecolor": "#2a3f5f",
             "gridcolor": "white",
             "linecolor": "white",
             "minorgridcolor": "white",
             "startlinecolor": "#2a3f5f"
            },
            "type": "carpet"
           }
          ],
          "choropleth": [
           {
            "colorbar": {
             "outlinewidth": 0,
             "ticks": ""
            },
            "type": "choropleth"
           }
          ],
          "contour": [
           {
            "colorbar": {
             "outlinewidth": 0,
             "ticks": ""
            },
            "colorscale": [
             [
              0,
              "#0d0887"
             ],
             [
              0.1111111111111111,
              "#46039f"
             ],
             [
              0.2222222222222222,
              "#7201a8"
             ],
             [
              0.3333333333333333,
              "#9c179e"
             ],
             [
              0.4444444444444444,
              "#bd3786"
             ],
             [
              0.5555555555555556,
              "#d8576b"
             ],
             [
              0.6666666666666666,
              "#ed7953"
             ],
             [
              0.7777777777777778,
              "#fb9f3a"
             ],
             [
              0.8888888888888888,
              "#fdca26"
             ],
             [
              1,
              "#f0f921"
             ]
            ],
            "type": "contour"
           }
          ],
          "contourcarpet": [
           {
            "colorbar": {
             "outlinewidth": 0,
             "ticks": ""
            },
            "type": "contourcarpet"
           }
          ],
          "heatmap": [
           {
            "colorbar": {
             "outlinewidth": 0,
             "ticks": ""
            },
            "colorscale": [
             [
              0,
              "#0d0887"
             ],
             [
              0.1111111111111111,
              "#46039f"
             ],
             [
              0.2222222222222222,
              "#7201a8"
             ],
             [
              0.3333333333333333,
              "#9c179e"
             ],
             [
              0.4444444444444444,
              "#bd3786"
             ],
             [
              0.5555555555555556,
              "#d8576b"
             ],
             [
              0.6666666666666666,
              "#ed7953"
             ],
             [
              0.7777777777777778,
              "#fb9f3a"
             ],
             [
              0.8888888888888888,
              "#fdca26"
             ],
             [
              1,
              "#f0f921"
             ]
            ],
            "type": "heatmap"
           }
          ],
          "heatmapgl": [
           {
            "colorbar": {
             "outlinewidth": 0,
             "ticks": ""
            },
            "colorscale": [
             [
              0,
              "#0d0887"
             ],
             [
              0.1111111111111111,
              "#46039f"
             ],
             [
              0.2222222222222222,
              "#7201a8"
             ],
             [
              0.3333333333333333,
              "#9c179e"
             ],
             [
              0.4444444444444444,
              "#bd3786"
             ],
             [
              0.5555555555555556,
              "#d8576b"
             ],
             [
              0.6666666666666666,
              "#ed7953"
             ],
             [
              0.7777777777777778,
              "#fb9f3a"
             ],
             [
              0.8888888888888888,
              "#fdca26"
             ],
             [
              1,
              "#f0f921"
             ]
            ],
            "type": "heatmapgl"
           }
          ],
          "histogram": [
           {
            "marker": {
             "pattern": {
              "fillmode": "overlay",
              "size": 10,
              "solidity": 0.2
             }
            },
            "type": "histogram"
           }
          ],
          "histogram2d": [
           {
            "colorbar": {
             "outlinewidth": 0,
             "ticks": ""
            },
            "colorscale": [
             [
              0,
              "#0d0887"
             ],
             [
              0.1111111111111111,
              "#46039f"
             ],
             [
              0.2222222222222222,
              "#7201a8"
             ],
             [
              0.3333333333333333,
              "#9c179e"
             ],
             [
              0.4444444444444444,
              "#bd3786"
             ],
             [
              0.5555555555555556,
              "#d8576b"
             ],
             [
              0.6666666666666666,
              "#ed7953"
             ],
             [
              0.7777777777777778,
              "#fb9f3a"
             ],
             [
              0.8888888888888888,
              "#fdca26"
             ],
             [
              1,
              "#f0f921"
             ]
            ],
            "type": "histogram2d"
           }
          ],
          "histogram2dcontour": [
           {
            "colorbar": {
             "outlinewidth": 0,
             "ticks": ""
            },
            "colorscale": [
             [
              0,
              "#0d0887"
             ],
             [
              0.1111111111111111,
              "#46039f"
             ],
             [
              0.2222222222222222,
              "#7201a8"
             ],
             [
              0.3333333333333333,
              "#9c179e"
             ],
             [
              0.4444444444444444,
              "#bd3786"
             ],
             [
              0.5555555555555556,
              "#d8576b"
             ],
             [
              0.6666666666666666,
              "#ed7953"
             ],
             [
              0.7777777777777778,
              "#fb9f3a"
             ],
             [
              0.8888888888888888,
              "#fdca26"
             ],
             [
              1,
              "#f0f921"
             ]
            ],
            "type": "histogram2dcontour"
           }
          ],
          "mesh3d": [
           {
            "colorbar": {
             "outlinewidth": 0,
             "ticks": ""
            },
            "type": "mesh3d"
           }
          ],
          "parcoords": [
           {
            "line": {
             "colorbar": {
              "outlinewidth": 0,
              "ticks": ""
             }
            },
            "type": "parcoords"
           }
          ],
          "pie": [
           {
            "automargin": true,
            "type": "pie"
           }
          ],
          "scatter": [
           {
            "fillpattern": {
             "fillmode": "overlay",
             "size": 10,
             "solidity": 0.2
            },
            "type": "scatter"
           }
          ],
          "scatter3d": [
           {
            "line": {
             "colorbar": {
              "outlinewidth": 0,
              "ticks": ""
             }
            },
            "marker": {
             "colorbar": {
              "outlinewidth": 0,
              "ticks": ""
             }
            },
            "type": "scatter3d"
           }
          ],
          "scattercarpet": [
           {
            "marker": {
             "colorbar": {
              "outlinewidth": 0,
              "ticks": ""
             }
            },
            "type": "scattercarpet"
           }
          ],
          "scattergeo": [
           {
            "marker": {
             "colorbar": {
              "outlinewidth": 0,
              "ticks": ""
             }
            },
            "type": "scattergeo"
           }
          ],
          "scattergl": [
           {
            "marker": {
             "colorbar": {
              "outlinewidth": 0,
              "ticks": ""
             }
            },
            "type": "scattergl"
           }
          ],
          "scattermapbox": [
           {
            "marker": {
             "colorbar": {
              "outlinewidth": 0,
              "ticks": ""
             }
            },
            "type": "scattermapbox"
           }
          ],
          "scatterpolar": [
           {
            "marker": {
             "colorbar": {
              "outlinewidth": 0,
              "ticks": ""
             }
            },
            "type": "scatterpolar"
           }
          ],
          "scatterpolargl": [
           {
            "marker": {
             "colorbar": {
              "outlinewidth": 0,
              "ticks": ""
             }
            },
            "type": "scatterpolargl"
           }
          ],
          "scatterternary": [
           {
            "marker": {
             "colorbar": {
              "outlinewidth": 0,
              "ticks": ""
             }
            },
            "type": "scatterternary"
           }
          ],
          "surface": [
           {
            "colorbar": {
             "outlinewidth": 0,
             "ticks": ""
            },
            "colorscale": [
             [
              0,
              "#0d0887"
             ],
             [
              0.1111111111111111,
              "#46039f"
             ],
             [
              0.2222222222222222,
              "#7201a8"
             ],
             [
              0.3333333333333333,
              "#9c179e"
             ],
             [
              0.4444444444444444,
              "#bd3786"
             ],
             [
              0.5555555555555556,
              "#d8576b"
             ],
             [
              0.6666666666666666,
              "#ed7953"
             ],
             [
              0.7777777777777778,
              "#fb9f3a"
             ],
             [
              0.8888888888888888,
              "#fdca26"
             ],
             [
              1,
              "#f0f921"
             ]
            ],
            "type": "surface"
           }
          ],
          "table": [
           {
            "cells": {
             "fill": {
              "color": "#EBF0F8"
             },
             "line": {
              "color": "white"
             }
            },
            "header": {
             "fill": {
              "color": "#C8D4E3"
             },
             "line": {
              "color": "white"
             }
            },
            "type": "table"
           }
          ]
         },
         "layout": {
          "annotationdefaults": {
           "arrowcolor": "#2a3f5f",
           "arrowhead": 0,
           "arrowwidth": 1
          },
          "autotypenumbers": "strict",
          "coloraxis": {
           "colorbar": {
            "outlinewidth": 0,
            "ticks": ""
           }
          },
          "colorscale": {
           "diverging": [
            [
             0,
             "#8e0152"
            ],
            [
             0.1,
             "#c51b7d"
            ],
            [
             0.2,
             "#de77ae"
            ],
            [
             0.3,
             "#f1b6da"
            ],
            [
             0.4,
             "#fde0ef"
            ],
            [
             0.5,
             "#f7f7f7"
            ],
            [
             0.6,
             "#e6f5d0"
            ],
            [
             0.7,
             "#b8e186"
            ],
            [
             0.8,
             "#7fbc41"
            ],
            [
             0.9,
             "#4d9221"
            ],
            [
             1,
             "#276419"
            ]
           ],
           "sequential": [
            [
             0,
             "#0d0887"
            ],
            [
             0.1111111111111111,
             "#46039f"
            ],
            [
             0.2222222222222222,
             "#7201a8"
            ],
            [
             0.3333333333333333,
             "#9c179e"
            ],
            [
             0.4444444444444444,
             "#bd3786"
            ],
            [
             0.5555555555555556,
             "#d8576b"
            ],
            [
             0.6666666666666666,
             "#ed7953"
            ],
            [
             0.7777777777777778,
             "#fb9f3a"
            ],
            [
             0.8888888888888888,
             "#fdca26"
            ],
            [
             1,
             "#f0f921"
            ]
           ],
           "sequentialminus": [
            [
             0,
             "#0d0887"
            ],
            [
             0.1111111111111111,
             "#46039f"
            ],
            [
             0.2222222222222222,
             "#7201a8"
            ],
            [
             0.3333333333333333,
             "#9c179e"
            ],
            [
             0.4444444444444444,
             "#bd3786"
            ],
            [
             0.5555555555555556,
             "#d8576b"
            ],
            [
             0.6666666666666666,
             "#ed7953"
            ],
            [
             0.7777777777777778,
             "#fb9f3a"
            ],
            [
             0.8888888888888888,
             "#fdca26"
            ],
            [
             1,
             "#f0f921"
            ]
           ]
          },
          "colorway": [
           "#636efa",
           "#EF553B",
           "#00cc96",
           "#ab63fa",
           "#FFA15A",
           "#19d3f3",
           "#FF6692",
           "#B6E880",
           "#FF97FF",
           "#FECB52"
          ],
          "font": {
           "color": "#2a3f5f"
          },
          "geo": {
           "bgcolor": "white",
           "lakecolor": "white",
           "landcolor": "#E5ECF6",
           "showlakes": true,
           "showland": true,
           "subunitcolor": "white"
          },
          "hoverlabel": {
           "align": "left"
          },
          "hovermode": "closest",
          "mapbox": {
           "style": "light"
          },
          "paper_bgcolor": "white",
          "plot_bgcolor": "#E5ECF6",
          "polar": {
           "angularaxis": {
            "gridcolor": "white",
            "linecolor": "white",
            "ticks": ""
           },
           "bgcolor": "#E5ECF6",
           "radialaxis": {
            "gridcolor": "white",
            "linecolor": "white",
            "ticks": ""
           }
          },
          "scene": {
           "xaxis": {
            "backgroundcolor": "#E5ECF6",
            "gridcolor": "white",
            "gridwidth": 2,
            "linecolor": "white",
            "showbackground": true,
            "ticks": "",
            "zerolinecolor": "white"
           },
           "yaxis": {
            "backgroundcolor": "#E5ECF6",
            "gridcolor": "white",
            "gridwidth": 2,
            "linecolor": "white",
            "showbackground": true,
            "ticks": "",
            "zerolinecolor": "white"
           },
           "zaxis": {
            "backgroundcolor": "#E5ECF6",
            "gridcolor": "white",
            "gridwidth": 2,
            "linecolor": "white",
            "showbackground": true,
            "ticks": "",
            "zerolinecolor": "white"
           }
          },
          "shapedefaults": {
           "line": {
            "color": "#2a3f5f"
           }
          },
          "ternary": {
           "aaxis": {
            "gridcolor": "white",
            "linecolor": "white",
            "ticks": ""
           },
           "baxis": {
            "gridcolor": "white",
            "linecolor": "white",
            "ticks": ""
           },
           "bgcolor": "#E5ECF6",
           "caxis": {
            "gridcolor": "white",
            "linecolor": "white",
            "ticks": ""
           }
          },
          "title": {
           "x": 0.05
          },
          "xaxis": {
           "automargin": true,
           "gridcolor": "white",
           "linecolor": "white",
           "ticks": "",
           "title": {
            "standoff": 15
           },
           "zerolinecolor": "white",
           "zerolinewidth": 2
          },
          "yaxis": {
           "automargin": true,
           "gridcolor": "white",
           "linecolor": "white",
           "ticks": "",
           "title": {
            "standoff": 15
           },
           "zerolinecolor": "white",
           "zerolinewidth": 2
          }
         }
        }
       }
      }
     },
     "metadata": {},
     "output_type": "display_data"
    }
   ],
   "source": [
    "import plotly.express as px\n",
    "\n",
    "pcaPriceDfPredictionsPlot = spendPcaDf_pred.reset_index()\n",
    "# fig = px.scatter_3d(spendPcaDf_pred, x=\"Cereals and bakery products Average Change\", y=\"Fruits and vegetables Average Change\", z=\"Meats, poultry, fish, and eggs Average Change\",size = 'Average Change',\n",
    "#                     color='customer_segments',color_continuous_scale= px.colors.sequential.Rainbow,hover_name='City')\n",
    "fig = px.scatter_3d(spendPcaDf_pred, x=\"PCA1\", y=\"PCA2\", z=\"PCA3\",size = 'Average Change',\n",
    "                    color='customer_segments',color_continuous_scale= px.colors.sequential.Rainbow,hover_name='City')\n",
    "\n",
    "fig.show()"
   ]
  },
  {
   "cell_type": "code",
   "execution_count": null,
   "metadata": {},
   "outputs": [],
   "source": []
  }
 ],
 "metadata": {
  "kernelspec": {
   "display_name": "bootcamp",
   "language": "python",
   "name": "python3"
  },
  "language_info": {
   "codemirror_mode": {
    "name": "ipython",
    "version": 3
   },
   "file_extension": ".py",
   "mimetype": "text/x-python",
   "name": "python",
   "nbconvert_exporter": "python",
   "pygments_lexer": "ipython3",
   "version": "3.9.13"
  }
 },
 "nbformat": 4,
 "nbformat_minor": 2
}
